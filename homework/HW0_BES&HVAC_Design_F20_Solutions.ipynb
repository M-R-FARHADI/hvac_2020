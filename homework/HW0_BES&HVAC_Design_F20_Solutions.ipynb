{
 "cells": [
  {
   "cell_type": "markdown",
   "metadata": {
    "colab_type": "text",
    "id": "6ja6S3Po4C9I"
   },
   "source": [
    "<p><img alt=\"caee logo\" src=\"https://drive.google.com/uc?export=view&id=1bLjob5TsJBD3tWzNKzi6sbseyXsm6eb-\" align=\"left\" hspace=\"10px\" vspace=\"0px\"></p>\n",
    "<p><img alt=\"iel logo\" src=\"https://drive.google.com/uc?export=view&id=1uoCP8K9MyHTmU5nnpdlZoprhO8Bm5Yq5\" align=\"right\" hspace=\"10px\" vspace=\"0px\"></p>\n",
    "<h2 align='center'>Homework 0: Python Introduction</h2>"
   ]
  },
  {
   "cell_type": "markdown",
   "metadata": {
    "colab_type": "text",
    "id": "KIdwAKalZlcY"
   },
   "source": [
    "ARE 346N Building Environmental Systems\n",
    "\n",
    "\n",
    "Professor Dr. Zoltan Nagy\n"
   ]
  },
  {
   "cell_type": "markdown",
   "metadata": {
    "colab_type": "text",
    "id": "4rVMs5nJMWRF"
   },
   "source": [
    "# Instructions\n",
    "\n",
    "Solve each of the following problems and show your work. Make sure to label each answer with the same label as the problem.\n",
    "\n",
    "You will be graded on both the correct method and solution. Partial credit is awarded for use of the correct equation or method, and the correct answer with appropriate units. \n",
    "\n",
    "This assignment includes *eight* problems.\n",
    "\n",
    "| PROBLEM | POINTS |\n",
    "| --- | --- |\n",
    "| Problem 1 | 10 pts |\n",
    "| Problem 2 | 15 pts |\n",
    "| Problem 3 | 10 pts |\n",
    "| Problem 4 | 15 pts |\n",
    "| Problem 5 | 15 pts |\n",
    "| Problem 6 | 15 pts |\n",
    "| Problem 7 | 20 pts |\n",
    "| **TOTAL** | **100 pts** |"
   ]
  },
  {
   "cell_type": "markdown",
   "metadata": {
    "colab_type": "text",
    "id": "U8_unHPOafS8"
   },
   "source": [
    "# **Problems**"
   ]
  },
  {
   "cell_type": "markdown",
   "metadata": {
    "colab_type": "text",
    "id": "0vx3TnuXAogv"
   },
   "source": [
    "## Problem 1 - Creating a short program using `if` statements\n",
    "\n",
    "---\n",
    "\n",
    "Write a Python code  allows user to convert cooling/heating capacity from btu/hr to kW. Your input can be any variable related to energy such as cooling/heating capacities. \n",
    "$$\n",
    "P(kW) = \\left ( \\frac{P[Btu/hr]}{3412.142} \\right)\n",
    "$$\n"
   ]
  },
  {
   "cell_type": "code",
   "execution_count": null,
   "metadata": {
    "colab": {
     "base_uri": "https://localhost:8080/",
     "height": 51
    },
    "colab_type": "code",
    "id": "v68cVNzeA8yg",
    "outputId": "69a38ea8-36ec-4b14-dced-d6d2910a23f8"
   },
   "outputs": [
    {
     "name": "stdout",
     "output_type": "stream",
     "text": [
      "Input the energy you like to convert? (e.g., 100btu/hr, 1000kW etc.) : 100kW\n",
      "The energy in Btu/hr is 341214\n"
     ]
    }
   ],
   "source": [
    "cooling_capacity = input(\"Input the energy you like to convert? (e.g., 100btu/hr, 1000kW etc.) : \") \n",
    "input_convert = cooling_capacity[-2:]\n",
    "\n",
    "if input_convert == \"hr\":\n",
    "  result = int(int(cooling_capacity[:-6])/ 3412.142)\n",
    "  output_convert = \"kW\"\n",
    "elif input_convert == \"kW\":\n",
    "  result = int(int(cooling_capacity[:-2])* 3412.142)\n",
    "  output_convert = \"Btu/hr\"\n",
    "else:\n",
    "  print(\"Input proper convention.\")\n",
    "  quit()\n",
    "print(\"The energy in\", output_convert, \"is\", result)\n"
   ]
  },
  {
   "cell_type": "markdown",
   "metadata": {
    "colab_type": "text",
    "id": "MeE39azs4oct"
   },
   "source": [
    "## Problem 2 - Creating a short program using `if` statements\n",
    "\n",
    "---\n",
    "\n",
    "Consider the following assessment criteria which assess the thermal comfort.\n",
    "\n",
    "| Thermal comfort   | Fanger Seven Point Scale   ($-3<$ and $< 3$)      |\n",
    "| ---------------- | ---------------------- |\n",
    "| Cold        | $= -3$            |\n",
    "| Cool        | $= -2$  |\n",
    "| Slightly Cool            | $= -1$   |\n",
    "| Neutral | $= 0$    |\n",
    "| Slightly Warm     | $= +1$  |\n",
    "| Warm     | $= +2$  |\n",
    "| Hot    | $= +3$              |\n",
    "\n",
    "Write a program that using `if`, `elif`, and `else` that asks for user input and prints the appropriate thermal comfort. Print an error message if the input is greater than +3 or less than -3.\n"
   ]
  },
  {
   "cell_type": "code",
   "execution_count": null,
   "metadata": {
    "colab": {
     "base_uri": "https://localhost:8080/",
     "height": 51
    },
    "colab_type": "code",
    "id": "63ohImTqFSxn",
    "outputId": "31721a9f-f729-4b8d-f21a-7bc3be886a92"
   },
   "outputs": [
    {
     "name": "stdout",
     "output_type": "stream",
     "text": [
      "How do you feel? Please provide a number that shows your comfort criteria: 5\n",
      "Out of the scale, There is an error in your input\n"
     ]
    }
   ],
   "source": [
    "thermal_comfort = float(input(\"How do you feel? Please provide a number that shows your comfort criteria: \"))\n",
    "if (thermal_comfort == -3):\n",
    "    print('If I understand correct, you are feeling cold')\n",
    "elif (thermal_comfort == -2):  \n",
    "    print('If I understand correct, you are feeling cool')\n",
    "elif (thermal_comfort == -1):  \n",
    "    print('If I understand correct, you are feeling slightly Cool')\n",
    "elif (thermal_comfort == -0):  \n",
    "    print('If I understand correct, you are feeling slightly Neutral')   \n",
    "elif (thermal_comfort == 1):  \n",
    "   print('If I understand correct, you are feeling slightly Slightly Warm')\n",
    "elif (thermal_comfort == 2):  \n",
    "    print('If I understand correct, you are feeling warm') \n",
    "elif (thermal_comfort == 3):  \n",
    "    print('If I understand correct, you are feeling hot')\n",
    "else:\n",
    "    print(\"Out of the scale, There is an error in your input\")\n"
   ]
  },
  {
   "cell_type": "markdown",
   "metadata": {
    "colab_type": "text",
    "id": "8Q-zAbOIUE-1"
   },
   "source": [
    "## Problem 3 - Complex Order of Operations\n",
    "\n",
    "For the polynomial \n",
    "\\begin{align}\n",
    "f(x, y, z) &= (x + y+ z )^{4} \n",
    "\\\\\n",
    "&=  x^4 + y^4 +z^4 + 4x^{3}y + 4xy^{3}+ 4y^{3}x + 4yz^{3} +4z^{3}x+4x^{3}z+6x^{2}y^{2}+6y^{2}z^{2}+6z^{2}x^{2}+12x^{2}yz+12xy^{2}z+12xyz^{2}\n",
    "\\end{align}\n",
    "\n",
    "compute $f$ using: (i) the compact form $(x + y+ z)^{4}$; and (ii) the expanded form for:\n",
    "\n",
    "\n",
    "\n",
    "$x = 3$ and $y = 4.1$ and $z = 5.6$\n",
    "\n",
    "and compare the number of significant digits for which the answers are the same.\n",
    "\n",
    "Store the answer for the compact version using the variable `f0`, and using the variable `f1` for the expanded version.\n",
    "\n",
    "For case (b), compare the computed and analytical solutions and consider the relative error.\n",
    "Which approach would you recommend for computing this expression?"
   ]
  },
  {
   "cell_type": "code",
   "execution_count": null,
   "metadata": {
    "colab": {},
    "colab_type": "code",
    "id": "i3D1ElSYXKMf"
   },
   "outputs": [],
   "source": [
    "x = 3\n",
    "y = 4.1\n",
    "z = 5.6\n",
    "\n",
    "\n",
    "f0 = (x+y+z)**4\n",
    "f1 = (x**4+ y**4+z**4+ 4*(x**3)*y+4*x*(y**3)+4*(y**3)*x+4*y*(z**3)+4*(z**3)*x+4*(x**3)*z+6*(x**2)*(y**2)+6*(y**2)*(z**2)+6*(z**2)*(x**2)+12*(x**2)*y*z+12*x*(y**2)*z+12*x*y*(z**2))\n"
   ]
  },
  {
   "cell_type": "code",
   "execution_count": null,
   "metadata": {
    "colab": {
     "base_uri": "https://localhost:8080/",
     "height": 34
    },
    "colab_type": "code",
    "id": "cAI87TysnOtP",
    "outputId": "36497c39-13d7-4347-98d8-2acdd19b0325"
   },
   "outputs": [
    {
     "data": {
      "text/plain": [
       "26014.464099999994"
      ]
     },
     "execution_count": 50,
     "metadata": {
      "tags": []
     },
     "output_type": "execute_result"
    }
   ],
   "source": [
    "f0"
   ]
  },
  {
   "cell_type": "code",
   "execution_count": null,
   "metadata": {
    "colab": {
     "base_uri": "https://localhost:8080/",
     "height": 34
    },
    "colab_type": "code",
    "id": "Prb5SzhtpPAa",
    "outputId": "fadf0ccd-aea8-4ad5-c234-d0d46bb72e40"
   },
   "outputs": [
    {
     "data": {
      "text/plain": [
       "25297.685699999995"
      ]
     },
     "execution_count": 72,
     "metadata": {
      "tags": []
     },
     "output_type": "execute_result"
    }
   ],
   "source": [
    "f1"
   ]
  },
  {
   "cell_type": "code",
   "execution_count": null,
   "metadata": {
    "colab": {
     "base_uri": "https://localhost:8080/",
     "height": 34
    },
    "colab_type": "code",
    "id": "dfhPM_14p7mV",
    "outputId": "53f5461e-e79c-47dc-ae07-043b2eed868a"
   },
   "outputs": [
    {
     "data": {
      "text/plain": [
       "0.027553071908177396"
      ]
     },
     "execution_count": 75,
     "metadata": {
      "tags": []
     },
     "output_type": "execute_result"
    }
   ],
   "source": [
    "error = (f0-f1)/f0\n",
    "error"
   ]
  },
  {
   "cell_type": "markdown",
   "metadata": {
    "colab_type": "text",
    "id": "Z6iycVlF6RmN"
   },
   "source": [
    "`f0` = 26014.464 and `f1` = 25297.685699999995\n",
    "\n",
    "error = 2%\n",
    "\n",
    "**Since the error percentage is small we should think applying the first f0 approach because it is more time effective.**"
   ]
  },
  {
   "cell_type": "markdown",
   "metadata": {
    "colab_type": "text",
    "id": "QbQpUDs4NIpw"
   },
   "source": [
    "## Problem 4 - Basic Function\n",
    "\n",
    "Write a Python **function** to find the sum of the numbers listed in different columns.\n",
    "\n",
    "|Variables | X | Y |\n",
    "| ---   | --- | --- |\n",
    "| X1, Y1| 10 | 4 |\n",
    "|X2, Y2| 15 | 16 |\n",
    "| X3, Y3| 18 | 33|\n",
    "|X4, Y4| 55 | 47 |\n",
    "| X5, Y5| 22 | 88 |\n",
    "| **TOTAL** | ???|??? |\n",
    "\n"
   ]
  },
  {
   "cell_type": "code",
   "execution_count": null,
   "metadata": {
    "colab": {},
    "colab_type": "code",
    "id": "yb_QPVh5W6Uf"
   },
   "outputs": [],
   "source": [
    "def sum(numbers):\n",
    "    total = 0\n",
    "    for x in numbers:\n",
    "        total += x\n",
    "    return total"
   ]
  },
  {
   "cell_type": "code",
   "execution_count": null,
   "metadata": {
    "colab": {
     "base_uri": "https://localhost:8080/",
     "height": 34
    },
    "colab_type": "code",
    "id": "iCDBTSNOYiKw",
    "outputId": "e0425032-c9e9-4141-f792-62176ad2e32b"
   },
   "outputs": [
    {
     "name": "stdout",
     "output_type": "stream",
     "text": [
      "120\n"
     ]
    }
   ],
   "source": [
    "print(sum((10, 15, 18, 55, 22)))"
   ]
  },
  {
   "cell_type": "code",
   "execution_count": null,
   "metadata": {
    "colab": {
     "base_uri": "https://localhost:8080/",
     "height": 34
    },
    "colab_type": "code",
    "id": "QqP9Iifel-1z",
    "outputId": "b5f78d8a-4695-4cfa-e075-2cf7b0af1af8"
   },
   "outputs": [
    {
     "name": "stdout",
     "output_type": "stream",
     "text": [
      "188\n"
     ]
    }
   ],
   "source": [
    "print(sum((4, 16, 33, 47, 88)))"
   ]
  },
  {
   "cell_type": "markdown",
   "metadata": {
    "colab_type": "text",
    "id": "-hs_lELAXJTR"
   },
   "source": [
    "## Problem 5 - Writing Function with `if statement`\n",
    "\n",
    "Write a Python function to check whether indoor temperature is in a given range below. If it is below 65 oF, turn on the heater. If the temperature is above 75 oF, turn on the cooler.\n",
    "\n",
    "$$\n",
    "65F <Tindoor < 75F\n",
    "$$\n",
    "\n",
    "---\n",
    "\n",
    "Test 2 different temperatures above and below given temperature values to discuss your function.\n"
   ]
  },
  {
   "cell_type": "code",
   "execution_count": null,
   "metadata": {
    "colab": {},
    "colab_type": "code",
    "id": "AE_Q-2uyXJqQ"
   },
   "outputs": [],
   "source": [
    "def test_indoorTemperature(T_indoor):\n",
    "    if T_indoor in range(65,75):\n",
    "        print( \" %s is in the range\"%str(T_indoor))\n",
    "    elif   65> T_indoor:\n",
    "        print(\"The temperature is below 65F, please turn on the heater\")\n",
    "    elif 75<T_indoor:\n",
    "        print(\"The temperature is above 75F, please turn the cooler on.\" )\n",
    "    else:\n",
    "        print(\"enter reasonable Tindoor\")"
   ]
  },
  {
   "cell_type": "code",
   "execution_count": null,
   "metadata": {
    "colab": {
     "base_uri": "https://localhost:8080/",
     "height": 34
    },
    "colab_type": "code",
    "id": "4ySl2othSC4X",
    "outputId": "76a32e9b-646a-4fe1-b06f-f31b59f99f20"
   },
   "outputs": [
    {
     "name": "stdout",
     "output_type": "stream",
     "text": [
      "The temperature is above 75F, please turn the cooler on.\n"
     ]
    }
   ],
   "source": [
    "test_indoorTemperature(100)"
   ]
  },
  {
   "cell_type": "code",
   "execution_count": null,
   "metadata": {
    "colab": {
     "base_uri": "https://localhost:8080/",
     "height": 34
    },
    "colab_type": "code",
    "id": "ij8ioujimIAD",
    "outputId": "ed6ed099-2d04-47e2-86bc-096fc99abfa7"
   },
   "outputs": [
    {
     "name": "stdout",
     "output_type": "stream",
     "text": [
      "The temperature is below 65F, please turn on the heater\n"
     ]
    }
   ],
   "source": [
    "test_indoorTemperature(10)"
   ]
  },
  {
   "cell_type": "markdown",
   "metadata": {
    "colab_type": "text",
    "id": "b1qHuXaJSHBU"
   },
   "source": [
    "## Problem 6 - Function for different conditions\n",
    "\n",
    "Write a function to calculate the condition of mixed air for given Tindoor, Toutdoor and indoor and outdoor air mixing ratio.\n",
    "$$\n",
    "T_(mixed) = \\left( {Tindoor * returnair + Toutdoor * OutdoorAir} \\right)\n",
    "$$\n",
    "Write a function named mixed air temperatur that computes for given the variables (4 different variables).\n",
    "\n",
    "\n",
    "\n"
   ]
  },
  {
   "cell_type": "code",
   "execution_count": null,
   "metadata": {
    "colab": {},
    "colab_type": "code",
    "id": "mlM5WZ_kXb9H"
   },
   "outputs": [],
   "source": [
    "# YOUR FUNCTION HERE\n",
    "def mixed_air(T_indoor, Return_Air, T_outdoor, Outdoor_Air):\n",
    "  return T_indoor*Return_Air+T_outdoor*Outdoor_Air"
   ]
  },
  {
   "cell_type": "code",
   "execution_count": null,
   "metadata": {
    "colab": {
     "base_uri": "https://localhost:8080/",
     "height": 85
    },
    "colab_type": "code",
    "id": "co7R39C_XpIA",
    "outputId": "bf9d2d36-8c40-4a5a-ca4e-098e9386425b"
   },
   "outputs": [
    {
     "name": "stdout",
     "output_type": "stream",
     "text": [
      "82.0\n",
      "44.6\n",
      "90.0\n",
      "74.0\n"
     ]
    }
   ],
   "source": [
    "T_indoor1, Return_Air1, T_outdoor1, Outdoor_Air1 = 75, 0.30, 85, 0.70   \n",
    "T_indoor2, Return_Air2, T_outdoor2, Outdoor_Air2 = 63, 0.20, 40, 0.80\n",
    "T_indoor3, Return_Air3, T_outdoor3, Outdoor_Air3 = 80, 0.50, 100, 0.50\n",
    "T_indoor4, Return_Air4, T_outdoor4, Outdoor_Air4 = 70, 0.90, 110, 0.10\n",
    "\n",
    "print(mixed_air(T_indoor1, Return_Air1, T_outdoor1, Outdoor_Air1))  # Expect 82F\n",
    "print(mixed_air(T_indoor2, Return_Air2, T_outdoor2, Outdoor_Air2))  # Expect 44.6F\n",
    "print(mixed_air(T_indoor3, Return_Air3, T_outdoor3, Outdoor_Air3))  # Expect 90F\n",
    "print(mixed_air(T_indoor4, Return_Air4, T_outdoor4, Outdoor_Air4))  # Expect 74F"
   ]
  },
  {
   "cell_type": "markdown",
   "metadata": {
    "colab_type": "text",
    "id": "DXNI126_gbpP"
   },
   "source": [
    "## Problem 7 - Creating a Dataframe\n"
   ]
  },
  {
   "cell_type": "markdown",
   "metadata": {
    "colab_type": "text",
    "id": "I0nSvRkCQAXr"
   },
   "source": [
    "\n",
    "\n",
    "### Problem 7 -Part a\n",
    "\n",
    "Please `create a dataset` as shown in the figure below, except the Pass column.\n",
    "\n",
    "|Student Name | Year Accepted | Year of Graduation | Final Grade |\n",
    "| ---   | --- | --- | --- |\n",
    "| Tina| 2012 | 2016 | A |\n",
    "|Sangeetha| 2017 | 2021 | A-|\n",
    "| Joseph| 2016 | 2020| B- |\n",
    "|Jake| 2012 | 2016 | B+ |\n",
    "|Rachel| 2016 | 2020 | A- |\n",
    "|Sep| 2018 | 2020 | A |\n",
    "|June| 2016 | 2020 | A |\n",
    "|Jose| 2018 | 2021 | A |\n"
   ]
  },
  {
   "cell_type": "code",
   "execution_count": null,
   "metadata": {
    "colab": {},
    "colab_type": "code",
    "id": "HF4hBROhVVa8"
   },
   "outputs": [],
   "source": [
    "#YOUR CODE HERE"
   ]
  },
  {
   "cell_type": "code",
   "execution_count": null,
   "metadata": {
    "colab": {
     "base_uri": "https://localhost:8080/",
     "height": 297
    },
    "colab_type": "code",
    "id": "nxLcBKluUSm6",
    "outputId": "940d020d-1bc1-43b3-9b3a-e3ae3c1ca882"
   },
   "outputs": [
    {
     "data": {
      "text/html": [
       "<div>\n",
       "<style scoped>\n",
       "    .dataframe tbody tr th:only-of-type {\n",
       "        vertical-align: middle;\n",
       "    }\n",
       "\n",
       "    .dataframe tbody tr th {\n",
       "        vertical-align: top;\n",
       "    }\n",
       "\n",
       "    .dataframe thead th {\n",
       "        text-align: right;\n",
       "    }\n",
       "</style>\n",
       "<table border=\"1\" class=\"dataframe\">\n",
       "  <thead>\n",
       "    <tr style=\"text-align: right;\">\n",
       "      <th></th>\n",
       "      <th>Name</th>\n",
       "      <th>Year</th>\n",
       "      <th>Graduation</th>\n",
       "      <th>Grade</th>\n",
       "    </tr>\n",
       "  </thead>\n",
       "  <tbody>\n",
       "    <tr>\n",
       "      <th>0</th>\n",
       "      <td>Tina</td>\n",
       "      <td>2012</td>\n",
       "      <td>2016</td>\n",
       "      <td>A</td>\n",
       "    </tr>\n",
       "    <tr>\n",
       "      <th>1</th>\n",
       "      <td>Sangeetha</td>\n",
       "      <td>2017</td>\n",
       "      <td>2021</td>\n",
       "      <td>A-</td>\n",
       "    </tr>\n",
       "    <tr>\n",
       "      <th>2</th>\n",
       "      <td>Joseph</td>\n",
       "      <td>2016</td>\n",
       "      <td>2020</td>\n",
       "      <td>B-</td>\n",
       "    </tr>\n",
       "    <tr>\n",
       "      <th>3</th>\n",
       "      <td>Jake</td>\n",
       "      <td>2012</td>\n",
       "      <td>2016</td>\n",
       "      <td>B+</td>\n",
       "    </tr>\n",
       "    <tr>\n",
       "      <th>4</th>\n",
       "      <td>Rachel</td>\n",
       "      <td>2016</td>\n",
       "      <td>2020</td>\n",
       "      <td>A-</td>\n",
       "    </tr>\n",
       "    <tr>\n",
       "      <th>5</th>\n",
       "      <td>Sep</td>\n",
       "      <td>2018</td>\n",
       "      <td>2020</td>\n",
       "      <td>A</td>\n",
       "    </tr>\n",
       "    <tr>\n",
       "      <th>6</th>\n",
       "      <td>June</td>\n",
       "      <td>2016</td>\n",
       "      <td>2020</td>\n",
       "      <td>A</td>\n",
       "    </tr>\n",
       "    <tr>\n",
       "      <th>7</th>\n",
       "      <td>Jose</td>\n",
       "      <td>2018</td>\n",
       "      <td>2021</td>\n",
       "      <td>A</td>\n",
       "    </tr>\n",
       "  </tbody>\n",
       "</table>\n",
       "</div>"
      ],
      "text/plain": [
       "        Name  Year  Graduation Grade\n",
       "0       Tina  2012        2016     A\n",
       "1  Sangeetha  2017        2021    A-\n",
       "2     Joseph  2016        2020    B-\n",
       "3       Jake  2012        2016    B+\n",
       "4     Rachel  2016        2020    A-\n",
       "5        Sep  2018        2020     A\n",
       "6       June  2016        2020     A\n",
       "7       Jose  2018        2021     A"
      ]
     },
     "execution_count": 36,
     "metadata": {
      "tags": []
     },
     "output_type": "execute_result"
    }
   ],
   "source": [
    "# Import modules\n",
    "import pandas as pd\n",
    "\n",
    "# Create an example dataframe\n",
    "data = {'Name': ['Tina', 'Sangeetha', 'Joseph', 'Jake', 'Rachel', 'Sep', 'June', 'Jose'], \n",
    "        'Year': [2012, 2017, 2016, 2012, 2016, 2018, 2016, 2018], \n",
    "        'Graduation': [2016, 2021, 2020, 2016, 2020, 2020, 2020, 2021],\n",
    "        'Grade': ['A','A-','B-', 'B+', 'A-','A','A','A']}\n",
    "df = pd.DataFrame(data)\n",
    "df"
   ]
  },
  {
   "cell_type": "markdown",
   "metadata": {
    "colab_type": "text",
    "id": "ieBhP7AEWHe-"
   },
   "source": [
    "### Problem 7 - Part b\n",
    "\n",
    "Please add a column to the dataframe created previously. If the grade of the student less than \"A-\", student will fail."
   ]
  },
  {
   "cell_type": "code",
   "execution_count": null,
   "metadata": {
    "colab": {
     "base_uri": "https://localhost:8080/",
     "height": 297
    },
    "colab_type": "code",
    "id": "Vvv40jlPZfZj",
    "outputId": "182bd0cd-a585-4de3-8ba3-d168db55ea75"
   },
   "outputs": [
    {
     "data": {
      "text/html": [
       "<div>\n",
       "<style scoped>\n",
       "    .dataframe tbody tr th:only-of-type {\n",
       "        vertical-align: middle;\n",
       "    }\n",
       "\n",
       "    .dataframe tbody tr th {\n",
       "        vertical-align: top;\n",
       "    }\n",
       "\n",
       "    .dataframe thead th {\n",
       "        text-align: right;\n",
       "    }\n",
       "</style>\n",
       "<table border=\"1\" class=\"dataframe\">\n",
       "  <thead>\n",
       "    <tr style=\"text-align: right;\">\n",
       "      <th></th>\n",
       "      <th>Name</th>\n",
       "      <th>Year</th>\n",
       "      <th>Graduation</th>\n",
       "      <th>Grade</th>\n",
       "      <th>Fail/Pass</th>\n",
       "    </tr>\n",
       "  </thead>\n",
       "  <tbody>\n",
       "    <tr>\n",
       "      <th>0</th>\n",
       "      <td>Tina</td>\n",
       "      <td>2012</td>\n",
       "      <td>2016</td>\n",
       "      <td>A</td>\n",
       "      <td>Pass</td>\n",
       "    </tr>\n",
       "    <tr>\n",
       "      <th>1</th>\n",
       "      <td>Sangeetha</td>\n",
       "      <td>2017</td>\n",
       "      <td>2021</td>\n",
       "      <td>A-</td>\n",
       "      <td>Pass</td>\n",
       "    </tr>\n",
       "    <tr>\n",
       "      <th>2</th>\n",
       "      <td>Joseph</td>\n",
       "      <td>2016</td>\n",
       "      <td>2020</td>\n",
       "      <td>B-</td>\n",
       "      <td>Fail</td>\n",
       "    </tr>\n",
       "    <tr>\n",
       "      <th>3</th>\n",
       "      <td>Jake</td>\n",
       "      <td>2012</td>\n",
       "      <td>2016</td>\n",
       "      <td>B+</td>\n",
       "      <td>Fail</td>\n",
       "    </tr>\n",
       "    <tr>\n",
       "      <th>4</th>\n",
       "      <td>Rachel</td>\n",
       "      <td>2016</td>\n",
       "      <td>2020</td>\n",
       "      <td>A-</td>\n",
       "      <td>Pass</td>\n",
       "    </tr>\n",
       "    <tr>\n",
       "      <th>5</th>\n",
       "      <td>Sep</td>\n",
       "      <td>2018</td>\n",
       "      <td>2020</td>\n",
       "      <td>A</td>\n",
       "      <td>Pass</td>\n",
       "    </tr>\n",
       "    <tr>\n",
       "      <th>6</th>\n",
       "      <td>June</td>\n",
       "      <td>2016</td>\n",
       "      <td>2020</td>\n",
       "      <td>A</td>\n",
       "      <td>Pass</td>\n",
       "    </tr>\n",
       "    <tr>\n",
       "      <th>7</th>\n",
       "      <td>Jose</td>\n",
       "      <td>2018</td>\n",
       "      <td>2021</td>\n",
       "      <td>A</td>\n",
       "      <td>Pass</td>\n",
       "    </tr>\n",
       "  </tbody>\n",
       "</table>\n",
       "</div>"
      ],
      "text/plain": [
       "        Name  Year  Graduation Grade Fail/Pass\n",
       "0       Tina  2012        2016     A      Pass\n",
       "1  Sangeetha  2017        2021    A-      Pass\n",
       "2     Joseph  2016        2020    B-      Fail\n",
       "3       Jake  2012        2016    B+      Fail\n",
       "4     Rachel  2016        2020    A-      Pass\n",
       "5        Sep  2018        2020     A      Pass\n",
       "6       June  2016        2020     A      Pass\n",
       "7       Jose  2018        2021     A      Pass"
      ]
     },
     "execution_count": 28,
     "metadata": {
      "tags": []
     },
     "output_type": "execute_result"
    }
   ],
   "source": [
    "import numpy as np\n",
    "# create a list of our conditions\n",
    "conditions = [\n",
    "    (df['Grade'] == 'A'),\n",
    "    (df['Grade'] == 'A-'),\n",
    "    (df['Grade'] == 'B-'),\n",
    "    (df['Grade'] == 'B'),\n",
    "    (df['Grade'] == 'B+')]\n",
    "\n",
    "# create a list of the values we want to assign for each condition\n",
    "Fail_Pass = ['Pass','Pass', 'Fail','Fail','Fail']\n",
    "\n",
    "# create a new column and use np.select to assign values to it using our lists as arguments\n",
    "df['Fail/Pass'] = np.select(conditions, Fail_Pass)\n",
    "\n",
    "# display updated DataFrame\n",
    "df\n"
   ]
  },
  {
   "cell_type": "code",
   "execution_count": null,
   "metadata": {
    "colab": {
     "base_uri": "https://localhost:8080/",
     "height": 297
    },
    "colab_type": "code",
    "id": "HNEfvaJZaLwb",
    "outputId": "3871f1c8-5ccb-4134-b01c-85bf23fcafee"
   },
   "outputs": [
    {
     "data": {
      "text/html": [
       "<div>\n",
       "<style scoped>\n",
       "    .dataframe tbody tr th:only-of-type {\n",
       "        vertical-align: middle;\n",
       "    }\n",
       "\n",
       "    .dataframe tbody tr th {\n",
       "        vertical-align: top;\n",
       "    }\n",
       "\n",
       "    .dataframe thead th {\n",
       "        text-align: right;\n",
       "    }\n",
       "</style>\n",
       "<table border=\"1\" class=\"dataframe\">\n",
       "  <thead>\n",
       "    <tr style=\"text-align: right;\">\n",
       "      <th></th>\n",
       "      <th>Name</th>\n",
       "      <th>Year</th>\n",
       "      <th>Graduation</th>\n",
       "      <th>Grade</th>\n",
       "      <th>Fail/Pass</th>\n",
       "    </tr>\n",
       "  </thead>\n",
       "  <tbody>\n",
       "    <tr>\n",
       "      <th>0</th>\n",
       "      <td>Tina</td>\n",
       "      <td>2012</td>\n",
       "      <td>2016</td>\n",
       "      <td>A</td>\n",
       "      <td>Pass</td>\n",
       "    </tr>\n",
       "    <tr>\n",
       "      <th>1</th>\n",
       "      <td>Sangeetha</td>\n",
       "      <td>2017</td>\n",
       "      <td>2021</td>\n",
       "      <td>A-</td>\n",
       "      <td>Pass</td>\n",
       "    </tr>\n",
       "    <tr>\n",
       "      <th>2</th>\n",
       "      <td>Joseph</td>\n",
       "      <td>2016</td>\n",
       "      <td>2020</td>\n",
       "      <td>B-</td>\n",
       "      <td>Fail</td>\n",
       "    </tr>\n",
       "    <tr>\n",
       "      <th>3</th>\n",
       "      <td>Jake</td>\n",
       "      <td>2012</td>\n",
       "      <td>2016</td>\n",
       "      <td>B+</td>\n",
       "      <td>Fail</td>\n",
       "    </tr>\n",
       "    <tr>\n",
       "      <th>4</th>\n",
       "      <td>Rachel</td>\n",
       "      <td>2016</td>\n",
       "      <td>2020</td>\n",
       "      <td>A-</td>\n",
       "      <td>Pass</td>\n",
       "    </tr>\n",
       "    <tr>\n",
       "      <th>5</th>\n",
       "      <td>Sep</td>\n",
       "      <td>2018</td>\n",
       "      <td>2020</td>\n",
       "      <td>A</td>\n",
       "      <td>Pass</td>\n",
       "    </tr>\n",
       "    <tr>\n",
       "      <th>6</th>\n",
       "      <td>June</td>\n",
       "      <td>2016</td>\n",
       "      <td>2020</td>\n",
       "      <td>A</td>\n",
       "      <td>Pass</td>\n",
       "    </tr>\n",
       "    <tr>\n",
       "      <th>7</th>\n",
       "      <td>Jose</td>\n",
       "      <td>2018</td>\n",
       "      <td>2021</td>\n",
       "      <td>A</td>\n",
       "      <td>Pass</td>\n",
       "    </tr>\n",
       "  </tbody>\n",
       "</table>\n",
       "</div>"
      ],
      "text/plain": [
       "        Name  Year  Graduation Grade Fail/Pass\n",
       "0       Tina  2012        2016     A      Pass\n",
       "1  Sangeetha  2017        2021    A-      Pass\n",
       "2     Joseph  2016        2020    B-      Fail\n",
       "3       Jake  2012        2016    B+      Fail\n",
       "4     Rachel  2016        2020    A-      Pass\n",
       "5        Sep  2018        2020     A      Pass\n",
       "6       June  2016        2020     A      Pass\n",
       "7       Jose  2018        2021     A      Pass"
      ]
     },
     "execution_count": 38,
     "metadata": {
      "tags": []
     },
     "output_type": "execute_result"
    }
   ],
   "source": [
    "import pandas as pd\n",
    "\n",
    "def Fail_Pass(a):\n",
    "  if row['Grade'] == 'A':\n",
    "    return 'Pass'\n",
    "  elif row['Grade'] == 'A-':\n",
    "    return 'Pass'\n",
    "  elif row['Grade'] == 'B':\n",
    "    return 'Fail'\n",
    "  elif row['Grade'] == 'B+':\n",
    "    return 'Fail'\n",
    "  elif row['Grade'] == 'B-':\n",
    "    return 'Fail'\n",
    "  else:\n",
    "    return 'Undefined'\n",
    "\n",
    "df['Fail/Pass'] = df.apply(Fail_Pass, axis=1)\n",
    "df\n"
   ]
  },
  {
   "cell_type": "code",
   "execution_count": null,
   "metadata": {
    "colab": {},
    "colab_type": "code",
    "id": "crRUA55dcg44"
   },
   "outputs": [],
   "source": []
  }
 ],
 "metadata": {
  "colab": {
   "collapsed_sections": [],
   "name": "HW0-BES&HVAC Design-F20-Solutions",
   "provenance": []
  },
  "kernelspec": {
   "display_name": "Python 3",
   "language": "python",
   "name": "python3"
  },
  "language_info": {
   "codemirror_mode": {
    "name": "ipython",
    "version": 3
   },
   "file_extension": ".py",
   "mimetype": "text/x-python",
   "name": "python",
   "nbconvert_exporter": "python",
   "pygments_lexer": "ipython3",
   "version": "3.7.0"
  }
 },
 "nbformat": 4,
 "nbformat_minor": 1
}
