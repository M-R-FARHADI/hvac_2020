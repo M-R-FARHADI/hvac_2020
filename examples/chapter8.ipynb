{
 "cells": [
  {
   "cell_type": "markdown",
   "metadata": {},
   "source": [
    "# Chapter 8 Examples\n",
    "The following examples are taken from the textbook and cover psychrometrics."
   ]
  },
  {
   "cell_type": "markdown",
   "metadata": {},
   "source": [
    "## 8.1\n",
    "In a heating/humidifying system moist air first flows through a heating coil and then through an air washer. The air enters the system  at  55$^\\circ$F  dry-bulb  temperature  and  40% humidity. The air exits the system at 90$^\\circ$F dry-bulb temperature and  65$^\\circ$F  thermodynamic  wet-bulb  temperature.  The  flow  rate through the system is 2200 lbma/hr and the process occurs at a pressure of 29.921 in Hg. Determine:\n",
    " 1. the  dry-bulb  temperature  of  the  air  as  it  exits  the  heating coil\n",
    " 2. the rate of heat addition to the air by the heating coil \n",
    " 3. the  rate  of  moisture  addition  to  the  air  by  the  adiabatic saturator"
   ]
  },
  {
   "cell_type": "markdown",
   "metadata": {},
   "source": [
    "### 8.1.1"
   ]
  },
  {
   "cell_type": "code",
   "execution_count": null,
   "metadata": {},
   "outputs": [],
   "source": []
  }
 ],
 "metadata": {
  "kernelspec": {
   "display_name": "Python 3",
   "language": "python",
   "name": "python3"
  },
  "language_info": {
   "codemirror_mode": {
    "name": "ipython",
    "version": 3
   },
   "file_extension": ".py",
   "mimetype": "text/x-python",
   "name": "python",
   "nbconvert_exporter": "python",
   "pygments_lexer": "ipython3",
   "version": "3.7.0"
  }
 },
 "nbformat": 4,
 "nbformat_minor": 4
}
