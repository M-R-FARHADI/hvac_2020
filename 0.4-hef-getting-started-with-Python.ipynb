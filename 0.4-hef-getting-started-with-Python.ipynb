{
 "cells": [
  {
   "cell_type": "markdown",
   "metadata": {},
   "source": [
    "<h1>Getting Started with Python</h1>\n",
    "\n",
    "In this class, you will be using Python to perform calculations and analysis relevant to your assignments. This notebook is aimed at getting you started in the world of Python programming."
   ]
  },
  {
   "cell_type": "markdown",
   "metadata": {},
   "source": [
    "<p><img alt=\"Python logo\" src=\"https://www.python.org/static/community_logos/python-logo-master-v3-TM.png\" align=\"center\" hspace=\"10px\" vspace=\"0px\"></p>"
   ]
  },
  {
   "cell_type": "markdown",
   "metadata": {},
   "source": [
    "The sections below outline some of the basics that should be more than enough to help you be successful in this course. We will also offer other resources in the forms of books, PDFs, and websites to help you improve your knowledge even further should you catch the \"programming bug\"."
   ]
  },
  {
   "cell_type": "markdown",
   "metadata": {},
   "source": [
    "<div class=\"alert alert-block alert-warning\">\n",
    "<b>Note:</b> We will be focusing on Python basics and how to use them in a Jupyter Notebook environment specifically since your assignments should be completed in a notebook. The syntax is the same, but writing a Python script is <b>NOT</b> the same as writing a Python/Jupyter notebook.\n",
    "</div>"
   ]
  },
  {
   "cell_type": "markdown",
   "metadata": {},
   "source": [
    "## How to Use this Notebook\n",
    "Some quick notes before we dive into the good stuff.\n",
    "\n",
    "First, as you see above, there will periodically be textboxes containing specific information. The coloring schemes are explained below."
   ]
  },
  {
   "cell_type": "markdown",
   "metadata": {},
   "source": [
    "<div class=\"alert alert-block alert-warning\">\n",
    "<b>Note:</b> Yellow textboxes will contain tips, warnings, or simply extra information to help you be succesful.\n",
    "</div>"
   ]
  },
  {
   "cell_type": "markdown",
   "metadata": {},
   "source": [
    "<div class=\"alert alert-block alert-info\">\n",
    "<b>Resource:</b> Blue textboxes will direct you to outside resources that will provide you with more in-depth explanations and/or provide you with more functionality on a certain idea.\n",
    "</div>"
   ]
  },
  {
   "cell_type": "markdown",
   "metadata": {},
   "source": [
    "<div class=\"alert alert-block alert-success\">\n",
    "<b>Do:</b> Green textboxes will alert you to good practices you should focus on when programming with Python.\n",
    "</div>"
   ]
  },
  {
   "cell_type": "markdown",
   "metadata": {},
   "source": [
    "<div class=\"alert alert-block alert-danger\">\n",
    "<b>Don't:</b> Red textboxes alert you to bad practices that might get the job done, but take extra time, are hard on your machine, and/or are hard for fellow programmers to follow.\n",
    "</div>"
   ]
  },
  {
   "cell_type": "code",
   "execution_count": null,
   "metadata": {},
   "outputs": [],
   "source": []
  }
 ],
 "metadata": {
  "kernelspec": {
   "display_name": "Python 3",
   "language": "python",
   "name": "python3"
  },
  "language_info": {
   "codemirror_mode": {
    "name": "ipython",
    "version": 3
   },
   "file_extension": ".py",
   "mimetype": "text/x-python",
   "name": "python",
   "nbconvert_exporter": "python",
   "pygments_lexer": "ipython3",
   "version": "3.7.0"
  }
 },
 "nbformat": 4,
 "nbformat_minor": 4
}
