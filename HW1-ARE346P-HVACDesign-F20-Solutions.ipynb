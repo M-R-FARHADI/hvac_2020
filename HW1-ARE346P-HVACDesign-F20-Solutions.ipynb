{
 "cells": [
  {
   "cell_type": "markdown",
   "metadata": {},
   "source": [
    "<p><img alt=\"caee logo\" src=\"images/caee_logo.png\" align=\"left\" hspace=\"10px\" vspace=\"0px\"></p>\n",
    "<p><img alt=\"iel logo\" src=\"images/iel_logo.png\" align=\"right\" hspace=\"10px\" vspace=\"0px\"></p>\n",
    "<h1 align='center'>Homework 1</h1>"
   ]
  },
  {
   "cell_type": "markdown",
   "metadata": {},
   "source": [
    "ARE 346P / CE 389H HVAC Design\n",
    "\n",
    "Professor Dr. Zoltan Nagy\n",
    "\n",
    "**Due: September 19, 2020**"
   ]
  },
  {
   "cell_type": "markdown",
   "metadata": {},
   "source": [
    "<h2>Instructions</h2>\n",
    "\n",
    "Solve each of the following problems and show your work. Make sure to label each answer with the same label as the problem.\n",
    "\n",
    "You will be graded on both the correct method and solution. Partial credit is awarded for use of the correct equation or method, correct values chosen from tables and charts when required, and the correct answer with appropriate units. \n",
    "\n",
    "This assignment includes *five* problems based on Chapter 7 from your textbook.\n",
    "\n",
    "| PROBLEM | POINTS |\n",
    "| --- | --- |\n",
    "| 7.1 | 8 pts |\n",
    "| 7.21 | 4 pts |\n",
    "| 7.3 | 4 pts |\n",
    "| 7.4 | 4 pts |\n",
    "| 7.27 | 5 pts |\n",
    "| **TOTAL** | **25 pts** |"
   ]
  },
  {
   "cell_type": "markdown",
   "metadata": {},
   "source": [
    "<h2>Navigation</h2>\n",
    "\n",
    "Click on the hyperlink below to go to the problem you are interested in:\n",
    "\n",
    "- [7.1](#7.1)\n",
    "- [7.21](#7.21)\n",
    "- [7.3](#7.3)\n",
    "- [7.4](#7.4)\n",
    "- [7.27](#7.27)"
   ]
  },
  {
   "cell_type": "markdown",
   "metadata": {},
   "source": [
    "<h2>7.1</h2>\n",
    "\n",
    "Moist air exists at 80$^\\circ$F dry-bulb temperature, 0.0150 lbm$_\\text{w}$/lbm$_\\text{a}$ humidity ratio, and 14.696 psia pressure. Through the use of <u>Table A.4 and fundamental relations</u>, determine:\n",
    "\n",
    "   (a) the dew-point temperature, <br>\n",
    "   (b) relative humidity, <br>\n",
    "   (c) volume in ft$^3$/lbm$_a$, and <br>\n",
    "   (d) the enthalpy in Btu/lbm$_a$ <br>\n",
    "\n",
    "**Note**: Do not use the psychrometric chart for this problem"
   ]
  },
  {
   "cell_type": "markdown",
   "metadata": {},
   "source": [
    "<h3>7.1a</h3>"
   ]
  },
  {
   "cell_type": "markdown",
   "metadata": {},
   "source": [
    "Using <u>Table A4E</u> with $W = 0.0150 \\text{ lbm}_\\text{w}$:"
   ]
  },
  {
   "cell_type": "markdown",
   "metadata": {},
   "source": [
    "<div class=\"alert alert-block alert-success\">\n",
    "<b>Solution:</b> $\\text{t}_\\text{d} = 68.4 ^\\circ \\text{F} $\n",
    "</div>"
   ]
  },
  {
   "cell_type": "markdown",
   "metadata": {},
   "source": [
    "<h3>7.1b</h3>"
   ]
  },
  {
   "cell_type": "markdown",
   "metadata": {},
   "source": [
    "Using <u>Table A4E</u> with $ DBT = 80^\\circ \\text{F} $:\n",
    " - $ \\text{W}_\\text{s} = 0.022340 \\text{ lbm}_\\text{w}/\\text{lbm}_\\text{a}$:"
   ]
  },
  {
   "cell_type": "markdown",
   "metadata": {},
   "source": [
    "By Eq. 7.6 we get:\n",
    "\n",
    "$$\n",
    "\\begin{align}\n",
    "\\phi &= \\frac{ 1 + \\frac{0.622}{W_s} }{ 1 + \\frac{0.622}{W} } \\\\\n",
    "&= \\frac{ 1 + \\frac{0.622}{0.02234} }{ 1 + \\frac{0.622}{0.0150} }\n",
    "\\end{align}\n",
    "$$\n"
   ]
  },
  {
   "cell_type": "code",
   "execution_count": 5,
   "metadata": {},
   "outputs": [
    {
     "name": "stdout",
     "output_type": "stream",
     "text": [
      "Relative Humidity: 67.91782204239041\n"
     ]
    }
   ],
   "source": [
    "# defining humidity ratios\n",
    "W = 0.0150\n",
    "Ws = 0.022340\n",
    "\n",
    "# solving with eq. 7.6\n",
    "phi = (1 + (0.622 / Ws)) / (1 + (0.622 / W))\n",
    "\n",
    "print(f'Relative Humidity: {phi*100}')"
   ]
  },
  {
   "cell_type": "markdown",
   "metadata": {},
   "source": [
    "<div class=\"alert alert-block alert-success\">\n",
    "<b>Solution:</b> $\\text{RH} = 67.9\\% $\n",
    "</div>"
   ]
  },
  {
   "cell_type": "markdown",
   "metadata": {},
   "source": [
    "<h3>7.1c</h3>"
   ]
  },
  {
   "cell_type": "markdown",
   "metadata": {},
   "source": [
    "Using <u>Table A4E</u> with $ DBT = 80^\\circ \\text{F} $:\n",
    "- $ \\text{v}_\\text{a} = 13.602 \\text{ ft}^3/\\text{lbm}_a $\n",
    "- $ \\text{v}_\\text{as} = 0.487 \\text{ ft}^3/\\text{lbm}_a $"
   ]
  },
  {
   "cell_type": "markdown",
   "metadata": {},
   "source": [
    "By Eq. 7.15 we get: \n",
    "\n",
    "$$ \n",
    "\\begin{align}\n",
    "v &= v_a + \\mu v_{as} \\\\\n",
    "&= v_a + \\frac{W}{W_s} v_{as} \\\\\n",
    "&= 13.602 + \\frac{0.0150}{0.02234} \\left( 0.487 \\right)\n",
    "\\end{align}\n",
    "$$"
   ]
  },
  {
   "cell_type": "code",
   "execution_count": 7,
   "metadata": {},
   "outputs": [
    {
     "name": "stdout",
     "output_type": "stream",
     "text": [
      "Specific Volume: 13.928991942703671\n"
     ]
    }
   ],
   "source": [
    "# defining specific volumes\n",
    "va = 13.602\n",
    "vas = 0.487\n",
    "\n",
    "# calculating degree of saturation\n",
    "mu = W / Ws\n",
    "\n",
    "# solving with eq. 7.15\n",
    "v = va + mu * vas\n",
    "\n",
    "print(f'Specific Volume: {v}')"
   ]
  },
  {
   "cell_type": "markdown",
   "metadata": {},
   "source": [
    "<div class=\"alert alert-block alert-success\">\n",
    "<b>Solution:</b> $\\text{v} = 13.929 \\text{ ft}^3/\\text{lbm}_a$\n",
    "</div>"
   ]
  },
  {
   "cell_type": "markdown",
   "metadata": {},
   "source": [
    "<h3>7.1d</h3>"
   ]
  },
  {
   "cell_type": "markdown",
   "metadata": {},
   "source": [
    "Using <u>Table A4E</u> with $ DBT = 80^\\circ \\text{F} $:\n",
    "- $ \\text{h}_\\text{a} = 19.222 \\text{ Btu}/\\text{lbm}_a $\n",
    "- $ \\text{h}_\\text{as} = 24.479 \\text{ Btu}/\\text{lbm}_a $"
   ]
  },
  {
   "cell_type": "markdown",
   "metadata": {},
   "source": [
    "By Eq. 7.16 we get: \n",
    "\n",
    "$$ \n",
    "\\begin{align}\n",
    "h &= h_a + \\mu h_{as} \\\\\n",
    "&= h_a + \\frac{W}{W_s} h_{as} \\\\\n",
    "&= 19.222 + \\frac{0.0150}{0.02234} \\left( 24.479 \\right)\n",
    "\\end{align}\n",
    "$$"
   ]
  },
  {
   "cell_type": "code",
   "execution_count": 10,
   "metadata": {},
   "outputs": [
    {
     "name": "stdout",
     "output_type": "stream",
     "text": [
      "Specific Enthalpy: 35.658213070725154\n"
     ]
    }
   ],
   "source": [
    "# defining enthalpies\n",
    "ha = 19.222\n",
    "has = 24.479\n",
    "\n",
    "# solving with eq. 7.16\n",
    "h = ha + mu * has\n",
    "\n",
    "print(f'Specific Enthalpy: {h}')"
   ]
  },
  {
   "cell_type": "markdown",
   "metadata": {},
   "source": [
    "<div class=\"alert alert-block alert-success\">\n",
    "<b>Solution:</b> $\\text{h} = 36.658 \\text{ Btu}/\\text{lbm}_a$\n",
    "</div>"
   ]
  },
  {
   "cell_type": "markdown",
   "metadata": {},
   "source": [
    "<h2>7.21</h2>\n",
    "\n",
    "Re-work Problem [7.1](#7.1) again but using the psychrometric chart. Compare your answers to those you found in 7.1. Write out the answers and a brief explanation for each part.\n",
    "\n",
    "   (a) the dew-point temperature, <br>\n",
    "   (b) relative humidity, <br>\n",
    "   (c) volume in ft$^3$/lbm$_a$, and <br>\n",
    "   (d) the enthalpy in Btu/lbm$_a$ <br>\n"
   ]
  },
  {
   "cell_type": "markdown",
   "metadata": {},
   "source": [
    "<h3>7.1a</h3>"
   ]
  },
  {
   "cell_type": "code",
   "execution_count": null,
   "metadata": {},
   "outputs": [],
   "source": []
  },
  {
   "cell_type": "markdown",
   "metadata": {},
   "source": [
    "<h3>7.1b</h3>"
   ]
  },
  {
   "cell_type": "code",
   "execution_count": null,
   "metadata": {},
   "outputs": [],
   "source": []
  },
  {
   "cell_type": "markdown",
   "metadata": {},
   "source": [
    "<h3>7.1c</h3>"
   ]
  },
  {
   "cell_type": "code",
   "execution_count": null,
   "metadata": {},
   "outputs": [],
   "source": []
  },
  {
   "cell_type": "markdown",
   "metadata": {},
   "source": [
    "<h3>7.1d</h3>"
   ]
  },
  {
   "cell_type": "code",
   "execution_count": null,
   "metadata": {},
   "outputs": [],
   "source": []
  },
  {
   "cell_type": "markdown",
   "metadata": {},
   "source": [
    "<h2>7.3</h2>\n",
    "    \n",
    "The atmosphere within a room is at 70$^\\circ$F dry-bulb temperature, 50% degree of saturation, and 14.696 psia pressure. The inside surface temperature of the windows is 40$^\\circ$F. Will moisture condense out of the air upon the window glass? Show your work and explain your reasoning."
   ]
  },
  {
   "cell_type": "code",
   "execution_count": null,
   "metadata": {},
   "outputs": [],
   "source": []
  },
  {
   "cell_type": "markdown",
   "metadata": {},
   "source": [
    "<h2>7.4</h2>\n",
    "\n",
    "Assume that the dimensions of the room of Problem [7.3](#7.3) are 30 ft by 15 ft by 8 ft high. Calculate the number of pounds of water vapor in the room."
   ]
  },
  {
   "cell_type": "code",
   "execution_count": null,
   "metadata": {},
   "outputs": [],
   "source": []
  },
  {
   "cell_type": "markdown",
   "metadata": {},
   "source": [
    "<h2>7.27</h2>\n",
    "\n",
    "In the psychrometric process, moist air at standard atmospheric pressure goes from state 1 at 15$^\\circ$C dry-bulb temperature and 10$^\\circ$C wet-bulb temperature to state 2 of 35$^\\circ$C dry-bulb temperature and 10$^\\circ$C dew-point temperature. By using the psychrometric chart, determine:\n",
    "\n",
    "   (a) the enthalpy-humidity ratio, q’, for the process, and <br>\n",
    "   (b) the sensible-heat ratio, SHR, for the process"
   ]
  },
  {
   "cell_type": "markdown",
   "metadata": {},
   "source": [
    "<h3>7.27a</h3>"
   ]
  },
  {
   "cell_type": "code",
   "execution_count": null,
   "metadata": {},
   "outputs": [],
   "source": []
  },
  {
   "cell_type": "markdown",
   "metadata": {},
   "source": [
    "<h3>7.27b</h3>"
   ]
  },
  {
   "cell_type": "code",
   "execution_count": null,
   "metadata": {},
   "outputs": [],
   "source": []
  }
 ],
 "metadata": {
  "kernelspec": {
   "display_name": "Python 3",
   "language": "python",
   "name": "python3"
  },
  "language_info": {
   "codemirror_mode": {
    "name": "ipython",
    "version": 3
   },
   "file_extension": ".py",
   "mimetype": "text/x-python",
   "name": "python",
   "nbconvert_exporter": "python",
   "pygments_lexer": "ipython3",
   "version": "3.7.0"
  }
 },
 "nbformat": 4,
 "nbformat_minor": 4
}
