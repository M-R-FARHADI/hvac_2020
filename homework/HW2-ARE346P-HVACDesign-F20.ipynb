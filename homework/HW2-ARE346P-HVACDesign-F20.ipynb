{
 "cells": [
  {
   "cell_type": "markdown",
   "metadata": {},
   "source": [
    "<p><img alt=\"caee logo\" src=\"https://drive.google.com/uc?export=view&id=1bLjob5TsJBD3tWzNKzi6sbseyXsm6eb-\" align=\"left\" hspace=\"10px\" vspace=\"0px\"></p>\n",
    "<p><img alt=\"iel logo\" src=\"https://drive.google.com/uc?export=view&id=1uoCP8K9MyHTmU5nnpdlZoprhO8Bm5Yq5\" align=\"right\" hspace=\"10px\" vspace=\"0px\"></p>\n",
    "<h1 align='center'>Homework 2</h1>"
   ]
  },
  {
   "cell_type": "markdown",
   "metadata": {},
   "source": [
    "ARE 346P / CE 389H HVAC Design\n",
    "\n",
    "Professor Dr. Zoltan Nagy\n",
    "\n",
    "**Due: September 19, 2020**"
   ]
  },
  {
   "cell_type": "markdown",
   "metadata": {},
   "source": [
    "<h2>Instructions</h2>\n",
    "\n",
    "Solve each of the following problems and show your work. Make sure to label each answer with the same label as the problem.\n",
    "\n",
    "You will be graded on both the correct method and solution. Partial credit is awarded for use of the correct equation or method, correct values chosen from tables and charts when required, and the correct answer with appropriate units. \n",
    "\n",
    "This assignment includes *six* problems based on Chapters 8 and 3 from your textbook.\n",
    "\n",
    "| PROBLEM | POINTS |\n",
    "| --- | --- |\n",
    "| 8.5 | 10 pts |\n",
    "| 8.17 | 10 pts |\n",
    "| 8.20 | 10 pts |\n",
    "| 3.1 | 10 pts |\n",
    "| 3.5 | 10 pts |\n",
    "| 3.9 | 10 pts |\n",
    "| **TOTAL** | **60 pts** |"
   ]
  },
  {
   "cell_type": "markdown",
   "metadata": {},
   "source": [
    "# Problems"
   ]
  },
  {
   "attachments": {},
   "cell_type": "markdown",
   "metadata": {},
   "source": [
    "## 8.5\n",
    "\n",
    "Moist air enters a cooling coil at 28$^\\circ$C dry-bulb temperature and 50% relative humidity and exits the coil at 13$^\\circ$C dry-bulb temperature and 90% relative humidity. The flow rate through the coil is 1.50 kg$_\\text{a}$/s and the process occurs at a pressure of 101.325 kPa. Determine:\n",
    "\n",
    "1. the sensible-heat ratio for the process, and <br>\n",
    "2. the cooling-coil capacity (heat-transfer rate)"
   ]
  },
  {
   "cell_type": "markdown",
   "metadata": {},
   "source": [
    "### 8.5.1"
   ]
  },
  {
   "cell_type": "code",
   "execution_count": null,
   "metadata": {},
   "outputs": [],
   "source": []
  },
  {
   "cell_type": "markdown",
   "metadata": {},
   "source": [
    "### 8.5.2"
   ]
  },
  {
   "cell_type": "code",
   "execution_count": null,
   "metadata": {},
   "outputs": [],
   "source": []
  },
  {
   "attachments": {},
   "cell_type": "markdown",
   "metadata": {},
   "source": [
    "## 8.17\n",
    "\n",
    "An evaporative cooler (air washer) is used to cool a bus located in Phoenix. The system, similar to that shown in Figure 8.18, takes outside air, first passes it through an evaporative cooler, then passes it through the bus, and finally exhausts it back to the outside. The system operates with a mass flow rate of 11,400 lbm$_\\text{a}$/hr. On a very hot day the air exits the evaporative cooler saturated at 65$^\\circ$F. Atmospheric pressure is 14.7 psia.\n",
    "\n",
    "1. If the outdoor dry-bulb temperature is 95$^\\circ$F, what is the outdoor relative humidity?\n",
    "2. If the sensible and latent heat gains of the bus are 55,200 Btu/hr and 16,800 Btu/hr, respectively, what are the dry-bulb and dew-point temperatures in the bus?"
   ]
  },
  {
   "cell_type": "markdown",
   "metadata": {},
   "source": [
    "![8p17_problem](https://drive.google.com/uc?export=view&id=1EOZKH-gx9u7IUsornwRzOSS-RCLcdsn-)"
   ]
  },
  {
   "cell_type": "markdown",
   "metadata": {},
   "source": [
    "### 8.17.1"
   ]
  },
  {
   "cell_type": "code",
   "execution_count": null,
   "metadata": {},
   "outputs": [],
   "source": []
  },
  {
   "cell_type": "markdown",
   "metadata": {},
   "source": [
    "### 8.17.2"
   ]
  },
  {
   "cell_type": "code",
   "execution_count": null,
   "metadata": {},
   "outputs": [],
   "source": []
  },
  {
   "attachments": {},
   "cell_type": "markdown",
   "metadata": {},
   "source": [
    "## 8.20\n",
    "\n",
    "A building is heated and humidified using the system shown in Figure 8.14. The building has a sensible-heat loss of 260 kW and a latent-heat loss of 29 kW. The building space is maintained at 20$^\\circ$C dry-bulb and 40% relative humidity. Outside air is at 3$^\\circ$C dry-bulb and 30% relative humidity. 45% of the mass flow rate of dry air supplied to the space is outside air. The supply air is at a dry-bulb temperature of 35$^\\circ$C. The air exiting the air washer is at 80% relative humidity.\n",
    "\n",
    "1. Sketch and label all points and processes on a psychrometric chart.\n",
    "2. Calculate the rate of heat addition to the moist air by the preheat coil.\n",
    "3. Calculate the rate of moisture addition by the air washer.\n",
    "4. Calculate the rate of heat addition to the moist air by the reheat coil."
   ]
  },
  {
   "cell_type": "markdown",
   "metadata": {},
   "source": [
    "### 8.20.1"
   ]
  },
  {
   "cell_type": "code",
   "execution_count": null,
   "metadata": {},
   "outputs": [],
   "source": []
  },
  {
   "cell_type": "markdown",
   "metadata": {},
   "source": [
    "### 8.20.2"
   ]
  },
  {
   "cell_type": "code",
   "execution_count": null,
   "metadata": {},
   "outputs": [],
   "source": []
  },
  {
   "cell_type": "markdown",
   "metadata": {},
   "source": [
    "### 8.20.3"
   ]
  },
  {
   "cell_type": "code",
   "execution_count": null,
   "metadata": {},
   "outputs": [],
   "source": []
  },
  {
   "cell_type": "markdown",
   "metadata": {},
   "source": [
    "### 8.20.4"
   ]
  },
  {
   "cell_type": "code",
   "execution_count": null,
   "metadata": {},
   "outputs": [],
   "source": []
  },
  {
   "attachments": {},
   "cell_type": "markdown",
   "metadata": {},
   "source": [
    "## 3.1\n",
    "\n",
    "Consider a Carnot refrigeration cycle that uses R-22 and operates between 10$^\\circ$C and 30$^\\circ$C. The refrigerant leaving the condenser is saturated liquid and the refrigerant leaving the evaporator is saturated vapor. Prepare a table listing the refrigerant temperature, pressure, specific enthalpy, specific volume, and specific entropy at the beginning of each of the four processes in the cycle. Compute the cycle coefficient of performance from the enthalpy values and compare this with the coefficient of performance determined by the operating temperatures.\n",
    "\n",
    "*Note I*: Please follow the nomenclature used for state points in Figure 3.2 when referencing the Carnot refrigeration cycle states in this problem. <br>\n",
    "*Note II*: Properties for state c have been provided in the table, however, you should still understand how to obtain those values from the Pressure-Enthalpy Diagram for R22. Use the appropriate number of significant figures for any other properties taken from reference tables."
   ]
  },
  {
   "cell_type": "markdown",
   "metadata": {},
   "source": [
    "| **State** | **Phase** | **t** ($^\\circ$C) | **P** (MPa) | **h** (kJ/kg) | **v** (m$^3$/kg) | **s** (kJ/kg$\\cdot$K) |\n",
    "| :---: | :---: | :---: | :---: | :---: | :---: | :---: |\n",
    "| 1 | | | | | | |\n",
    "| b | | | | | | |\n",
    "| 3 | | | | | | |\n",
    "| c | superheated vapor | 30 | 1.0 | 263 | 0.025 | 0.9129 | \n",
    "| d | | | | | | |"
   ]
  },
  {
   "cell_type": "code",
   "execution_count": null,
   "metadata": {},
   "outputs": [],
   "source": []
  },
  {
   "attachments": {},
   "cell_type": "markdown",
   "metadata": {},
   "source": [
    "## 3.5\n",
    "\n",
    "A Refrigerant-22 system is arranged as shown in Figure 3.19. Assume:\n",
    "- compression is isentropic \n",
    "- frictionless flow\n",
    "\n",
    "The known data are:\n",
    "- t$_1$ = 100$^\\circ$F\n",
    "- t$_2$ = 80$^\\circ$F \n",
    "- t$_4$ = -10$^\\circ$F \n",
    "\n",
    "Find the COP of the refrigeration cycle."
   ]
  },
  {
   "attachments": {},
   "cell_type": "markdown",
   "metadata": {},
   "source": [
    "| **State** | **Phase** | **t** ($^\\circ$C) | **P** (MPa) | **h** (kJ/kg) | **s** (kJ/kg$\\cdot$K) |\n",
    "| :---: | :---: | :---: | :---: | :---: | :---: |\n",
    "| 1 | | | | | - |\n",
    "| 2 | | | | | - |\n",
    "| 3 | | - | | - | - |\n",
    "| 4 | | | | | - |\n",
    "| 5 | - | | | | |\n",
    "| 6 | - | | | | |"
   ]
  },
  {
   "cell_type": "code",
   "execution_count": null,
   "metadata": {},
   "outputs": [],
   "source": []
  },
  {
   "attachments": {},
   "cell_type": "markdown",
   "metadata": {},
   "source": [
    "## 3.9\n",
    "An ammonia vapor-compression system is arranged as shown in Figure 3.21. Assume:\n",
    "- isentropic compression\n",
    "- frictionless flow. \n",
    "\n",
    "Given data are:\n",
    "- t$_1$ = 30$^\\circ$C\n",
    "- t$_6$ = -20$^\\circ$C\n",
    "- t$_8$ = -30$^\\circ$C\n",
    "\n",
    "\n",
    "1. Compare the coefficient of performance for the cycle of Figure 3.21 with that obtained if the liquid cooler were omitted.\n",
    "2. What conclusion can be drawn from theoretical reasoning on the use of liquid intercoolers in single-stage systems?\n",
    "3. Using practical reasoning, discuss the conditions under which the arrangement of Figure 3.21 might be advantageous."
   ]
  },
  {
   "cell_type": "markdown",
   "metadata": {},
   "source": [
    "| **State** | **t** ($^\\circ$C) | **P** (MPa) | **h** (kJ/kg) | **s** (kJ/kg$\\cdot$K) |\n",
    "| :---: | :---: | :---: | :---: | :---: |\n",
    "| 1 | | | | |\n",
    "| 2 | | | | |\n",
    "| 3 | | | | |\n",
    "| 4 | | | | |\n",
    "| 5 | | | | |\n",
    "| 6 | | | | |"
   ]
  },
  {
   "cell_type": "markdown",
   "metadata": {},
   "source": [
    "<h3>7.27b</h3>"
   ]
  },
  {
   "cell_type": "code",
   "execution_count": null,
   "metadata": {},
   "outputs": [],
   "source": []
  }
 ],
 "metadata": {
  "kernelspec": {
   "display_name": "Python 3",
   "language": "python",
   "name": "python3"
  },
  "language_info": {
   "codemirror_mode": {
    "name": "ipython",
    "version": 3
   },
   "file_extension": ".py",
   "mimetype": "text/x-python",
   "name": "python",
   "nbconvert_exporter": "python",
   "pygments_lexer": "ipython3",
   "version": "3.7.0"
  }
 },
 "nbformat": 4,
 "nbformat_minor": 4
}
