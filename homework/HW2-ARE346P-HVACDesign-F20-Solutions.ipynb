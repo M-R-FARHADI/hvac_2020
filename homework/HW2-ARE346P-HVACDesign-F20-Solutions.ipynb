{
 "cells": [
  {
   "cell_type": "markdown",
   "metadata": {},
   "source": [
    "<p><img alt=\"caee logo\" src=\"https://drive.google.com/uc?export=view&id=1bLjob5TsJBD3tWzNKzi6sbseyXsm6eb-\" align=\"left\" hspace=\"10px\" vspace=\"0px\"></p>\n",
    "<p><img alt=\"iel logo\" src=\"https://drive.google.com/uc?export=view&id=1uoCP8K9MyHTmU5nnpdlZoprhO8Bm5Yq5\" align=\"right\" hspace=\"10px\" vspace=\"0px\"></p>\n",
    "<h1 align='center'>Homework 2</h1>"
   ]
  },
  {
   "cell_type": "markdown",
   "metadata": {},
   "source": [
    "ARE 346P / CE 389H HVAC Design\n",
    "\n",
    "Professor Dr. Zoltan Nagy\n",
    "\n",
    "**Due: September 29th, 2020**"
   ]
  },
  {
   "cell_type": "markdown",
   "metadata": {},
   "source": [
    "<h2>Instructions</h2>\n",
    "\n",
    "Solve each of the following problems and show your work. Make sure to label each answer with the same label as the problem.\n",
    "\n",
    "You will be graded on both the correct method and solution. Partial credit is awarded for use of the correct equation or method, correct values chosen from tables and charts when required, and the correct answer with appropriate units. \n",
    "\n",
    "This assignment includes *three* problems based on Chapter 8 from your textbook.\n",
    "\n",
    "| PROBLEM | POINTS |\n",
    "| --- | --- |\n",
    "| 8.5 | 10 pts |\n",
    "| 8.17 | 10 pts |\n",
    "| 8.20 | 10 pts |\n",
    "| **TOTAL** | **30 pts** |"
   ]
  },
  {
   "cell_type": "markdown",
   "metadata": {},
   "source": [
    "## Resources\n",
    "\n",
    "For this Homework, the following resources might be useful for you:\n",
    "\n",
    "1. Table A4 from your textbook\n",
    "2. Psychrometric Chart\n",
    "    1. [Online Interactive Chart](http://www.flycarpet.net/en/psyonline)\n",
    "    2. [Downloadable Charts](http://www.handsdownsoftware.com)\n",
    "3. Table A3 from your textbook\n",
    "4. Table A2 from your textboook"
   ]
  },
  {
   "cell_type": "markdown",
   "metadata": {},
   "source": [
    "# Problems"
   ]
  },
  {
   "cell_type": "markdown",
   "metadata": {},
   "source": [
    "## 8.5\n",
    "\n",
    "Moist air enters a cooling coil at 28$^\\circ$C dry-bulb temperature and 50% relative humidity and exits the coil at 13$^\\circ$C dry-bulb temperature and 90% relative humidity. The flow rate through the coil is 1.50 kg$_\\text{a}$/s and the process occurs at a pressure of 101.325 kPa. Determine:\n",
    "\n",
    "1. the sensible-heat ratio (SHR) for the process, and <br>\n",
    "2. the cooling-coil capacity (heat-transfer rate)"
   ]
  },
  {
   "cell_type": "markdown",
   "metadata": {},
   "source": [
    "### 8.5.1"
   ]
  },
  {
   "cell_type": "markdown",
   "metadata": {},
   "source": [
    "The psychrometric process line is shown below:\n",
    "\n",
    "![8p5p1](https://drive.google.com/uc?export=view&id=1TkxQ0wtoDGmIs8Fs6AeDjPuz6_ykXlWz)"
   ]
  },
  {
   "cell_type": "markdown",
   "metadata": {},
   "source": [
    "Drawing a line parallel to this in the protractor gives you an approximate value for the process."
   ]
  },
  {
   "cell_type": "markdown",
   "metadata": {},
   "source": [
    "<div class=\"alert alert-block alert-success\">\n",
    "<b>Solution:</b> SHR = 0.63\n",
    "</div>"
   ]
  },
  {
   "cell_type": "markdown",
   "metadata": {},
   "source": [
    "### 8.5.2"
   ]
  },
  {
   "cell_type": "markdown",
   "metadata": {},
   "source": [
    "To solve this problem, we will be using Eq. 8.14 from the textbook:\n",
    "\n",
    "$$\n",
    "_1\\dot{Q}_2 = \\dot{m}_a \\left[ \\left(h_2 - h_1\\right) - \\left(W_2 - W_1\\right) h_{f,2} \\right]\n",
    "$$\n",
    "\n",
    "where the cooling capacity will simply be the absolute value of this or $\\dot{Q}_R = \\| _1\\dot{Q}_2 |\\$\n",
    "\n",
    "The textbook mentions that the second term in Eq. 8.14 refers to the condensate and is often dropped. The solution below considers both cases to illustrate why the condensate is often ignored.\n",
    "\n",
    "From the psychrometric chart, we get the following values for states 1 and 2:\n",
    "\n",
    "- $h_1 = 58.5\\ g/kg_a$\n",
    "- $h_2 = 34.3\\ g/kg_a$\n",
    "- $W_1 = 0.0119\\ kg/kg_a$\n",
    "- $W_2 = 0.0084\\ kg/kg_a$\n",
    "\n",
    "From Table A.1SI:\n",
    "\n",
    "- $h_{f,2} = 53.61\\ kJ/kg$ at 13$^\\circ$C. "
   ]
  },
  {
   "cell_type": "code",
   "execution_count": 62,
   "metadata": {},
   "outputs": [
    {
     "name": "stdout",
     "output_type": "stream",
     "text": [
      "Cooling capacity (no condensate):\t36.300000000000004\n",
      "Cooling capacity (condensate):\t\t36.018547500000004\n"
     ]
    }
   ],
   "source": [
    "# defining given variables\n",
    "m_dot = 1.5\n",
    "\n",
    "# defining variables from psychrometric chart\n",
    "h1 = 58.5\n",
    "h2 = 34.3\n",
    "W1 = 0.0119\n",
    "W2 = 0.0084\n",
    "\n",
    "# defining variables from Table A.1SI\n",
    "hf2 = 53.61\n",
    "\n",
    "# calculating from Eq. 8.14\n",
    "Qr_no_condensate = abs(m_dot * (h2 - h1))\n",
    "Qr = abs(m_dot * ((h2 - h1) - (W2 - W1) * hf2))\n",
    "\n",
    "# outputting results\n",
    "print(f'Cooling capacity (no condensate):\\t{Qr_no_condensate}')\n",
    "print(f'Cooling capacity (condensate):\\t\\t{Qr}')"
   ]
  },
  {
   "cell_type": "markdown",
   "metadata": {},
   "source": [
    "As the results show, differences from including the condensate are negligible espcially considering rounding and interpretation errors from the psychrometric chart will have a greater effect on the final answer."
   ]
  },
  {
   "cell_type": "markdown",
   "metadata": {},
   "source": [
    "<div class=\"alert alert-block alert-success\">\n",
    "<b>Solution:</b> $\\dot{Q_r} = 36\\ \\text{kW}$\n",
    "</div>"
   ]
  },
  {
   "cell_type": "markdown",
   "metadata": {},
   "source": [
    "## 8.17\n",
    "\n",
    "An evaporative cooler (air washer) is used to cool a bus located in Phoenix. The system, similar to that shown in Figure 8.18, takes outside air, first passes it through an evaporative cooler, then passes it through the bus, and finally exhausts it back to the outside. The system operates with a mass flow rate of 11,400 lbm$_\\text{a}$/hr. On a very hot day the air exits the evaporative cooler saturated at 65$^\\circ$F. Atmospheric pressure is 14.7 psia.\n",
    "\n",
    "1. If the outdoor dry-bulb temperature is 95$^\\circ$F, what is the outdoor relative humidity?\n",
    "2. If the sensible and latent heat gains of the bus are 55,200 Btu/hr and 16,800 Btu/hr, respectively, what are the dry-bulb and dew-point temperatures in the bus?"
   ]
  },
  {
   "cell_type": "markdown",
   "metadata": {},
   "source": [
    "![8p17_problem](https://drive.google.com/uc?export=view&id=1EOZKH-gx9u7IUsornwRzOSS-RCLcdsn-)"
   ]
  },
  {
   "cell_type": "markdown",
   "metadata": {},
   "source": [
    "### 8.17.1"
   ]
  },
  {
   "cell_type": "markdown",
   "metadata": {},
   "source": [
    "To determine the outdoor air relative humidity, we need to remember how an air washer conditions: an air washer converts sensible heat to latent heat. On the psychrometric chart, that means we move along a constant wet-bulb temperature. We know that state 4 (which will be the same as state 1) is saturated (given in the problem) i.e. the relative humidity, $\\phi$, is equal to 100%. So state 1 and 4 will have the following properties:\n",
    "\n",
    "- $t_1 = t_4 = 65^\\circ$F\n",
    "- $\\phi_1 = \\phi_4 = 100\\%$\n",
    "\n",
    "To find $\\phi_{oa} = \\phi_3$, we draw a line from state 1 (or 4) along constant wet-bulb temperature until we intersect with a dry-bulb temperature of 95$^\\circ$F."
   ]
  },
  {
   "cell_type": "markdown",
   "metadata": {},
   "source": [
    "![8p17p1](https://drive.google.com/uc?export=view&id=1pMTjYVP0eRewgW06IQhGognawLntnnJd)"
   ]
  },
  {
   "cell_type": "markdown",
   "metadata": {},
   "source": [
    "<div class=\"alert alert-block alert-success\">\n",
    "<b>Solution:</b> $\\phi_{oa} = \\phi_3 = 18\\%$\n",
    "</div>"
   ]
  },
  {
   "cell_type": "markdown",
   "metadata": {},
   "source": [
    "### 8.17.2"
   ]
  },
  {
   "cell_type": "markdown",
   "metadata": {},
   "source": [
    "To get the dry-bulk and dew point temperatures at the exhaust (state 2), we need to determine the space-condition line based on the SHR from the bus occupants. "
   ]
  },
  {
   "cell_type": "code",
   "execution_count": 63,
   "metadata": {},
   "outputs": [
    {
     "name": "stdout",
     "output_type": "stream",
     "text": [
      "SHR: 0.7666666666666667\n"
     ]
    }
   ],
   "source": [
    "# defining givens \n",
    "Q_dot_S = 55200\n",
    "Q_dot_L = 16800\n",
    "\n",
    "# calculation SHR\n",
    "SHR = Q_dot_S / (Q_dot_S + Q_dot_L)\n",
    "\n",
    "print(f'SHR: {SHR}')"
   ]
  },
  {
   "cell_type": "markdown",
   "metadata": {},
   "source": [
    "The sensible heat will only affect the dry-blub temperature so we can use this with the specific heat of air and mass flow rate of air to and out of the space to determine the dry-bulb temperature at state 2. We will be using Eq. 8.28 (rearranged):\n",
    "\n",
    "$$\n",
    "t_2 = t_1 + \\frac{\\dot{Q}_S}{\\dot{m}_a \\bar{c}_p}\n",
    "$$"
   ]
  },
  {
   "cell_type": "code",
   "execution_count": 64,
   "metadata": {},
   "outputs": [
    {
     "name": "stdout",
     "output_type": "stream",
     "text": [
      "Dry-bulb temperature at state 2: 84.76369495166487\n"
     ]
    }
   ],
   "source": [
    "# defining givens\n",
    "m_dot = 11400\n",
    "\n",
    "# defining previously found values\n",
    "t1 = 65\n",
    "\n",
    "# assuming value for specific heat (see textbook)\n",
    "cp = 0.245\n",
    "\n",
    "# calculating t2\n",
    "t2 = t1 + Q_dot_S / (m_dot * cp)\n",
    "\n",
    "print(f'Dry-bulb temperature at state 2: {t2}')"
   ]
  },
  {
   "cell_type": "markdown",
   "metadata": {},
   "source": [
    "To find the dew point temperature, we first need to find state 2. Using the SHR we previously found, draw a line parallel to this from state 1 (or 4) until we cross the dry-bulb temperature we just found. Now we follow along a constant humidity line to saturation and read the dry-bulb temperature associated with this point. "
   ]
  },
  {
   "cell_type": "markdown",
   "metadata": {},
   "source": [
    "![8p17p2](https://drive.google.com/uc?export=view&id=1r9bOFkANb8rU5U9MeuJGTnFmyDeQ1-X6)"
   ]
  },
  {
   "cell_type": "markdown",
   "metadata": {},
   "source": [
    "<div class=\"alert alert-block alert-success\">\n",
    "<b>Solution:</b> $t_2 = 84.8^\\circ$F, $t_{d,2} = 68^\\circ$F\n",
    "</div>"
   ]
  },
  {
   "cell_type": "markdown",
   "metadata": {},
   "source": [
    "## 8.20\n",
    "\n",
    "A building is heated and humidified using the system shown in Figure 8.14. The building has a sensible-heat loss of 260 kW and a latent-heat loss of 29 kW. The building space is maintained at 20$^\\circ$C dry-bulb and 40% relative humidity. Outside air is at 3$^\\circ$C dry-bulb and 30% relative humidity. 45% of the mass flow rate of dry air supplied to the space is outside air. The supply air is at a dry-bulb temperature of 35$^\\circ$C. The air exiting the air washer is at 80% relative humidity.\n",
    "\n",
    "1. Sketch and label all points and processes on a psychrometric chart.\n",
    "2. Calculate the rate of heat addition to the moist air by the preheat coil.\n",
    "3. Calculate the rate of moisture addition by the air washer.\n",
    "4. Calculate the rate of heat addition to the moist air by the reheat coil."
   ]
  },
  {
   "cell_type": "markdown",
   "metadata": {},
   "source": [
    "![8p20_problem](https://drive.google.com/uc?export=view&id=1Zc5G6o5M_imEqyTJQRpzwGn_PhCinJRB)"
   ]
  },
  {
   "cell_type": "markdown",
   "metadata": {},
   "source": [
    "### 8.20.1"
   ]
  },
  {
   "cell_type": "markdown",
   "metadata": {},
   "source": [
    "The psychrometric process is shown in the image below. The rationale for each state is given beneath the figure.\n",
    "\n",
    "*Note*: Due to problems estimating the SHR, you might have slightly different conditions for states 1, 6, 7, 8.\n",
    "\n",
    "![8p20p1](https://drive.google.com/uc?export=view&id=1u7lNHtXtuCT5mZDA87MCpFHSnOdx-lzp)"
   ]
  },
  {
   "cell_type": "markdown",
   "metadata": {},
   "source": [
    "#### States 2, 3, 4\n",
    "Properties for these states are given directly in the problem statement. States 2 and 3 are the same since they are the exhaust air from the space and are thus the space conditions. State 4 is the outdoor air conditions which are explicitly given.\n",
    "\n",
    "- State 2: $t = 40^\\circ$C, $\\phi = 40\\%$\n",
    "- State 3: $t = 40^\\circ$C, $\\phi = 40\\%$\n",
    "- State 4: $t = 3^\\circ$C, $\\phi = 30\\%$"
   ]
  },
  {
   "cell_type": "markdown",
   "metadata": {},
   "source": [
    "#### State 5\n",
    "State 5 is a mixture of outdoor and return air. The problem states that 45% of that air is made up from outdoor air i.e. the conditions of the mixed air will be slightly more similar to the return air. Drawing a line connecting states 4 and 2 (or 3), identify a point on that line that is just slightly closer to state 2 (or 3) from the halfway mark. You can measure the distance of this line with your ruler and use your calculator to determine what 45% of that distance is. That measurement will be the distance from state 2 (or 3) to state 5."
   ]
  },
  {
   "cell_type": "markdown",
   "metadata": {},
   "source": [
    "#### States 1 and 8\n",
    "We the know the supply air temperature to the space is 35$^\\circ$C which corresponds to the dry-bulb temperature for state 1. The conditions for state 8 will be the same as state 1 since the fan will add a negligible amount of energy. We also know from the problem that the air loses latent and sensible heat when in the space. That means we will go from warmer and wetter conditions from state 1 (or 8) to state 2 (or 3). Using the values in the problem, we can determine the SHR and draw a line parallel to the SHR from state 2 (or 3) until we intersect with a dry-bulb temperature of 35$^\\circ$C. "
   ]
  },
  {
   "cell_type": "code",
   "execution_count": 65,
   "metadata": {},
   "outputs": [
    {
     "name": "stdout",
     "output_type": "stream",
     "text": [
      "SHR: 0.8996539792387543\n"
     ]
    }
   ],
   "source": [
    "# defining given values\n",
    "Q_dot_S = -260\n",
    "Q_dot_L = -29\n",
    "\n",
    "# calculating SHR\n",
    "SHR = Q_dot_S / (Q_dot_S + Q_dot_L)\n",
    "\n",
    "print(f'SHR: {SHR}')"
   ]
  },
  {
   "cell_type": "markdown",
   "metadata": {},
   "source": [
    "#### State 7\n",
    "Now with state 1 (or 8), we can determine the conditions at state 7 since all the preheat coil will do is add sensible heat from state 7 to state 1 (or 8). The problem also gives the relative humidity of the air exiting the air washer or $\\phi_7 = 80\\%$. Therefore, we draw a line along a constant humidity ratio until intersecting with a relative humidity of 80%. "
   ]
  },
  {
   "cell_type": "markdown",
   "metadata": {},
   "source": [
    "#### State 6\n",
    "The final state will require us to draw two lines from states 5 and 7 - the intersection will be state 6. From state 5 to 6, we are pre-heating so we will move along a constant humidity ratio. Draw a longer-than-necessary line from state 5 along constant constant humidity ratio. The air washer provides energy along a constant wet-bulb temperature so draw a line from state 7 along constant wet-bulb temperature until intersecting with the line we just drew from state 5. "
   ]
  },
  {
   "cell_type": "markdown",
   "metadata": {},
   "source": [
    "### 8.20.2"
   ]
  },
  {
   "cell_type": "markdown",
   "metadata": {},
   "source": [
    "The pre-heat coil adds only sensible heat to the air so we will be using the following equation:\n",
    "\n",
    "$$\n",
    "_5\\dot{Q}_6 = \\dot{m}_a \\bar{c}_p \\left( t_6 - t_5 \\right)\n",
    "$$\n",
    "\n",
    "However we do not know the mass flow rate of air. We do know that the mass flow rate will be the same from where the air mixees (state 5) to just after the air exhausts from the space. Therefore we can use the heat losses in the space in conjunction with the enthalpies from states 1 (or 8) and 2 (or 3) to estimate the mass flow rate using a rearranged version of Eq. 8.25:\n",
    "\n",
    "$$\n",
    "\\dot{m}_a = \\frac{| \\sum \\dot{Q}_s + \\sum \\dot{Q}_L|}{h_1 - h_2}\n",
    "$$"
   ]
  },
  {
   "cell_type": "code",
   "execution_count": 66,
   "metadata": {},
   "outputs": [
    {
     "name": "stdout",
     "output_type": "stream",
     "text": [
      "Mass flow rate: 16.802325581395348\n",
      "Heat Transfer Rate (5 to 6): 102.83023255813953\n"
     ]
    }
   ],
   "source": [
    "# determining enthalpies from psychrometric chart\n",
    "h1 = 52.1\n",
    "h2 = 34.9\n",
    "\n",
    "# calculating mass flow rate of air\n",
    "m_dot = (abs(Q_dot_S + Q_dot_L)) / (h1 - h2)\n",
    "\n",
    "print(f'Mass flow rate: {m_dot}')\n",
    "\n",
    "# defining \"constants\"\n",
    "cp = 1.02\n",
    "\n",
    "# defining given temperatures from psychrometric chart\n",
    "t5 = 12\n",
    "t6 = 18\n",
    "\n",
    "# calculating heat transfer rate from 5 to 6\n",
    "Q_5to6 = m_dot * cp * (t6 - t5)\n",
    "\n",
    "print(f'Heat Transfer Rate (5 to 6): {Q_5to6}')"
   ]
  },
  {
   "cell_type": "markdown",
   "metadata": {},
   "source": [
    "<div class=\"alert alert-block alert-success\">\n",
    "<b>Solution:</b> $_5Q_6 = 102$ kW\n",
    "</div>"
   ]
  },
  {
   "cell_type": "markdown",
   "metadata": {},
   "source": [
    "### 8.20.3"
   ]
  },
  {
   "cell_type": "markdown",
   "metadata": {},
   "source": [
    "The formula to determine the rate of moisture added by the air washer is given by Eq. 8.26 in the textbook. In this case we will be using the humidity ratios from states 6 and 7 since they are the conditions before and after the air washer.\n",
    "\n",
    "$$\n",
    "\\dot{m}_w = \\dot{m}_a \\left(W_7 - W_6\\right)\n",
    "$$"
   ]
  },
  {
   "cell_type": "code",
   "execution_count": 67,
   "metadata": {},
   "outputs": [
    {
     "name": "stdout",
     "output_type": "stream",
     "text": [
      "Mass Flow Rate of Moisture: 0.060488372093023254\n"
     ]
    }
   ],
   "source": [
    "# defining variables from the psychrometric chart\n",
    "W6 = 0.0034\n",
    "W7 = 0.007\n",
    "\n",
    "# calculating mass flow rate of moisture\n",
    "m_dot_w = m_dot * (W7 - W6)\n",
    "\n",
    "print(f'Mass Flow Rate of Moisture: {m_dot_w}')"
   ]
  },
  {
   "cell_type": "markdown",
   "metadata": {},
   "source": [
    "<div class=\"alert alert-block alert-success\">\n",
    "<b>Solution:</b> $0.06 \\frac{\\text{kg}_{\\text{w}}}{\\text{s}}$\n",
    "</div>"
   ]
  },
  {
   "cell_type": "markdown",
   "metadata": {},
   "source": [
    "### 8.20.4"
   ]
  },
  {
   "cell_type": "markdown",
   "metadata": {},
   "source": [
    "We will do the same process as we did for 8.20.2 but consider states 7 and 8 instead. "
   ]
  },
  {
   "cell_type": "code",
   "execution_count": 68,
   "metadata": {},
   "outputs": [
    {
     "name": "stdout",
     "output_type": "stream",
     "text": [
      "Heat Transfer Rate (7 to 8): 414.74860465116274\n"
     ]
    }
   ],
   "source": [
    "# defining temperatures from psychrometric chart\n",
    "t7 = 10.8\n",
    "t8 = 35\n",
    "\n",
    "# calculating heat transfer rate from 7 to 8\n",
    "Q_7to8 = m_dot * cp * (t8 - t7)\n",
    "\n",
    "print(f'Heat Transfer Rate (7 to 8): {Q_7to8}')"
   ]
  },
  {
   "cell_type": "markdown",
   "metadata": {},
   "source": [
    "<div class=\"alert alert-block alert-success\">\n",
    "<b>Solution:</b> $_7Q_8 = 414.8$ kW\n",
    "</div>"
   ]
  }
 ],
 "metadata": {
  "kernelspec": {
   "display_name": "Python 3",
   "language": "python",
   "name": "python3"
  },
  "language_info": {
   "codemirror_mode": {
    "name": "ipython",
    "version": 3
   },
   "file_extension": ".py",
   "mimetype": "text/x-python",
   "name": "python",
   "nbconvert_exporter": "python",
   "pygments_lexer": "ipython3",
   "version": "3.7.0"
  }
 },
 "nbformat": 4,
 "nbformat_minor": 4
}
