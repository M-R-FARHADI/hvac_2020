{
 "cells": [
  {
   "cell_type": "markdown",
   "metadata": {},
   "source": [
    "<p><img alt=\"caee logo\" src=\"https://drive.google.com/uc?export=view&id=1bLjob5TsJBD3tWzNKzi6sbseyXsm6eb-\" align=\"left\" hspace=\"10px\" vspace=\"0px\"></p>\n",
    "<p><img alt=\"iel logo\" src=\"https://drive.google.com/uc?export=view&id=1uoCP8K9MyHTmU5nnpdlZoprhO8Bm5Yq5\" align=\"right\" hspace=\"10px\" vspace=\"0px\"></p>\n",
    "<h1 align='center'>Homework 3</h1>"
   ]
  },
  {
   "cell_type": "markdown",
   "metadata": {},
   "source": [
    "ARE 346P / CE 389H HVAC Design\n",
    "\n",
    "Professor Dr. Zoltan Nagy\n",
    "\n",
    "**Due: October 31st, 2020**"
   ]
  },
  {
   "cell_type": "markdown",
   "metadata": {},
   "source": [
    "<h2>Instructions</h2>\n",
    "\n",
    "Solve each of the following problems and show your work. Make sure to label each answer with the same label as the problem.\n",
    "\n",
    "You will be graded on both the correct method and solution. Partial credit is awarded for use of the correct equation or method, correct values chosen from tables and charts when required, and the correct answer with appropriate units. \n",
    "\n",
    "This assignment includes *two* problems based on Chapter 11 from your textbook.\n",
    "\n",
    "| PROBLEM | POINTS |\n",
    "| --- | --- |\n",
    "| 11.1 | 15 pts |\n",
    "| 11.3 | 15 pts |\n",
    "| **TOTAL** | **30 pts** |"
   ]
  },
  {
   "cell_type": "markdown",
   "metadata": {},
   "source": [
    "## Resources\n",
    "\n",
    "For this Homework, the following resources might be useful for you:\n",
    "\n",
    "1. Psychrometric Chart\n",
    "    1. [Online Interactive Chart](http://www.flycarpet.net/en/psyonline)\n",
    "    2. [Downloadable Charts](http://www.handsdownsoftware.com)\n",
    "1. Table A.4 from your textbook\n",
    "3. Table A.5\n",
    "3. Table A.6\n",
    "3. Table A.1"
   ]
  },
  {
   "cell_type": "markdown",
   "metadata": {},
   "source": [
    "# Problems"
   ]
  },
  {
   "cell_type": "markdown",
   "metadata": {},
   "source": [
    "## 11.1\n",
    "\n",
    "Two thousand cubic feet per minute of saturated moist air at 50$^\\circ$F and a pressure of 14.696 psia is heated to 120$^\\circ$F in a single-pass, cross-flow heat exchanger. Hot water enters at 180$^\\circ$F at a volumetric flow rate of 30 gpm. The hot water is mixed, the air is unmixed. Determine the:\n",
    "\n",
    "1. leaving-water temperature,\n",
    "2. value of the correction factor F,\n",
    "3. value of LMTD,\n",
    "4. heat-exchanger effectiveness,\n",
    "5. fluid capacity-rate ratio,\n",
    "6. value of NTU, and\n",
    "7. overall UA product"
   ]
  },
  {
   "cell_type": "markdown",
   "metadata": {},
   "source": [
    "![11p1](https://drive.google.com/uc?export=view&id=1zwOVbVypIJr0As8exdetE77YD9ZzVMuc)"
   ]
  },
  {
   "cell_type": "markdown",
   "metadata": {},
   "source": [
    "### 11.1.1"
   ]
  },
  {
   "cell_type": "markdown",
   "metadata": {},
   "source": [
    "From an energy balance on the heat exchanger we get:\n",
    "\n",
    "$$\n",
    "\\dot{m}_\\text{air} c_\\text{p,air} \\left(t_1 - t_2\\right) = \\dot{m}_\\text{water} c_\\text{p,water} \\left(t_A - t_B\\right)\n",
    "$$\n",
    "\n",
    "We can rearrange to solve for the temperature at B (the leaving-water temperature), but before we do that we need to determine:\n",
    "\n",
    "- mass flow rate of air\n",
    "- mass flow rate of water\n",
    "- specific heat of air"
   ]
  },
  {
   "cell_type": "markdown",
   "metadata": {},
   "source": [
    "#### Mass flow rate of air\n",
    "\n",
    "To find the mass flow rate of air, we have to use the volumetric flow rate given to us and the specific volume at the given conditions. Using the psychrometric chart, we identify the point at 50$^\\circ$F and $\\phi$ = 100%."
   ]
  },
  {
   "cell_type": "code",
   "execution_count": 2,
   "metadata": {},
   "outputs": [
    {
     "name": "stdout",
     "output_type": "stream",
     "text": [
      "Mass flow rate of air: 153.84615384615384\n"
     ]
    }
   ],
   "source": [
    "# defining given values\n",
    "dot_V1 = 2000\n",
    "\n",
    "# defining values from the psychrometric chart\n",
    "v1 = 13\n",
    "\n",
    "# calculating the mass flow rate of air\n",
    "dot_m1 = dot_V1 / v1\n",
    "\n",
    "print(f'Mass flow rate of air: {dot_m1}')"
   ]
  },
  {
   "cell_type": "markdown",
   "metadata": {},
   "source": [
    "#### Mass flow rate of water\n",
    "We will use the same equation to determine the mass flow rate of water. We can get the specific volume from Table A.1E."
   ]
  },
  {
   "cell_type": "code",
   "execution_count": 3,
   "metadata": {},
   "outputs": [
    {
     "name": "stdout",
     "output_type": "stream",
     "text": [
      "Mass flow rate of air: 242.91932354900638\n"
     ]
    }
   ],
   "source": [
    "# defining given values (and converting)\n",
    "dot_VA = 30 * 35.32 / 264.2\n",
    "\n",
    "# defining values from the psychrometric chart\n",
    "vA = 0.01651\n",
    "\n",
    "# calculating the mass flow rate of air\n",
    "dot_mA = dot_VA / vA\n",
    "\n",
    "print(f'Mass flow rate of air: {dot_mA}')"
   ]
  },
  {
   "cell_type": "markdown",
   "metadata": {},
   "source": [
    "#### Specific heat of air\n",
    "\n",
    "Using Eq. 7.23 from the textbook:\n",
    "\n",
    "$$\n",
    "c_p = c_\\text{p,a} + W c_\\text{p,w}\n",
    "$$\n",
    "\n",
    "These two new values can be determined from Tables A.5E and A.6E, respectively, and the humidity ratio, $W$, can be determined from the psychrometric chart."
   ]
  },
  {
   "cell_type": "code",
   "execution_count": 6,
   "metadata": {},
   "outputs": [
    {
     "name": "stdout",
     "output_type": "stream",
     "text": [
      "Specific heat of air: 0.2433744\n"
     ]
    }
   ],
   "source": [
    "# defining values from Tables\n",
    "cp_a = 0.240 #A.5E\n",
    "cp_w = 0.444 #A.6E\n",
    "\n",
    "# defining values from the psychrometric chart\n",
    "W1 = 0.0076\n",
    "\n",
    "# calculating the specific heat of air\n",
    "cp_air = cp_a + W1 * cp_w\n",
    "\n",
    "print(f'Specific heat of air: {cp_air}')"
   ]
  },
  {
   "cell_type": "markdown",
   "metadata": {},
   "source": [
    "#### Exit temperature\n",
    "\n",
    "Rearranging the equation from the beginning and solving, we get the value we are looking for."
   ]
  },
  {
   "cell_type": "code",
   "execution_count": 11,
   "metadata": {},
   "outputs": [
    {
     "name": "stdout",
     "output_type": "stream",
     "text": [
      "Exit temperature: 169.21059453553795\n"
     ]
    }
   ],
   "source": [
    "# defining given values\n",
    "tA = 180\n",
    "t1 = 50\n",
    "t2 = 120\n",
    "\n",
    "# defining assumed values\n",
    "cp_water = 1\n",
    "\n",
    "# calculating the temperature at B\n",
    "tB = tA + (dot_m1 * cp_air * (t1 - t2))/(dot_mA * cp_water)\n",
    "\n",
    "print(f'Exit temperature: {tB}')"
   ]
  },
  {
   "cell_type": "markdown",
   "metadata": {},
   "source": [
    "<div class=\"alert alert-block alert-success\">\n",
    "<b>Solution:</b> $\\text{T}_\\text{B} = 169.2^\\circ \\text{F} $\n",
    "</div>"
   ]
  },
  {
   "cell_type": "markdown",
   "metadata": {},
   "source": [
    "### 11.1.2"
   ]
  },
  {
   "cell_type": "markdown",
   "metadata": {},
   "source": [
    "To determine the correction factor, $F$, we must use the correct figure for a single-pass, cross flow heat exchanger with one fluid mixed and the other unmixed. To do so, we use Figure 7.15 from the textbook. We first need to calculate the two dimensionless parameters $R$ and $P$."
   ]
  },
  {
   "cell_type": "code",
   "execution_count": 12,
   "metadata": {},
   "outputs": [
    {
     "name": "stdout",
     "output_type": "stream",
     "text": [
      "R: 0.15413436377802928\n",
      "P: 0.5384615384615384\n"
     ]
    }
   ],
   "source": [
    "# calculating R and P\n",
    "R = (tA - tB)/(t2 - t1)\n",
    "P = (t2 - t1)/(tA - t1)\n",
    "\n",
    "print(f'R: {R}\\nP: {P}')"
   ]
  },
  {
   "cell_type": "markdown",
   "metadata": {},
   "source": [
    "Now we use these two values to enter figure 7.15 to determine $F$."
   ]
  },
  {
   "cell_type": "markdown",
   "metadata": {},
   "source": [
    "<div class=\"alert alert-block alert-success\">\n",
    "<b>Solution:</b> $F = 0.99$\n",
    "</div>"
   ]
  },
  {
   "cell_type": "markdown",
   "metadata": {},
   "source": [
    "### 11.1.3"
   ]
  },
  {
   "cell_type": "markdown",
   "metadata": {},
   "source": [
    "To solve this problem, we simply apply Eq. 11.4 from the textbook with information we have already determined:\n",
    "\n",
    "$$\n",
    "\\Delta t_\\text{m,cf} = \\frac{\\left(t_2 - t_1\\right)(R-1)}{\\ln \\left(\\frac{1 - R}{1 - RP}\\right)}\n",
    "$$\n",
    "\n",
    "where the logarithmic mean temperature difference (LMTD) for **pure counterflow** is $\\Delta t_\\text{m,cf}$."
   ]
  },
  {
   "cell_type": "code",
   "execution_count": 19,
   "metadata": {},
   "outputs": [
    {
     "name": "stdout",
     "output_type": "stream",
     "text": [
      "LMTD (pure counterflow): 86.24404243657759\n"
     ]
    }
   ],
   "source": [
    "# importing library to use natural logarithm\n",
    "import math\n",
    "\n",
    "# calculating LMTD for counterflow\n",
    "lmtd_counter = ( (t2 - t1) * (R - 1) )/ ( math.log((1 - P)/(1 - R * P)) )\n",
    "\n",
    "print(f'LMTD (pure counterflow): {lmtd_counter}')"
   ]
  },
  {
   "cell_type": "markdown",
   "metadata": {},
   "source": [
    "Now we use the correction factor to \"convert\" from pure counterflow to crossflow."
   ]
  },
  {
   "cell_type": "code",
   "execution_count": 20,
   "metadata": {},
   "outputs": [
    {
     "name": "stdout",
     "output_type": "stream",
     "text": [
      "LMTD (crossflow): 85.38160201221181\n"
     ]
    }
   ],
   "source": [
    "# defininng previously determined values\n",
    "F = 0.99\n",
    "\n",
    "# calculating LMTD for crossflow\n",
    "lmtd_cross = F * lmtd_counter\n",
    "\n",
    "print(f'LMTD (crossflow): {lmtd_cross}')"
   ]
  },
  {
   "cell_type": "markdown",
   "metadata": {},
   "source": [
    "<div class=\"alert alert-block alert-success\">\n",
    "<b>Solution:</b> $\\text{LMTD} = 85.4^\\circ$F\n",
    "</div>"
   ]
  },
  {
   "cell_type": "markdown",
   "metadata": {},
   "source": [
    "### 11.1.4"
   ]
  },
  {
   "cell_type": "markdown",
   "metadata": {},
   "source": [
    "When determining the effectiveness, we have to determine which fluid has the larger capacity rate."
   ]
  },
  {
   "cell_type": "code",
   "execution_count": 24,
   "metadata": {},
   "outputs": [
    {
     "name": "stdout",
     "output_type": "stream",
     "text": [
      "Capacity (air): 37.44221538461538\n",
      "Capacity (water): 242.91932354900638\n"
     ]
    }
   ],
   "source": [
    "# calculating capacities\n",
    "c_air = dot_m1 * cp_air\n",
    "c_water = dot_mA * cp_water\n",
    "\n",
    "print(f'Capacity (air): {c_air}\\nCapacity (water): {c_water}')"
   ]
  },
  {
   "cell_type": "markdown",
   "metadata": {},
   "source": [
    "Since the capacity rate of air is less than water, $c_\\text{min} = c_\\text{air} = c_\\text{cold}$. This relationship means that the temperature of the air will change more than the temperature of the water. Therefore by Eq. 11.19, we can determine the efficiency, $\\epsilon$."
   ]
  },
  {
   "cell_type": "markdown",
   "metadata": {},
   "source": [
    "<div class=\"alert alert-block alert-success\">\n",
    "<b>Solution:</b> $\\epsilon = P = 0.54$\n",
    "</div>"
   ]
  },
  {
   "cell_type": "markdown",
   "metadata": {},
   "source": [
    "### 11.1.5"
   ]
  },
  {
   "cell_type": "markdown",
   "metadata": {},
   "source": [
    "The fluid capacity ratio is given by Eq. 11.21:\n",
    "\n",
    "$$\n",
    "c_r = \\frac{c_\\text{cold}}{c_\\text{hot}}\n",
    "$$"
   ]
  },
  {
   "cell_type": "code",
   "execution_count": 26,
   "metadata": {},
   "outputs": [
    {
     "name": "stdout",
     "output_type": "stream",
     "text": [
      "Fluid capacity ratio: 0.15413436377802944\n"
     ]
    }
   ],
   "source": [
    "# calculating fluid capacity ratio\n",
    "c_r = c_air / c_water\n",
    "\n",
    "print(f'Fluid capacity ratio: {c_r}')"
   ]
  },
  {
   "cell_type": "markdown",
   "metadata": {},
   "source": [
    "<div class=\"alert alert-block alert-success\">\n",
    "<b>Solution:</b> $c_r = 0.15$\n",
    "</div>"
   ]
  },
  {
   "cell_type": "markdown",
   "metadata": {},
   "source": [
    "### 11.1.6"
   ]
  },
  {
   "cell_type": "markdown",
   "metadata": {},
   "source": [
    "We can determine the equation for the number of transfer units (NTU), by using Table 11.2 from your textbook. We have two options for crossflow heat exchangers and, in our case, $c_\\text{min}$ is unmixed so we have the first case:\n",
    "\n",
    "$$\n",
    "\\epsilon = \\frac{1}{c_r} \\left[1 - \\exp\\left(-c_r \\left[1 - \\exp\\left(-\\text{NTU}\\right)\\right]\\right)\\right]\n",
    "$$\n",
    "\n",
    "After careful rearranging, we get:\n",
    "\n",
    "$$\n",
    "\\text{NTU} = - \\ln \\left[1 + \\frac{1}{c_r} \\ln\\left(1 - \\epsilon c_r\\right)\\right]\n",
    "$$"
   ]
  },
  {
   "cell_type": "code",
   "execution_count": 28,
   "metadata": {},
   "outputs": [
    {
     "name": "stdout",
     "output_type": "stream",
     "text": [
      "NTU: 0.8258223931468816\n"
     ]
    }
   ],
   "source": [
    "# defining previously determined values\n",
    "epsilon = P\n",
    "\n",
    "# calculating NTU\n",
    "NTU = -1 * math.log(1 + 1 / c_r * math.log(1 - epsilon * c_r))\n",
    "\n",
    "print(f'NTU: {NTU}')"
   ]
  },
  {
   "cell_type": "markdown",
   "metadata": {},
   "source": [
    "<div class=\"alert alert-block alert-success\">\n",
    "<b>Solution:</b> $\\text{NTU} = 0.83$\n",
    "</div>"
   ]
  },
  {
   "cell_type": "markdown",
   "metadata": {},
   "source": [
    "### 11.1.7"
   ]
  },
  {
   "cell_type": "markdown",
   "metadata": {},
   "source": [
    "The UA product is determined from rearranging Eq. 11.20 from your textbook:\n",
    "\n",
    "$$\n",
    "U_o A_o = c_\\text{cold} \\text{NTU}\n",
    "$$"
   ]
  },
  {
   "cell_type": "code",
   "execution_count": 31,
   "metadata": {},
   "outputs": [
    {
     "name": "stdout",
     "output_type": "stream",
     "text": [
      "UA: 30.92061991364406\n"
     ]
    }
   ],
   "source": [
    "# calculating UA product\n",
    "UA = c_air * NTU\n",
    "\n",
    "print(f'UA: {UA}')"
   ]
  },
  {
   "cell_type": "markdown",
   "metadata": {},
   "source": [
    "<div class=\"alert alert-block alert-success\">\n",
    "<b>Solution:</b> $\\text{U}_o\\text{A}_o = 30.92 \\frac{\\text{Btu}}{\\text{min}^\\circ F} = 1853 \\frac{\\text{Btu}}{\\text{hr}^\\circ F}$\n",
    "</div>"
   ]
  },
  {
   "cell_type": "markdown",
   "metadata": {},
   "source": [
    "## 11.3\n",
    "\n",
    "Repeat Problem 11.1 if the heating medium is condensing steam at a pressure of 10 psig that enters as saturated vapor and leaves as saturated liquid:\n",
    "\n",
    "1. leaving-water temperature,\n",
    "2. value of the correction factor F,\n",
    "3. value of LMTD,\n",
    "4. heat-exchanger effectiveness,\n",
    "5. fluid capacity-rate ratio,\n",
    "6. value of NTU, and\n",
    "7. overall UA product\n"
   ]
  },
  {
   "cell_type": "markdown",
   "metadata": {},
   "source": [
    "![11p3](https://drive.google.com/uc?export=view&id=1DvvKdSFMe-w1k36n6fgDtLXIy6-G4B95)"
   ]
  },
  {
   "cell_type": "markdown",
   "metadata": {},
   "source": [
    "### 11.3.1"
   ]
  },
  {
   "cell_type": "markdown",
   "metadata": {},
   "source": [
    "The leaving temperature will be easier to calculate in this instance since we know we have saturated water at the outlet. We just have to use Table A.1E to determine the value."
   ]
  },
  {
   "cell_type": "markdown",
   "metadata": {},
   "source": [
    "<div class=\"alert alert-block alert-success\">\n",
    "<b>Solution:</b> $t_B = 239.38^\\circ$F\n",
    "</div>"
   ]
  },
  {
   "cell_type": "markdown",
   "metadata": {},
   "source": [
    "### 11.3.2"
   ]
  },
  {
   "cell_type": "markdown",
   "metadata": {},
   "source": [
    "The correction factor is simply 1 since one of the fluids is isothermal."
   ]
  },
  {
   "cell_type": "markdown",
   "metadata": {},
   "source": [
    "<div class=\"alert alert-block alert-success\">\n",
    "<b>Solution:</b> $F = 1$\n",
    "</div>"
   ]
  },
  {
   "cell_type": "markdown",
   "metadata": {},
   "source": [
    "### 11.3.3"
   ]
  },
  {
   "cell_type": "markdown",
   "metadata": {},
   "source": [
    "Since the fluid temperature remains constant, we use Eq. 11.18 from the textbook to calculate the LMTD."
   ]
  },
  {
   "cell_type": "code",
   "execution_count": 34,
   "metadata": {},
   "outputs": [
    {
     "name": "stdout",
     "output_type": "stream",
     "text": [
      "LMTD: 151.697748382583\n"
     ]
    }
   ],
   "source": [
    "# defining previously determined values\n",
    "tB = 239.38\n",
    "\n",
    "# calculating LMTD\n",
    "LMTD = (t2 - t1) / math.log((tB - t1) / (tB - t2))\n",
    "\n",
    "print(f'LMTD: {LMTD}')"
   ]
  },
  {
   "cell_type": "markdown",
   "metadata": {},
   "source": [
    "<div class=\"alert alert-block alert-success\">\n",
    "<b>Solution:</b> $\\text{LMTD} = 151.7^\\circ$F\n",
    "</div>"
   ]
  },
  {
   "cell_type": "markdown",
   "metadata": {},
   "source": [
    "### 11.3.4"
   ]
  },
  {
   "cell_type": "markdown",
   "metadata": {},
   "source": [
    "To calculate the efficiency, we are going to use the same formula we did before (11.19) since the hot fluid isn't changing temperature at all."
   ]
  },
  {
   "cell_type": "code",
   "execution_count": 36,
   "metadata": {},
   "outputs": [
    {
     "name": "stdout",
     "output_type": "stream",
     "text": [
      "Efficiency: 0.3696272045622558\n"
     ]
    }
   ],
   "source": [
    "# calculating the efficiency\n",
    "epsilon = (t2 - t1) / (tB - t1)\n",
    "\n",
    "print(f'Efficiency: {epsilon}')"
   ]
  },
  {
   "cell_type": "markdown",
   "metadata": {},
   "source": [
    "<div class=\"alert alert-block alert-success\">\n",
    "<b>Solution:</b> $\\epsilon = 0.370$\n",
    "</div>"
   ]
  },
  {
   "cell_type": "markdown",
   "metadata": {},
   "source": [
    "### 11.3.5"
   ]
  },
  {
   "cell_type": "markdown",
   "metadata": {},
   "source": [
    "Since the steam is undergoing a phase change and not changing in termperature, $c_r$ = 0 since $c_\\text{max} = c_\\text{hot} = \\infty$"
   ]
  },
  {
   "cell_type": "markdown",
   "metadata": {},
   "source": [
    "<div class=\"alert alert-block alert-success\">\n",
    "<b>Solution:</b> $c_r = 0$\n",
    "</div>"
   ]
  },
  {
   "cell_type": "markdown",
   "metadata": {},
   "source": [
    "### 11.3.6"
   ]
  },
  {
   "cell_type": "markdown",
   "metadata": {},
   "source": [
    "Again, since one of our fluids is isothermal, we use Eq. 11.25 from the textbook and rearrange for NTU.\n",
    "\n",
    "$$\n",
    "\\text{NTU} = -\\ln \\left(1 - \\epsilon\\right)\n",
    "$$"
   ]
  },
  {
   "cell_type": "code",
   "execution_count": 37,
   "metadata": {},
   "outputs": [
    {
     "name": "stdout",
     "output_type": "stream",
     "text": [
      "NTU: 0.4614438958148502\n"
     ]
    }
   ],
   "source": [
    "# calculating NTU\n",
    "NTU = -1 * math.log(1 - epsilon)\n",
    "\n",
    "print(f'NTU: {NTU}')"
   ]
  },
  {
   "cell_type": "markdown",
   "metadata": {},
   "source": [
    "<div class=\"alert alert-block alert-success\">\n",
    "<b>Solution:</b> NTU = 0.46\n",
    "</div>"
   ]
  },
  {
   "cell_type": "markdown",
   "metadata": {},
   "source": [
    "### 11.3.7"
   ]
  },
  {
   "cell_type": "markdown",
   "metadata": {},
   "source": [
    "We will calculate the UA product the same way using values previously determined in 11.1."
   ]
  },
  {
   "cell_type": "code",
   "execution_count": 41,
   "metadata": {},
   "outputs": [
    {
     "name": "stdout",
     "output_type": "stream",
     "text": [
      "UA: 17.27748173501564\n"
     ]
    }
   ],
   "source": [
    "# calculating UA product\n",
    "UA = c_air * NTU\n",
    "\n",
    "print(f'UA: {UA}')"
   ]
  },
  {
   "cell_type": "markdown",
   "metadata": {},
   "source": [
    "<div class=\"alert alert-block alert-success\">\n",
    "<b>Solution:</b> $\\text{U}_o\\text{A}_o = 17.28 \\frac{\\text{Btu}}{\\text{min}^\\circ F} = 1037 \\frac{\\text{Btu}}{\\text{hr}^\\circ F}$\n",
    "</div>"
   ]
  }
 ],
 "metadata": {
  "kernelspec": {
   "display_name": "Python 3",
   "language": "python",
   "name": "python3"
  },
  "language_info": {
   "codemirror_mode": {
    "name": "ipython",
    "version": 3
   },
   "file_extension": ".py",
   "mimetype": "text/x-python",
   "name": "python",
   "nbconvert_exporter": "python",
   "pygments_lexer": "ipython3",
   "version": "3.7.0"
  }
 },
 "nbformat": 4,
 "nbformat_minor": 4
}
