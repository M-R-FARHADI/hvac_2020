{
 "cells": [
  {
   "cell_type": "markdown",
   "metadata": {},
   "source": [
    "<p><img alt=\"caee logo\" src=\"https://drive.google.com/uc?export=view&id=1bLjob5TsJBD3tWzNKzi6sbseyXsm6eb-\" align=\"left\" hspace=\"10px\" vspace=\"0px\"></p>\n",
    "<p><img alt=\"iel logo\" src=\"https://drive.google.com/uc?export=view&id=1uoCP8K9MyHTmU5nnpdlZoprhO8Bm5Yq5\" align=\"right\" hspace=\"10px\" vspace=\"0px\"></p>\n",
    "<h1 align='center'>Homework 2</h1>"
   ]
  },
  {
   "cell_type": "markdown",
   "metadata": {},
   "source": [
    "ARE 346P / CE 389H HVAC Design\n",
    "\n",
    "Professor Dr. Zoltan Nagy\n",
    "\n",
    "**Due: October 10th, 2020**"
   ]
  },
  {
   "cell_type": "markdown",
   "metadata": {},
   "source": [
    "<h2>Instructions</h2>\n",
    "\n",
    "Solve each of the following problems and show your work. Make sure to label each answer with the same label as the problem.\n",
    "\n",
    "You will be graded on both the correct method and solution. Partial credit is awarded for use of the correct equation or method, correct values chosen from tables and charts when required, and the correct answer with appropriate units. \n",
    "\n",
    "This assignment includes *six* problems based on Chapters 8 and 3 from your textbook.\n",
    "\n",
    "| PROBLEM | POINTS |\n",
    "| --- | --- |\n",
    "| 8.5 | 10 pts |\n",
    "| 8.17 | 10 pts |\n",
    "| 8.20 | 10 pts |\n",
    "| 3.1 | 10 pts |\n",
    "| 3.5 | 10 pts |\n",
    "| 3.9 | 10 pts |\n",
    "| **TOTAL** | **60 pts** |"
   ]
  },
  {
   "cell_type": "markdown",
   "metadata": {},
   "source": [
    "## Resources\n",
    "\n",
    "For this Homework, the following resources might be useful for you:\n",
    "\n",
    "1. Table A4 from your textbook\n",
    "2. Psychrometric Chart\n",
    "    1. [Online Interactive Chart](http://www.flycarpet.net/en/psyonline)\n",
    "    2. [Downloadable Charts](http://www.handsdownsoftware.com)"
   ]
  },
  {
   "cell_type": "markdown",
   "metadata": {},
   "source": [
    "# Problems"
   ]
  },
  {
   "cell_type": "markdown",
   "metadata": {},
   "source": [
    "## 8.5\n",
    "\n",
    "Moist air enters a cooling coil at 28$^\\circ$C dry-bulb temperature and 50% relative humidity and exits the coil at 13$^\\circ$C dry-bulb temperature and 90% relative humidity. The flow rate through the coil is 1.50 kg$_\\text{a}$/s and the process occurs at a pressure of 101.325 kPa. Determine:\n",
    "\n",
    "1. the sensible-heat ratio (SHR) for the process, and <br>\n",
    "2. the cooling-coil capacity (heat-transfer rate)"
   ]
  },
  {
   "cell_type": "markdown",
   "metadata": {},
   "source": [
    "### 8.5.1"
   ]
  },
  {
   "cell_type": "markdown",
   "metadata": {},
   "source": [
    "The psychrometric process line is shown below:\n",
    "\n",
    "![8p5p1](https://drive.google.com/uc?export=view&id=1TkxQ0wtoDGmIs8Fs6AeDjPuz6_ykXlWz)"
   ]
  },
  {
   "cell_type": "markdown",
   "metadata": {},
   "source": [
    "Drawing a line parallel to this in the protractor gives you an approximate value for the process."
   ]
  },
  {
   "cell_type": "markdown",
   "metadata": {},
   "source": [
    "<div class=\"alert alert-block alert-success\">\n",
    "<b>Solution:</b> SHR = 0.63\n",
    "</div>"
   ]
  },
  {
   "cell_type": "markdown",
   "metadata": {},
   "source": [
    "### 8.5.2"
   ]
  },
  {
   "cell_type": "markdown",
   "metadata": {},
   "source": [
    "To solve this problem, we will be using Eq. 8.14 from the textbook:\n",
    "\n",
    "$$\n",
    "_1\\dot{Q}_2 = \\dot{m}_a \\left[ \\left(h_2 - h_1\\right) - \\left(W_2 - W_1\\right) h_{f,2} \\right]\n",
    "$$\n",
    "\n",
    "where the cooling capacity will simply be the absolute value of this or $\\dot{Q}_R = \\| _1\\dot{Q}_2 |\\$\n",
    "\n",
    "The textbook mentions that the second term in Eq. 8.14 refers to the condensate and is often dropped. The solution below considers both cases to illustrate why the condensate is often ignored.\n",
    "\n",
    "From the psychrometric chart, we get the following values for states 1 and 2:\n",
    "\n",
    "- $h_1 = 58.5\\ g/kg_a$\n",
    "- $h_2 = 34.3\\ g/kg_a$\n",
    "- $W_1 = 0.0119\\ kg/kg_a$\n",
    "- $W_2 = 0.0084\\ kg/kg_a$\n",
    "\n",
    "From Table A.1SI:\n",
    "\n",
    "- $h_{f,2} = 53.61\\ kJ/kg$ at 13$^\\circ$C. "
   ]
  },
  {
   "cell_type": "code",
   "execution_count": 1,
   "metadata": {},
   "outputs": [
    {
     "name": "stdout",
     "output_type": "stream",
     "text": [
      "Cooling capacity (no condensate):\t36.300000000000004\n",
      "Cooling capacity (condensate):\t\t36.018547500000004\n"
     ]
    }
   ],
   "source": [
    "# defining given variables\n",
    "m_dot = 1.5\n",
    "\n",
    "# defining variables from psychrometric chart\n",
    "h1 = 58.5\n",
    "h2 = 34.3\n",
    "W1 = 0.0119\n",
    "W2 = 0.0084\n",
    "\n",
    "# defining variables from Table A.1SI\n",
    "hf2 = 53.61\n",
    "\n",
    "# calculating from Eq. 8.14\n",
    "Qr_no_condensate = abs(m_dot * (h2 - h1))\n",
    "Qr = abs(m_dot * ((h2 - h1) - (W2 - W1) * hf2))\n",
    "\n",
    "# outputting results\n",
    "print(f'Cooling capacity (no condensate):\\t{Qr_no_condensate}')\n",
    "print(f'Cooling capacity (condensate):\\t\\t{Qr}')"
   ]
  },
  {
   "cell_type": "markdown",
   "metadata": {},
   "source": [
    "As the results show, differences from including the condensate are negligible espcially considering rounding and interpretation errors from the psychrometric chart will have a greater effect on the final answer."
   ]
  },
  {
   "cell_type": "markdown",
   "metadata": {},
   "source": [
    "<div class=\"alert alert-block alert-success\">\n",
    "<b>Solution:</b> $\\dot{Q_r} = 36\\ \\text{kW}$\n",
    "</div>"
   ]
  },
  {
   "cell_type": "markdown",
   "metadata": {},
   "source": [
    "## 8.17\n",
    "\n",
    "An evaporative cooler (air washer) is used to cool a bus located in Phoenix. The system, similar to that shown in Figure 8.18, takes outside air, first passes it through an evaporative cooler, then passes it through the bus, and finally exhausts it back to the outside. The system operates with a mass flow rate of 11,400 lbm$_\\text{a}$/hr. On a very hot day the air exits the evaporative cooler saturated at 65$^\\circ$F. Atmospheric pressure is 14.7 psia.\n",
    "\n",
    "1. If the outdoor dry-bulb temperature is 95$^\\circ$F, what is the outdoor relative humidity?\n",
    "2. If the sensible and latent heat gains of the bus are 55,200 Btu/hr and 16,800 Btu/hr, respectively, what are the dry-bulb and dew-point temperatures in the bus?"
   ]
  },
  {
   "cell_type": "markdown",
   "metadata": {},
   "source": [
    "![8p17_problem](https://drive.google.com/uc?export=view&id=1EOZKH-gx9u7IUsornwRzOSS-RCLcdsn-)"
   ]
  },
  {
   "cell_type": "markdown",
   "metadata": {},
   "source": [
    "### 8.17.1"
   ]
  },
  {
   "cell_type": "markdown",
   "metadata": {},
   "source": [
    "To determine the outdoor air relative humidity, we need to remember how an air washer conditions: an air washer converts sensible heat to latent heat. On the psychrometric chart, that means we move along a constant wet-bulb temperature. We know that state 4 (which will be the same as state 1) is saturated (given in the problem) i.e. the relative humidity, $\\phi$, is equal to 100%. So state 1 and 4 will have the following properties:\n",
    "\n",
    "- $t_1 = t_4 = 65^\\circ$F\n",
    "- $\\phi_1 = \\phi_4 = 100\\%$\n",
    "\n",
    "To find $\\phi_{oa} = \\phi_3$, we draw a line from state 1 (or 4) along constant wet-bulb temperature until we intersect with a dry-bulb temperature of 95$^\\circ$F."
   ]
  },
  {
   "cell_type": "markdown",
   "metadata": {},
   "source": [
    "![8p17p1](https://drive.google.com/uc?export=view&id=1pMTjYVP0eRewgW06IQhGognawLntnnJd)"
   ]
  },
  {
   "cell_type": "markdown",
   "metadata": {},
   "source": [
    "<div class=\"alert alert-block alert-success\">\n",
    "<b>Solution:</b> $\\phi_{oa} = \\phi_3 = 18\\%$\n",
    "</div>"
   ]
  },
  {
   "cell_type": "markdown",
   "metadata": {},
   "source": [
    "### 8.17.2"
   ]
  },
  {
   "cell_type": "markdown",
   "metadata": {},
   "source": [
    "To get the dry-bulk and dew point temperatures at the exhaust (state 2), we need to determine the space-condition line based on the SHR from the bus occupants. "
   ]
  },
  {
   "cell_type": "code",
   "execution_count": 2,
   "metadata": {},
   "outputs": [
    {
     "name": "stdout",
     "output_type": "stream",
     "text": [
      "SHR: 0.7666666666666667\n"
     ]
    }
   ],
   "source": [
    "# defining givens \n",
    "Q_dot_S = 55200\n",
    "Q_dot_L = 16800\n",
    "\n",
    "# calculation SHR\n",
    "SHR = Q_dot_S / (Q_dot_S + Q_dot_L)\n",
    "\n",
    "print(f'SHR: {SHR}')"
   ]
  },
  {
   "cell_type": "markdown",
   "metadata": {},
   "source": [
    "The sensible heat will only affect the dry-blub temperature so we can use this with the specific heat of air and mass flow rate of air to and out of the space to determine the dry-bulb temperature at state 2. We will be using Eq. 8.28 (rearranged):\n",
    "\n",
    "$$\n",
    "t_2 = t_1 + \\frac{\\dot{Q}_S}{\\dot{m}_a \\bar{c}_p}\n",
    "$$"
   ]
  },
  {
   "cell_type": "code",
   "execution_count": 3,
   "metadata": {},
   "outputs": [
    {
     "name": "stdout",
     "output_type": "stream",
     "text": [
      "Dry-bulb temperature at state 2: 84.76369495166487\n"
     ]
    }
   ],
   "source": [
    "# defining givens\n",
    "m_dot = 11400\n",
    "\n",
    "# defining previously found values\n",
    "t1 = 65\n",
    "\n",
    "# assuming value for specific heat (see textbook)\n",
    "cp = 0.245\n",
    "\n",
    "# calculating t2\n",
    "t2 = t1 + Q_dot_S / (m_dot * cp)\n",
    "\n",
    "print(f'Dry-bulb temperature at state 2: {t2}')"
   ]
  },
  {
   "cell_type": "markdown",
   "metadata": {},
   "source": [
    "To find the dew point temperature, we first need to find state 2. Using the SHR we previously found, draw a line parallel to this from state 1 (or 4) until we cross the dry-bulb temperature we just found. Now we follow along a constant humidity line to saturation and read the dry-bulb temperature associated with this point. "
   ]
  },
  {
   "cell_type": "markdown",
   "metadata": {},
   "source": [
    "![8p17p2](https://drive.google.com/uc?export=view&id=1r9bOFkANb8rU5U9MeuJGTnFmyDeQ1-X6)"
   ]
  },
  {
   "cell_type": "markdown",
   "metadata": {},
   "source": [
    "<div class=\"alert alert-block alert-success\">\n",
    "<b>Solution:</b> $t_2 = 84.8^\\circ$F, $t_{d,2} = 68^\\circ$F\n",
    "</div>"
   ]
  },
  {
   "cell_type": "markdown",
   "metadata": {},
   "source": [
    "## 8.20\n",
    "\n",
    "A building is heated and humidified using the system shown in Figure 8.14. The building has a sensible-heat loss of 260 kW and a latent-heat loss of 29 kW. The building space is maintained at 20$^\\circ$C dry-bulb and 40% relative humidity. Outside air is at 3$^\\circ$C dry-bulb and 30% relative humidity. 45% of the mass flow rate of dry air supplied to the space is outside air. The supply air is at a dry-bulb temperature of 35$^\\circ$C. The air exiting the air washer is at 80% relative humidity.\n",
    "\n",
    "1. Sketch and label all points and processes on a psychrometric chart.\n",
    "2. Calculate the rate of heat addition to the moist air by the preheat coil.\n",
    "3. Calculate the rate of moisture addition by the air washer.\n",
    "4. Calculate the rate of heat addition to the moist air by the reheat coil."
   ]
  },
  {
   "cell_type": "markdown",
   "metadata": {},
   "source": [
    "![8p20_problem](https://drive.google.com/uc?export=view&id=1Zc5G6o5M_imEqyTJQRpzwGn_PhCinJRB)"
   ]
  },
  {
   "cell_type": "markdown",
   "metadata": {},
   "source": [
    "### 8.20.1"
   ]
  },
  {
   "cell_type": "markdown",
   "metadata": {},
   "source": [
    "The psychrometric process is shown in the image below. The rationale for each state is given beneath the figure.\n",
    "\n",
    "*Note*: Due to problems estimating the SHR, you might have slightly different conditions for states 1, 6, 7, 8.\n",
    "\n",
    "![8p20p1](https://drive.google.com/uc?export=view&id=1u7lNHtXtuCT5mZDA87MCpFHSnOdx-lzp)"
   ]
  },
  {
   "cell_type": "markdown",
   "metadata": {},
   "source": [
    "#### States 2, 3, 4\n",
    "Properties for these states are given directly in the problem statement. States 2 and 3 are the same since they are the exhaust air from the space and are thus the space conditions. State 4 is the outdoor air conditions which are explicitly given.\n",
    "\n",
    "- State 2: $t = 40^\\circ$C, $\\phi = 40\\%$\n",
    "- State 3: $t = 40^\\circ$C, $\\phi = 40\\%$\n",
    "- State 4: $t = 3^\\circ$C, $\\phi = 30\\%$"
   ]
  },
  {
   "cell_type": "markdown",
   "metadata": {},
   "source": [
    "#### State 5\n",
    "State 5 is a mixture of outdoor and return air. The problem states that 45% of that air is made up from outdoor air i.e. the conditions of the mixed air will be slightly more similar to the return air. Drawing a line connecting states 4 and 2 (or 3), identify a point on that line that is just slightly closer to state 2 (or 3) from the halfway mark. You can measure the distance of this line with your ruler and use your calculator to determine what 45% of that distance is. That measurement will be the distance from state 2 (or 3) to state 5."
   ]
  },
  {
   "cell_type": "markdown",
   "metadata": {},
   "source": [
    "#### States 1 and 8\n",
    "We the know the supply air temperature to the space is 35$^\\circ$C which corresponds to the dry-bulb temperature for state 1. The conditions for state 8 will be the same as state 1 since the fan will add a negligible amount of energy. We also know from the problem that the air loses latent and sensible heat when in the space. That means we will go from warmer and wetter conditions from state 1 (or 8) to state 2 (or 3). Using the values in the problem, we can determine the SHR and draw a line parallel to the SHR from state 2 (or 3) until we intersect with a dry-bulb temperature of 35$^\\circ$C. "
   ]
  },
  {
   "cell_type": "code",
   "execution_count": 4,
   "metadata": {},
   "outputs": [
    {
     "name": "stdout",
     "output_type": "stream",
     "text": [
      "SHR: 0.8996539792387543\n"
     ]
    }
   ],
   "source": [
    "# defining given values\n",
    "Q_dot_S = -260\n",
    "Q_dot_L = -29\n",
    "\n",
    "# calculating SHR\n",
    "SHR = Q_dot_S / (Q_dot_S + Q_dot_L)\n",
    "\n",
    "print(f'SHR: {SHR}')"
   ]
  },
  {
   "cell_type": "markdown",
   "metadata": {},
   "source": [
    "#### State 7\n",
    "Now with state 1 (or 8), we can determine the conditions at state 7 since all the preheat coil will do is add sensible heat from state 7 to state 1 (or 8). The problem also gives the relative humidity of the air exiting the air washer or $\\phi_7 = 80\\%$. Therefore, we draw a line along a constant humidity ratio until intersecting with a relative humidity of 80%. "
   ]
  },
  {
   "cell_type": "markdown",
   "metadata": {},
   "source": [
    "#### State 6\n",
    "The final state will require us to draw two lines from states 5 and 7 - the intersection will be state 6. From state 5 to 6, we are pre-heating so we will move along a constant humidity ratio. Draw a longer-than-necessary line from state 5 along constant constant humidity ratio. The air washer provides energy along a constant wet-bulb temperature so draw a line from state 7 along constant wet-bulb temperature until intersecting with the line we just drew from state 5. "
   ]
  },
  {
   "cell_type": "markdown",
   "metadata": {},
   "source": [
    "### 8.20.2"
   ]
  },
  {
   "cell_type": "markdown",
   "metadata": {},
   "source": [
    "The pre-heat coil adds only sensible heat to the air so we will be using the following equation:\n",
    "\n",
    "$$\n",
    "_5\\dot{Q}_6 = \\dot{m}_a \\bar{c}_p \\left( t_6 - t_5 \\right)\n",
    "$$\n",
    "\n",
    "However we do not know the mass flow rate of air. We do know that the mass flow rate will be the same from where the air mixees (state 5) to just after the air exhausts from the space. Therefore we can use the heat losses in the space in conjunction with the enthalpies from states 1 (or 8) and 2 (or 3) to estimate the mass flow rate using a rearranged version of Eq. 8.25:\n",
    "\n",
    "$$\n",
    "\\dot{m}_a = \\frac{| \\sum \\dot{Q}_s + \\sum \\dot{Q}_L|}{h_1 - h_2}\n",
    "$$"
   ]
  },
  {
   "cell_type": "code",
   "execution_count": 6,
   "metadata": {},
   "outputs": [
    {
     "name": "stdout",
     "output_type": "stream",
     "text": [
      "Mass flow rate: 16.802325581395348\n",
      "Heat Transfer Rate (5 to 6): 102.83023255813953\n"
     ]
    }
   ],
   "source": [
    "# determining enthalpies from psychrometric chart\n",
    "h1 = 52.1\n",
    "h2 = 34.9\n",
    "\n",
    "# calculating mass flow rate of air\n",
    "m_dot = (abs(Q_dot_S + Q_dot_L)) / (h1 - h2)\n",
    "\n",
    "print(f'Mass flow rate: {m_dot}')\n",
    "\n",
    "# defining \"constants\"\n",
    "cp = 1.02\n",
    "\n",
    "# defining given temperatures from psychrometric chart\n",
    "t5 = 12\n",
    "t6 = 18\n",
    "\n",
    "# calculating heat transfer rate from 5 to 6\n",
    "Q_5to6 = m_dot * cp * (t6 - t5)\n",
    "\n",
    "print(f'Heat Transfer Rate (5 to 6): {Q_5to6}')"
   ]
  },
  {
   "cell_type": "markdown",
   "metadata": {},
   "source": [
    "<div class=\"alert alert-block alert-success\">\n",
    "<b>Solution:</b> $_5Q_6 = 102$ kW\n",
    "</div>"
   ]
  },
  {
   "cell_type": "markdown",
   "metadata": {},
   "source": [
    "### 8.20.3"
   ]
  },
  {
   "cell_type": "markdown",
   "metadata": {},
   "source": [
    "The formula to determine the rate of moisture added by the air washer is given by Eq. 8.26 in the textbook. In this case we will be using the humidity ratios from states 6 and 7 since they are the conditions before and after the air washer.\n",
    "\n",
    "$$\n",
    "\\dot{m}_w = \\dot{m}_a \\left(W_7 - W_6\\right)\n",
    "$$"
   ]
  },
  {
   "cell_type": "code",
   "execution_count": 7,
   "metadata": {},
   "outputs": [
    {
     "name": "stdout",
     "output_type": "stream",
     "text": [
      "Mass Flow Rate of Moisture: 0.060488372093023254\n"
     ]
    }
   ],
   "source": [
    "# defining variables from the psychrometric chart\n",
    "W6 = 0.0034\n",
    "W7 = 0.007\n",
    "\n",
    "# calculating mass flow rate of moisture\n",
    "m_dot_w = m_dot * (W7 - W6)\n",
    "\n",
    "print(f'Mass Flow Rate of Moisture: {m_dot_w}')"
   ]
  },
  {
   "cell_type": "markdown",
   "metadata": {},
   "source": [
    "<div class=\"alert alert-block alert-success\">\n",
    "<b>Solution:</b> $0.06 \\frac{\\text{kg}_{\\text{w}}}{\\text{s}}$\n",
    "</div>"
   ]
  },
  {
   "cell_type": "markdown",
   "metadata": {},
   "source": [
    "### 8.20.4"
   ]
  },
  {
   "cell_type": "markdown",
   "metadata": {},
   "source": [
    "We will do the same process as we did for 8.20.2 but consider states 7 and 8 instead. "
   ]
  },
  {
   "cell_type": "code",
   "execution_count": 8,
   "metadata": {},
   "outputs": [
    {
     "name": "stdout",
     "output_type": "stream",
     "text": [
      "Heat Transfer Rate (7 to 8): 414.74860465116274\n"
     ]
    }
   ],
   "source": [
    "# defining temperatures from psychrometric chart\n",
    "t7 = 10.8\n",
    "t8 = 35\n",
    "\n",
    "# calculating heat transfer rate from 7 to 8\n",
    "Q_7to8 = m_dot * cp * (t8 - t7)\n",
    "\n",
    "print(f'Heat Transfer Rate (7 to 8): {Q_7to8}')"
   ]
  },
  {
   "cell_type": "markdown",
   "metadata": {},
   "source": [
    "<div class=\"alert alert-block alert-success\">\n",
    "<b>Solution:</b> $_7Q_8 = 414.8$ kW\n",
    "</div>"
   ]
  },
  {
   "cell_type": "markdown",
   "metadata": {},
   "source": [
    "## 3.1\n",
    "\n",
    "Consider a Carnot refrigeration cycle that uses R-22 and operates between 10$^\\circ$C and 30$^\\circ$C. The refrigerant leaving the condenser is saturated liquid and the refrigerant leaving the evaporator is saturated vapor.\n",
    "\n",
    "1. Prepare a table listing the refrigerant temperature, pressure, specific enthalpy, specific volume, and specific entropy at the beginning of each of the four processes in the cycle.\n",
    "2. Compute the cycle coefficient of performance from the enthalpy values and compare this with the coefficient of performance determined by the operating temperatures.\n",
    "\n",
    "*Note I*: Please follow the nomenclature used for state points in Figure 3.2 when referencing the Carnot refrigeration cycle states in this problem. <br>\n",
    "*Note II*: Properties for state c have been provided in the table, however, you should still understand how to obtain those values from the Pressure-Enthalpy Diagram for R22. Use the appropriate number of significant figures for any other properties taken from reference tables."
   ]
  },
  {
   "cell_type": "code",
   "execution_count": 10,
   "metadata": {},
   "outputs": [],
   "source": [
    "import pandas as pd"
   ]
  },
  {
   "cell_type": "markdown",
   "metadata": {},
   "source": [
    "![3p1_problem](https://drive.google.com/uc?export=view&id=1V-_sSLSHdXMyBUssoEh4Q4pUN2RfpgFy)"
   ]
  },
  {
   "cell_type": "markdown",
   "metadata": {},
   "source": [
    "| **State** | **Phase** | **t** ($^\\circ$C) | **P** (MPa) | **h** (kJ/kg) | **v** (m$^3$/kg) | **s** (kJ/kg$\\cdot$K) |\n",
    "| :---: | :---: | :---: | :---: | :---: | :---: | :---: |\n",
    "| 1 | | | | | | |\n",
    "| b | | | | | | |\n",
    "| 3 | | | | | | |\n",
    "| c | superheated vapor | 30 | 1.0 | 263 | 0.025 | 0.9129 | \n",
    "| d | | | | | | |"
   ]
  },
  {
   "cell_type": "markdown",
   "metadata": {},
   "source": [
    "### 3.1.1"
   ]
  },
  {
   "cell_type": "code",
   "execution_count": 96,
   "metadata": {},
   "outputs": [
    {
     "data": {
      "text/html": [
       "<div>\n",
       "<style scoped>\n",
       "    .dataframe tbody tr th:only-of-type {\n",
       "        vertical-align: middle;\n",
       "    }\n",
       "\n",
       "    .dataframe tbody tr th {\n",
       "        vertical-align: top;\n",
       "    }\n",
       "\n",
       "    .dataframe thead th {\n",
       "        text-align: right;\n",
       "    }\n",
       "</style>\n",
       "<table border=\"1\" class=\"dataframe\">\n",
       "  <thead>\n",
       "    <tr style=\"text-align: right;\">\n",
       "      <th></th>\n",
       "      <th>Phase</th>\n",
       "      <th>t</th>\n",
       "      <th>P</th>\n",
       "      <th>h</th>\n",
       "      <th>v</th>\n",
       "      <th>s</th>\n",
       "    </tr>\n",
       "  </thead>\n",
       "  <tbody>\n",
       "    <tr>\n",
       "      <th>1</th>\n",
       "      <td>0</td>\n",
       "      <td>0</td>\n",
       "      <td>0</td>\n",
       "      <td>0</td>\n",
       "      <td>0.000</td>\n",
       "      <td>0.0000</td>\n",
       "    </tr>\n",
       "    <tr>\n",
       "      <th>b</th>\n",
       "      <td>0</td>\n",
       "      <td>0</td>\n",
       "      <td>0</td>\n",
       "      <td>0</td>\n",
       "      <td>0.000</td>\n",
       "      <td>0.0000</td>\n",
       "    </tr>\n",
       "    <tr>\n",
       "      <th>3</th>\n",
       "      <td>0</td>\n",
       "      <td>0</td>\n",
       "      <td>0</td>\n",
       "      <td>0</td>\n",
       "      <td>0.000</td>\n",
       "      <td>0.0000</td>\n",
       "    </tr>\n",
       "    <tr>\n",
       "      <th>c</th>\n",
       "      <td>superheated vapor</td>\n",
       "      <td>30</td>\n",
       "      <td>1</td>\n",
       "      <td>263</td>\n",
       "      <td>0.025</td>\n",
       "      <td>0.9129</td>\n",
       "    </tr>\n",
       "    <tr>\n",
       "      <th>d</th>\n",
       "      <td>0</td>\n",
       "      <td>0</td>\n",
       "      <td>0</td>\n",
       "      <td>0</td>\n",
       "      <td>0.000</td>\n",
       "      <td>0.0000</td>\n",
       "    </tr>\n",
       "  </tbody>\n",
       "</table>\n",
       "</div>"
      ],
      "text/plain": [
       "               Phase   t  P    h      v       s\n",
       "1                  0   0  0    0  0.000  0.0000\n",
       "b                  0   0  0    0  0.000  0.0000\n",
       "3                  0   0  0    0  0.000  0.0000\n",
       "c  superheated vapor  30  1  263  0.025  0.9129\n",
       "d                  0   0  0    0  0.000  0.0000"
      ]
     },
     "execution_count": 96,
     "metadata": {},
     "output_type": "execute_result"
    }
   ],
   "source": [
    "# generating results dataframe\n",
    "results = pd.DataFrame(index=['1','b','3','c','d'],columns=['Phase','t','P','h','v','s'])\n",
    "results.fillna(0,inplace=True)\n",
    "\n",
    "# populating dataframe with given values\n",
    "givens = ['superheated vapor',30,1,263,0.025,0.9129]\n",
    "for i in range(len(givens)):\n",
    "    results.iloc[3,i] = givens[i]\n",
    "    \n",
    "# outputting initial dataframe\n",
    "results"
   ]
  },
  {
   "cell_type": "markdown",
   "metadata": {},
   "source": [
    "#### State 1\n",
    "\n",
    "The problem states that the phase at state 1 is saturated liquid."
   ]
  },
  {
   "cell_type": "code",
   "execution_count": 97,
   "metadata": {},
   "outputs": [],
   "source": [
    "results.loc['1','Phase'] = 'saturated liquid'"
   ]
  },
  {
   "cell_type": "markdown",
   "metadata": {},
   "source": [
    "From our knowledge of temperature changes during the cycle, we know that the fluid exiting the condenser will be at $T_O$."
   ]
  },
  {
   "cell_type": "code",
   "execution_count": 98,
   "metadata": {},
   "outputs": [],
   "source": [
    "results.loc['1','t'] = 30"
   ]
  },
  {
   "cell_type": "markdown",
   "metadata": {},
   "source": [
    "With the phase and operating temperature known, we can use Table A.3SI to get the remaining information"
   ]
  },
  {
   "cell_type": "code",
   "execution_count": 99,
   "metadata": {},
   "outputs": [],
   "source": [
    "cols = ['P','h','v','s']\n",
    "vals = [1.192,81.26,0.00085,0.3004]\n",
    "for col, val in zip(cols, vals):\n",
    "    results.loc['1',col] = val"
   ]
  },
  {
   "cell_type": "markdown",
   "metadata": {},
   "source": [
    "#### State 3\n",
    "\n",
    "We can do a similar process for state 3 since we are given the phase and know we are at the low operating temperature."
   ]
  },
  {
   "cell_type": "code",
   "execution_count": 100,
   "metadata": {},
   "outputs": [],
   "source": [
    "results.loc['3','Phase'] = 'saturated vapor'\n",
    "results.loc['3','t'] = 10"
   ]
  },
  {
   "cell_type": "markdown",
   "metadata": {},
   "source": [
    "Again we use Table A.3SI to find the remaining values."
   ]
  },
  {
   "cell_type": "code",
   "execution_count": 101,
   "metadata": {},
   "outputs": [],
   "source": [
    "cols = ['P','h','v','s']\n",
    "vals = [0.681,253.43,0.03472,0.9129]\n",
    "for col, val in zip(cols, vals):\n",
    "    results.loc['3',col] = val"
   ]
  },
  {
   "cell_type": "markdown",
   "metadata": {},
   "source": [
    "#### State d\n",
    "\n",
    "From the diagram we know that the phase at state d will be saturated vapor and at the high operating temperature."
   ]
  },
  {
   "cell_type": "code",
   "execution_count": 102,
   "metadata": {},
   "outputs": [],
   "source": [
    "results.loc['d','Phase'] = 'saturated vapor'\n",
    "results.loc['d','t'] = 30"
   ]
  },
  {
   "cell_type": "markdown",
   "metadata": {},
   "source": [
    "Now we use Table A.3SI to get the remaining values."
   ]
  },
  {
   "cell_type": "code",
   "execution_count": 103,
   "metadata": {},
   "outputs": [],
   "source": [
    "cols = ['P','h','v','s']\n",
    "vals = [1.192,259.12,0.01975,0.8872]\n",
    "for col, val in zip(cols, vals):\n",
    "    results.loc['d',col] = val"
   ]
  },
  {
   "cell_type": "markdown",
   "metadata": {},
   "source": [
    "#### State b\n",
    "\n",
    "State b is the trickiest state because we are a mixture of two states. Before we determine what the ratio of liquid to vapor is, we can determine a few things from our knowledge of the cycle. "
   ]
  },
  {
   "cell_type": "code",
   "execution_count": 116,
   "metadata": {},
   "outputs": [],
   "source": [
    "results.loc['b','Phase'] = 'liquid/gas mix'"
   ]
  },
  {
   "cell_type": "markdown",
   "metadata": {},
   "source": [
    "After isentropic expansion, we will be at the low operating temperature."
   ]
  },
  {
   "cell_type": "code",
   "execution_count": 104,
   "metadata": {},
   "outputs": [],
   "source": [
    "results.loc['b','t'] = 10"
   ]
  },
  {
   "cell_type": "markdown",
   "metadata": {},
   "source": [
    "The evaporator also does nothing to change the pressure - only alters the phase so we will be at the same pressure as state 3. "
   ]
  },
  {
   "cell_type": "code",
   "execution_count": 105,
   "metadata": {},
   "outputs": [],
   "source": [
    "results.loc['b','P'] = 0.681"
   ]
  },
  {
   "cell_type": "markdown",
   "metadata": {},
   "source": [
    "From the temperature-entropy graph, we can see that from state 1 to b, we follow constant entropy. Therefore, our entropy at state b will be the same as state 1."
   ]
  },
  {
   "cell_type": "code",
   "execution_count": 106,
   "metadata": {},
   "outputs": [],
   "source": [
    "results.loc['b','s'] = 0.3004"
   ]
  },
  {
   "cell_type": "markdown",
   "metadata": {},
   "source": [
    "To determine the enthalpy and specific volume, we need to first determine the quality and state b. The quality, $x$, can be determined by from the entropy value. Our entropy value, $s$, is some ratio between the entropy of formation, $s_f$, and the entropy of vaporization, $s_g$ at the operating temperature. These values can be found from Table A.3SI."
   ]
  },
  {
   "cell_type": "code",
   "execution_count": 107,
   "metadata": {},
   "outputs": [
    {
     "name": "stdout",
     "output_type": "stream",
     "text": [
      "Quality: 0.11946520989074182\n"
     ]
    }
   ],
   "source": [
    "# defining entropies from A.3SI\n",
    "sb = results.loc['b','s']\n",
    "sf = 0.2173\n",
    "sg = 0.9129\n",
    "\n",
    "# calculating the quality\n",
    "xb = (sb - sf) / (sg - sf)\n",
    "\n",
    "print(f'Quality: {xb}')"
   ]
  },
  {
   "cell_type": "markdown",
   "metadata": {},
   "source": [
    "Now we can use this value to determine the specific volume and enthalpy by adding from the specific volume and enthalpy at formation."
   ]
  },
  {
   "cell_type": "code",
   "execution_count": 108,
   "metadata": {},
   "outputs": [
    {
     "name": "stdout",
     "output_type": "stream",
     "text": [
      "vb: 0.004852259919493963\n",
      "hb: 79.99106239217942\n"
     ]
    }
   ],
   "source": [
    "# defining specific volumes from Table A.3SI\n",
    "vf = 0.0008\n",
    "vg = 0.03472\n",
    "\n",
    "# caculating specific volume\n",
    "vb = vf + xb * (vg - vf)\n",
    "results.loc['b','v'] = vb\n",
    "\n",
    "print(f'vb: {vb}')\n",
    "\n",
    "# defining specific volumes from Table A.3SI\n",
    "hf = 56.46\n",
    "hg = 253.43\n",
    "\n",
    "# caculating specific volume\n",
    "hb = hf + xb * (hg - hf)\n",
    "results.loc['b','h'] = hb\n",
    "\n",
    "print(f'hb: {hb}')"
   ]
  },
  {
   "cell_type": "code",
   "execution_count": 117,
   "metadata": {},
   "outputs": [
    {
     "data": {
      "text/html": [
       "<div>\n",
       "<style scoped>\n",
       "    .dataframe tbody tr th:only-of-type {\n",
       "        vertical-align: middle;\n",
       "    }\n",
       "\n",
       "    .dataframe tbody tr th {\n",
       "        vertical-align: top;\n",
       "    }\n",
       "\n",
       "    .dataframe thead th {\n",
       "        text-align: right;\n",
       "    }\n",
       "</style>\n",
       "<table border=\"1\" class=\"dataframe\">\n",
       "  <thead>\n",
       "    <tr style=\"text-align: right;\">\n",
       "      <th></th>\n",
       "      <th>Phase</th>\n",
       "      <th>t</th>\n",
       "      <th>P</th>\n",
       "      <th>h</th>\n",
       "      <th>v</th>\n",
       "      <th>s</th>\n",
       "    </tr>\n",
       "  </thead>\n",
       "  <tbody>\n",
       "    <tr>\n",
       "      <th>1</th>\n",
       "      <td>saturated liquid</td>\n",
       "      <td>30</td>\n",
       "      <td>1.192</td>\n",
       "      <td>81.260000</td>\n",
       "      <td>0.000850</td>\n",
       "      <td>0.3004</td>\n",
       "    </tr>\n",
       "    <tr>\n",
       "      <th>b</th>\n",
       "      <td>liquid/gas mix</td>\n",
       "      <td>10</td>\n",
       "      <td>0.681</td>\n",
       "      <td>79.991062</td>\n",
       "      <td>0.004852</td>\n",
       "      <td>0.3004</td>\n",
       "    </tr>\n",
       "    <tr>\n",
       "      <th>3</th>\n",
       "      <td>saturated vapor</td>\n",
       "      <td>10</td>\n",
       "      <td>0.681</td>\n",
       "      <td>253.430000</td>\n",
       "      <td>0.034720</td>\n",
       "      <td>0.9129</td>\n",
       "    </tr>\n",
       "    <tr>\n",
       "      <th>c</th>\n",
       "      <td>superheated vapor</td>\n",
       "      <td>30</td>\n",
       "      <td>1.000</td>\n",
       "      <td>263.000000</td>\n",
       "      <td>0.025000</td>\n",
       "      <td>0.9129</td>\n",
       "    </tr>\n",
       "    <tr>\n",
       "      <th>d</th>\n",
       "      <td>saturated vapor</td>\n",
       "      <td>30</td>\n",
       "      <td>1.192</td>\n",
       "      <td>259.120000</td>\n",
       "      <td>0.019750</td>\n",
       "      <td>0.8872</td>\n",
       "    </tr>\n",
       "  </tbody>\n",
       "</table>\n",
       "</div>"
      ],
      "text/plain": [
       "               Phase   t      P           h         v       s\n",
       "1   saturated liquid  30  1.192   81.260000  0.000850  0.3004\n",
       "b     liquid/gas mix  10  0.681   79.991062  0.004852  0.3004\n",
       "3    saturated vapor  10  0.681  253.430000  0.034720  0.9129\n",
       "c  superheated vapor  30  1.000  263.000000  0.025000  0.9129\n",
       "d    saturated vapor  30  1.192  259.120000  0.019750  0.8872"
      ]
     },
     "execution_count": 117,
     "metadata": {},
     "output_type": "execute_result"
    }
   ],
   "source": [
    "# Outputting final results\n",
    "results"
   ]
  },
  {
   "cell_type": "markdown",
   "metadata": {},
   "source": [
    "### 3.1.2"
   ]
  },
  {
   "cell_type": "markdown",
   "metadata": {},
   "source": [
    "The coefficient of performance (COP) is given by Eq. 3.4a in the textbook:\n",
    "\n",
    "$$\n",
    "\\text{COP} = \\frac{_bq_3}{w_{\\text{net}}} = \\frac{T_R}{T_O - T_R}\n",
    "$$\n",
    "\n",
    "We will start by using the first formula to determine the COP and compare the value to that determined by the temperatures only."
   ]
  },
  {
   "cell_type": "markdown",
   "metadata": {},
   "source": [
    "#### COP by Enthalpies\n",
    "The textbook gives a series of formulae to determine the numerator and denominator:\n",
    "\n",
    "$$\n",
    "_bq_3 = h_3 - h_b\n",
    "$$\n",
    "\n",
    "$$\n",
    "w_{\\text{net}} = _3w_c + _cw_d - _1w_b\n",
    "$$\n",
    "\n",
    "where:\n",
    "\n",
    "$$\n",
    "\\begin{align}\n",
    "_3w_c &= h_c - h_3 \\\\\n",
    "_cw_d &= T_c \\left(s_c - s_d \\right) - \\left(h_c - h_d\\right) \\\\\n",
    "_1w_b &= h_1 - h_b\n",
    "\\end{align}\n",
    "$$\n",
    "\n",
    "Substituting all these equations/values in, we can get the COP."
   ]
  },
  {
   "cell_type": "code",
   "execution_count": 119,
   "metadata": {},
   "outputs": [
    {
     "name": "stdout",
     "output_type": "stream",
     "text": [
      "COP (from enthalpies): 11.758657653945276\n"
     ]
    }
   ],
   "source": [
    "# defining unknown values\n",
    "Tc = 30 + 273.15\n",
    "\n",
    "# calculating cop\n",
    "cop1 = (results.loc['3','h'] - results.loc['b','h']) / ( (results.loc['c','h'] - results.loc['3','h'])\n",
    "       + Tc * (results.loc['c','s'] - results.loc['d','s']) - (results.loc['c','h'] - results.loc['d','h'])\n",
    "       - (results.loc['b','h'] - results.loc['1','h']) )\n",
    "\n",
    "print(f'COP (from enthalpies): {cop1}')"
   ]
  },
  {
   "cell_type": "markdown",
   "metadata": {},
   "source": [
    "#### COP by Temperatures"
   ]
  },
  {
   "cell_type": "code",
   "execution_count": 113,
   "metadata": {},
   "outputs": [
    {
     "name": "stdout",
     "output_type": "stream",
     "text": [
      "COP (from temperatures): 14.157499999999999\n"
     ]
    }
   ],
   "source": [
    "# defining temperatures\n",
    "TR = 10 + 273.15\n",
    "TO = 30 + 273.15\n",
    "\n",
    "# calculating cop\n",
    "cop2 = TR / ( TO - TR)\n",
    "\n",
    "print(f'COP (from temperatures): {cop2}')"
   ]
  },
  {
   "cell_type": "markdown",
   "metadata": {},
   "source": [
    "## 3.5\n",
    "\n",
    "A Refrigerant-22 system is arranged as shown in Figure 3.19. Assume:\n",
    "- compression is isentropic \n",
    "- frictionless flow\n",
    "\n",
    "The known data are:\n",
    "- t$_1$ = 100$^\\circ$F\n",
    "- t$_2$ = 80$^\\circ$F \n",
    "- t$_4$ = -10$^\\circ$F \n",
    "\n",
    "Find the COP of the refrigeration cycle."
   ]
  },
  {
   "cell_type": "markdown",
   "metadata": {},
   "source": [
    "![3p5_problem](https://drive.google.com/uc?export=view&id=1okS4uu_gW1j4kB9XETEGzMC8ddCI3bDA)"
   ]
  },
  {
   "cell_type": "markdown",
   "metadata": {},
   "source": [
    "| **State** | **Phase** | **t** ($^\\circ$C) | **P** (MPa) | **h** (kJ/kg) | **s** (kJ/kg$\\cdot$K) |\n",
    "| :---: | :---: | :---: | :---: | :---: | :---: |\n",
    "| 1 | | | | | - |\n",
    "| 2 | | | | | - |\n",
    "| 3 | | - | | - | - |\n",
    "| 4 | | | | | - |\n",
    "| 5 | - | | | | |\n",
    "| 6 | - | | | | |"
   ]
  },
  {
   "cell_type": "code",
   "execution_count": 85,
   "metadata": {},
   "outputs": [
    {
     "data": {
      "text/html": [
       "<div>\n",
       "<style scoped>\n",
       "    .dataframe tbody tr th:only-of-type {\n",
       "        vertical-align: middle;\n",
       "    }\n",
       "\n",
       "    .dataframe tbody tr th {\n",
       "        vertical-align: top;\n",
       "    }\n",
       "\n",
       "    .dataframe thead th {\n",
       "        text-align: right;\n",
       "    }\n",
       "</style>\n",
       "<table border=\"1\" class=\"dataframe\">\n",
       "  <thead>\n",
       "    <tr style=\"text-align: right;\">\n",
       "      <th></th>\n",
       "      <th>Phase</th>\n",
       "      <th>t</th>\n",
       "      <th>P</th>\n",
       "      <th>h</th>\n",
       "      <th>s</th>\n",
       "    </tr>\n",
       "  </thead>\n",
       "  <tbody>\n",
       "    <tr>\n",
       "      <th>1</th>\n",
       "      <td>0</td>\n",
       "      <td>100</td>\n",
       "      <td>0</td>\n",
       "      <td>0</td>\n",
       "      <td>-</td>\n",
       "    </tr>\n",
       "    <tr>\n",
       "      <th>2</th>\n",
       "      <td>0</td>\n",
       "      <td>80</td>\n",
       "      <td>0</td>\n",
       "      <td>0</td>\n",
       "      <td>-</td>\n",
       "    </tr>\n",
       "    <tr>\n",
       "      <th>3</th>\n",
       "      <td>0</td>\n",
       "      <td>-</td>\n",
       "      <td>0</td>\n",
       "      <td>-</td>\n",
       "      <td>-</td>\n",
       "    </tr>\n",
       "    <tr>\n",
       "      <th>4</th>\n",
       "      <td>0</td>\n",
       "      <td>-10</td>\n",
       "      <td>0</td>\n",
       "      <td>0</td>\n",
       "      <td>-</td>\n",
       "    </tr>\n",
       "    <tr>\n",
       "      <th>5</th>\n",
       "      <td>-</td>\n",
       "      <td>0</td>\n",
       "      <td>0</td>\n",
       "      <td>0</td>\n",
       "      <td>0</td>\n",
       "    </tr>\n",
       "    <tr>\n",
       "      <th>6</th>\n",
       "      <td>-</td>\n",
       "      <td>0</td>\n",
       "      <td>0</td>\n",
       "      <td>0</td>\n",
       "      <td>0</td>\n",
       "    </tr>\n",
       "  </tbody>\n",
       "</table>\n",
       "</div>"
      ],
      "text/plain": [
       "  Phase    t  P  h  s\n",
       "1     0  100  0  0  -\n",
       "2     0   80  0  0  -\n",
       "3     0    -  0  -  -\n",
       "4     0  -10  0  0  -\n",
       "5     -    0  0  0  0\n",
       "6     -    0  0  0  0"
      ]
     },
     "execution_count": 85,
     "metadata": {},
     "output_type": "execute_result"
    }
   ],
   "source": [
    "# generating results dataframe\n",
    "results = pd.DataFrame(index=[1,2,3,4,5,6],columns=['Phase','t','P','h','s'])\n",
    "results.fillna(0,inplace=True)\n",
    "\n",
    "# populating dataframe with given values\n",
    "temperatures = [100,80,-10]\n",
    "for i, temp in zip([1,2,4], temperatures):\n",
    "    results.loc[i,'t'] = temp\n",
    "    \n",
    "# blocking out locations\n",
    "results.iloc[4,0] = '-'\n",
    "results.iloc[5,0] = '-'\n",
    "results.iloc[2,1] = '-'\n",
    "results.iloc[2,3] = '-'\n",
    "for i in range(4):\n",
    "    results.iloc[i,4] = '-'\n",
    "    \n",
    "# outputting initial dataframe\n",
    "results"
   ]
  },
  {
   "cell_type": "markdown",
   "metadata": {},
   "source": [
    "#### State 1\n",
    "\n",
    "We can use the given diagram to determine the phase. The diagram points to state 1 stating the refrigerant is saturated. Since we are coming out of the condenser, we know we must be a liquid."
   ]
  },
  {
   "cell_type": "code",
   "execution_count": 86,
   "metadata": {},
   "outputs": [],
   "source": [
    "results.loc[1,'Phase'] = 'saturated liquid'"
   ]
  },
  {
   "cell_type": "markdown",
   "metadata": {},
   "source": [
    "We can determine the remaining values from Table A.3E since we are given the temperature."
   ]
  },
  {
   "cell_type": "code",
   "execution_count": 87,
   "metadata": {},
   "outputs": [],
   "source": [
    "results.loc[1,'P'] = 210.55\n",
    "results.loc[1,'h'] = 39.3"
   ]
  },
  {
   "cell_type": "markdown",
   "metadata": {},
   "source": [
    "#### State 4\n",
    "\n",
    "A similar rationale can give us the properties at state 4 except we know that after the evaporater, we should be a vapor."
   ]
  },
  {
   "cell_type": "code",
   "execution_count": 89,
   "metadata": {},
   "outputs": [],
   "source": [
    "results.loc[4,'Phase'] = 'saturated vapor'"
   ]
  },
  {
   "cell_type": "markdown",
   "metadata": {},
   "source": [
    "We can determine the remaining values from Table A.3E since we are given the temperature."
   ]
  },
  {
   "cell_type": "code",
   "execution_count": 90,
   "metadata": {},
   "outputs": [],
   "source": [
    "results.loc[4,'P'] = 31.15\n",
    "results.loc[4,'h'] = 103.5"
   ]
  },
  {
   "cell_type": "code",
   "execution_count": 88,
   "metadata": {},
   "outputs": [
    {
     "data": {
      "text/html": [
       "<div>\n",
       "<style scoped>\n",
       "    .dataframe tbody tr th:only-of-type {\n",
       "        vertical-align: middle;\n",
       "    }\n",
       "\n",
       "    .dataframe tbody tr th {\n",
       "        vertical-align: top;\n",
       "    }\n",
       "\n",
       "    .dataframe thead th {\n",
       "        text-align: right;\n",
       "    }\n",
       "</style>\n",
       "<table border=\"1\" class=\"dataframe\">\n",
       "  <thead>\n",
       "    <tr style=\"text-align: right;\">\n",
       "      <th></th>\n",
       "      <th>Phase</th>\n",
       "      <th>t</th>\n",
       "      <th>P</th>\n",
       "      <th>h</th>\n",
       "      <th>s</th>\n",
       "    </tr>\n",
       "  </thead>\n",
       "  <tbody>\n",
       "    <tr>\n",
       "      <th>1</th>\n",
       "      <td>saturated liquid</td>\n",
       "      <td>100</td>\n",
       "      <td>210.55</td>\n",
       "      <td>39.3</td>\n",
       "      <td>-</td>\n",
       "    </tr>\n",
       "    <tr>\n",
       "      <th>2</th>\n",
       "      <td>0</td>\n",
       "      <td>80</td>\n",
       "      <td>0.00</td>\n",
       "      <td>0</td>\n",
       "      <td>-</td>\n",
       "    </tr>\n",
       "    <tr>\n",
       "      <th>3</th>\n",
       "      <td>0</td>\n",
       "      <td>-</td>\n",
       "      <td>0.00</td>\n",
       "      <td>-</td>\n",
       "      <td>-</td>\n",
       "    </tr>\n",
       "    <tr>\n",
       "      <th>4</th>\n",
       "      <td>0</td>\n",
       "      <td>-10</td>\n",
       "      <td>0.00</td>\n",
       "      <td>0</td>\n",
       "      <td>-</td>\n",
       "    </tr>\n",
       "    <tr>\n",
       "      <th>5</th>\n",
       "      <td>-</td>\n",
       "      <td>0</td>\n",
       "      <td>0.00</td>\n",
       "      <td>0</td>\n",
       "      <td>0</td>\n",
       "    </tr>\n",
       "    <tr>\n",
       "      <th>6</th>\n",
       "      <td>-</td>\n",
       "      <td>0</td>\n",
       "      <td>0.00</td>\n",
       "      <td>0</td>\n",
       "      <td>0</td>\n",
       "    </tr>\n",
       "  </tbody>\n",
       "</table>\n",
       "</div>"
      ],
      "text/plain": [
       "              Phase    t       P     h  s\n",
       "1  saturated liquid  100  210.55  39.3  -\n",
       "2                 0   80    0.00     0  -\n",
       "3                 0    -    0.00     -  -\n",
       "4                 0  -10    0.00     0  -\n",
       "5                 -    0    0.00     0  0\n",
       "6                 -    0    0.00     0  0"
      ]
     },
     "execution_count": 88,
     "metadata": {},
     "output_type": "execute_result"
    }
   ],
   "source": [
    "# outputting final results\n",
    "results"
   ]
  },
  {
   "cell_type": "markdown",
   "metadata": {},
   "source": [
    "## 3.9\n",
    "An ammonia vapor-compression system is arranged as shown in Figure 3.21. Assume:\n",
    "- isentropic compression\n",
    "- frictionless flow\n",
    "\n",
    "Given data are:\n",
    "- t$_1$ = 30$^\\circ$C\n",
    "- t$_6$ = -20$^\\circ$C\n",
    "- t$_8$ = -30$^\\circ$C\n",
    "\n",
    "\n",
    "1. Compare the coefficient of performance for the cycle of Figure 3.21 with that obtained if the liquid cooler were omitted.\n",
    "2. What conclusion can be drawn from theoretical reasoning on the use of liquid intercoolers in single-stage systems?\n",
    "3. Using practical reasoning, discuss the conditions under which the arrangement of Figure 3.21 might be advantageous."
   ]
  },
  {
   "cell_type": "markdown",
   "metadata": {},
   "source": [
    "![3p9_problem](https://drive.google.com/uc?export=view&id=1KJlqUu6odMk4Koca4QQytjYxGcVzDa2t)"
   ]
  },
  {
   "cell_type": "markdown",
   "metadata": {},
   "source": [
    "| **State** | **t** ($^\\circ$C) | **P** (MPa) | **h** (kJ/kg) | **s** (kJ/kg$\\cdot$K) |\n",
    "| :---: | :---: | :---: | :---: | :---: |\n",
    "| 1 | | | | |\n",
    "| 2 | | | | |\n",
    "| 3 | | | | |\n",
    "| 4 | | | | |\n",
    "| 5 | | | | |\n",
    "| 6 | | | | |"
   ]
  },
  {
   "cell_type": "markdown",
   "metadata": {},
   "source": [
    "### 3.9.1"
   ]
  },
  {
   "cell_type": "code",
   "execution_count": null,
   "metadata": {},
   "outputs": [],
   "source": []
  },
  {
   "cell_type": "markdown",
   "metadata": {},
   "source": [
    "### 3.9.2"
   ]
  },
  {
   "cell_type": "code",
   "execution_count": null,
   "metadata": {},
   "outputs": [],
   "source": []
  },
  {
   "cell_type": "markdown",
   "metadata": {},
   "source": [
    "### 3.9.3"
   ]
  },
  {
   "cell_type": "code",
   "execution_count": null,
   "metadata": {},
   "outputs": [],
   "source": []
  }
 ],
 "metadata": {
  "kernelspec": {
   "display_name": "Python 3",
   "language": "python",
   "name": "python3"
  },
  "language_info": {
   "codemirror_mode": {
    "name": "ipython",
    "version": 3
   },
   "file_extension": ".py",
   "mimetype": "text/x-python",
   "name": "python",
   "nbconvert_exporter": "python",
   "pygments_lexer": "ipython3",
   "version": "3.7.0"
  }
 },
 "nbformat": 4,
 "nbformat_minor": 4
}
