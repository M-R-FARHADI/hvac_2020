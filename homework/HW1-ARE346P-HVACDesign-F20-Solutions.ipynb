{
 "cells": [
  {
   "cell_type": "markdown",
   "metadata": {},
   "source": [
    "<p><img alt=\"caee logo\" src=\"images/caee_logo.png\" align=\"left\" hspace=\"10px\" vspace=\"0px\"></p>\n",
    "<p><img alt=\"iel logo\" src=\"images/iel_logo.png\" align=\"right\" hspace=\"10px\" vspace=\"0px\"></p>\n",
    "<h1 align='center'>Homework 1</h1>"
   ]
  },
  {
   "cell_type": "markdown",
   "metadata": {},
   "source": [
    "ARE 346P / CE 389H HVAC Design\n",
    "\n",
    "Professor Dr. Zoltan Nagy\n",
    "\n",
    "**Due: September 17, 2020**"
   ]
  },
  {
   "cell_type": "markdown",
   "metadata": {},
   "source": [
    "<h2>Instructions</h2>\n",
    "\n",
    "Solve each of the following problems and show your work. Make sure to label each answer with the same label as the problem.\n",
    "\n",
    "You will be graded on both the correct method and solution. Partial credit is awarded for use of the correct equation or method, correct values chosen from tables and charts when required, and the correct answer with appropriate units. \n",
    "\n",
    "This assignment includes *five* problems based on Chapter 7 from your textbook.\n",
    "\n",
    "| PROBLEM | POINTS |\n",
    "| --- | --- |\n",
    "| 7.1 | 8 pts |\n",
    "| 7.21 | 4 pts |\n",
    "| 7.3 | 4 pts |\n",
    "| 7.4 | 4 pts |\n",
    "| 7.27 | 5 pts |\n",
    "| **TOTAL** | **25 pts** |"
   ]
  },
  {
   "cell_type": "markdown",
   "metadata": {},
   "source": [
    "## Resources\n",
    "\n",
    "For this Homework, the following resources might be useful for you:\n",
    "\n",
    "1. Table A4 from your textbook\n",
    "2. Psychrometric Chart\n",
    "    1. [Online Interactive Chart](http://www.flycarpet.net/en/psyonline)\n",
    "    2. [Downloadable Charts](http://www.handsdownsoftware.com)"
   ]
  },
  {
   "cell_type": "markdown",
   "metadata": {},
   "source": [
    "<h2>Navigation</h2>\n",
    "\n",
    "Click on the hyperlink below to go to the problem you are interested in:\n",
    "\n",
    "- [7.1](#7.1)\n",
    "- [7.21](#7.21)\n",
    "- [7.3](#7.3)\n",
    "- [7.4](#7.4)\n",
    "- [7.27](#7.27)"
   ]
  },
  {
   "cell_type": "markdown",
   "metadata": {},
   "source": [
    "<h2>7.1</h2>\n",
    "\n",
    "Moist air exists at 80$^\\circ$F dry-bulb temperature, 0.0150 lbm$_\\text{w}$/lbm$_\\text{a}$ humidity ratio, and 14.696 psia pressure. Through the use of <u>Table A4 and fundamental relations</u>, determine:\n",
    "\n",
    "   (a) the dew-point temperature, <br>\n",
    "   (b) relative humidity, <br>\n",
    "   (c) volume in ft$^3$/lbm$_a$, and <br>\n",
    "   (d) the enthalpy in Btu/lbm$_a$ <br>\n",
    "\n",
    "**Note**: Do not use the psychrometric chart for this problem"
   ]
  },
  {
   "cell_type": "markdown",
   "metadata": {},
   "source": [
    "<h3>7.1a</h3>"
   ]
  },
  {
   "cell_type": "markdown",
   "metadata": {},
   "source": [
    "Using <u>Table A4E</u> with $W = 0.0150 \\text{ lbm}_\\text{w}$:"
   ]
  },
  {
   "cell_type": "markdown",
   "metadata": {},
   "source": [
    "<div class=\"alert alert-block alert-success\">\n",
    "<b>Solution:</b> $\\text{t}_\\text{d} = 68.4 ^\\circ \\text{F} $\n",
    "</div>"
   ]
  },
  {
   "cell_type": "markdown",
   "metadata": {},
   "source": [
    "<h3>7.1b</h3>"
   ]
  },
  {
   "cell_type": "markdown",
   "metadata": {},
   "source": [
    "Using <u>Table A4E</u> with $ DBT = 80^\\circ \\text{F} $:\n",
    " - $ \\text{W}_\\text{s} = 0.022340 \\text{ lbm}_\\text{w}/\\text{lbm}_\\text{a}$:"
   ]
  },
  {
   "cell_type": "markdown",
   "metadata": {},
   "source": [
    "By Eq. 7.6 we get:\n",
    "\n",
    "$$\n",
    "\\begin{align}\n",
    "\\phi &= \\frac{ 1 + \\frac{0.622}{W_s} }{ 1 + \\frac{0.622}{W} } \\\\\n",
    "&= \\frac{ 1 + \\frac{0.622}{0.02234} }{ 1 + \\frac{0.622}{0.0150} }\n",
    "\\end{align}\n",
    "$$\n"
   ]
  },
  {
   "cell_type": "code",
   "execution_count": 1,
   "metadata": {},
   "outputs": [
    {
     "name": "stdout",
     "output_type": "stream",
     "text": [
      "Relative Humidity: 67.91782204239041\n"
     ]
    }
   ],
   "source": [
    "# defining humidity ratios\n",
    "W = 0.0150\n",
    "Ws = 0.022340\n",
    "\n",
    "# solving with eq. 7.6\n",
    "phi = (1 + (0.622 / Ws)) / (1 + (0.622 / W))\n",
    "\n",
    "print(f'Relative Humidity: {phi*100}')"
   ]
  },
  {
   "cell_type": "markdown",
   "metadata": {},
   "source": [
    "<div class=\"alert alert-block alert-success\">\n",
    "<b>Solution:</b> $\\text{RH} = 67.9\\% $\n",
    "</div>"
   ]
  },
  {
   "cell_type": "markdown",
   "metadata": {},
   "source": [
    "<h3>7.1c</h3>"
   ]
  },
  {
   "cell_type": "markdown",
   "metadata": {},
   "source": [
    "Using <u>Table A4E</u> with $ DBT = 80^\\circ \\text{F} $:\n",
    "- $ \\text{v}_\\text{a} = 13.602 \\text{ ft}^3/\\text{lbm}_a $\n",
    "- $ \\text{v}_\\text{as} = 0.487 \\text{ ft}^3/\\text{lbm}_a $"
   ]
  },
  {
   "cell_type": "markdown",
   "metadata": {},
   "source": [
    "By Eq. 7.15 we get: \n",
    "\n",
    "$$ \n",
    "\\begin{align}\n",
    "v &= v_a + \\mu v_{as} \\\\\n",
    "&= v_a + \\frac{W}{W_s} v_{as} \\\\\n",
    "&= 13.602 + \\frac{0.0150}{0.02234} \\left( 0.487 \\right)\n",
    "\\end{align}\n",
    "$$"
   ]
  },
  {
   "cell_type": "code",
   "execution_count": 2,
   "metadata": {},
   "outputs": [
    {
     "name": "stdout",
     "output_type": "stream",
     "text": [
      "Specific Volume: 13.928991942703671\n"
     ]
    }
   ],
   "source": [
    "# defining specific volumes\n",
    "va = 13.602\n",
    "vas = 0.487\n",
    "\n",
    "# calculating degree of saturation\n",
    "mu = W / Ws\n",
    "\n",
    "# solving with eq. 7.15\n",
    "v = va + mu * vas\n",
    "\n",
    "print(f'Specific Volume: {v}')"
   ]
  },
  {
   "cell_type": "markdown",
   "metadata": {},
   "source": [
    "<div class=\"alert alert-block alert-success\">\n",
    "<b>Solution:</b> $\\text{v} = 13.929 \\text{ ft}^3/\\text{lbm}_a$\n",
    "</div>"
   ]
  },
  {
   "cell_type": "markdown",
   "metadata": {},
   "source": [
    "<h3>7.1d</h3>"
   ]
  },
  {
   "cell_type": "markdown",
   "metadata": {},
   "source": [
    "Using <u>Table A4E</u> with $ DBT = 80^\\circ \\text{F} $:\n",
    "- $ \\text{h}_\\text{a} = 19.222 \\text{ Btu}/\\text{lbm}_\\text{a} $\n",
    "- $ \\text{h}_\\text{as} = 24.479 \\text{ Btu}/\\text{lbm}_\\text{a} $"
   ]
  },
  {
   "cell_type": "markdown",
   "metadata": {},
   "source": [
    "By Eq. 7.16 we get: \n",
    "\n",
    "$$ \n",
    "\\begin{align}\n",
    "h &= h_a + \\mu h_{as} \\\\\n",
    "&= h_a + \\frac{W}{W_s} h_{as} \\\\\n",
    "&= 19.222 + \\frac{0.0150}{0.02234} \\left( 24.479 \\right)\n",
    "\\end{align}\n",
    "$$"
   ]
  },
  {
   "cell_type": "code",
   "execution_count": 3,
   "metadata": {},
   "outputs": [
    {
     "name": "stdout",
     "output_type": "stream",
     "text": [
      "Specific Enthalpy: 35.658213070725154\n"
     ]
    }
   ],
   "source": [
    "# defining enthalpies\n",
    "ha = 19.222\n",
    "has = 24.479\n",
    "\n",
    "# solving with eq. 7.16\n",
    "h = ha + mu * has\n",
    "\n",
    "print(f'Specific Enthalpy: {h}')"
   ]
  },
  {
   "cell_type": "markdown",
   "metadata": {},
   "source": [
    "<div class=\"alert alert-block alert-success\">\n",
    "<b>Solution:</b> $\\text{h} = 36.658 \\text{ Btu}/\\text{lbm}_a$\n",
    "</div>"
   ]
  },
  {
   "cell_type": "markdown",
   "metadata": {},
   "source": [
    "<h2>7.21</h2>\n",
    "\n",
    "Re-work Problem [7.1](#7.1) again but using the psychrometric chart. Compare your answers to those you found in 7.1. Write out the answers and a brief explanation for each part.\n",
    "\n",
    "<i>Moist air exists at 80$^\\circ$F dry-bulb temperature, 0.0150 lbm$_\\text{w}$/lbm$_\\text{a}$ humidity ratio, and 14.696 psia pressure.\n",
    "\n",
    "   (a) the dew-point temperature, <br>\n",
    "   (b) relative humidity, <br>\n",
    "   (c) volume in ft$^3$/lbm$_a$, and <br>\n",
    "   (d) the enthalpy in Btu/lbm$_a$ <br></i>\n"
   ]
  },
  {
   "cell_type": "markdown",
   "metadata": {},
   "source": [
    "<h3>7.21a</h3>"
   ]
  },
  {
   "cell_type": "markdown",
   "metadata": {},
   "source": [
    "Follow line of constant humidity ratio (W) to saturation (moving right to left). Once at saturation, follow vertical line down to the temperature reading."
   ]
  },
  {
   "cell_type": "markdown",
   "metadata": {},
   "source": [
    "![7.21a_solution](./images/hw1_7p21a.png)"
   ]
  },
  {
   "cell_type": "markdown",
   "metadata": {},
   "source": [
    "<div class=\"alert alert-block alert-success\">\n",
    "<b>Solution:</b> $\\text{t}_\\text{d} = 68 ^\\circ \\text{F} $\n",
    "</div>"
   ]
  },
  {
   "cell_type": "markdown",
   "metadata": {},
   "source": [
    "<h3>7.21b</h3>"
   ]
  },
  {
   "cell_type": "markdown",
   "metadata": {},
   "source": [
    "After plotting the initial point, visually interpret between the curved relative humidity lines. "
   ]
  },
  {
   "cell_type": "markdown",
   "metadata": {},
   "source": [
    "![7.21b_solution](./images/hw1_7p21b.png)"
   ]
  },
  {
   "cell_type": "markdown",
   "metadata": {},
   "source": [
    "<div class=\"alert alert-block alert-success\">\n",
    "<b>Solution:</b> $\\text{RH} = 68\\% $\n",
    "</div>"
   ]
  },
  {
   "cell_type": "markdown",
   "metadata": {},
   "source": [
    "<h3>7.21c</h3>"
   ]
  },
  {
   "cell_type": "markdown",
   "metadata": {},
   "source": [
    "After plotting the initial point, visually interpret between the slanted, straight lines running from top left to bottom right."
   ]
  },
  {
   "cell_type": "markdown",
   "metadata": {},
   "source": [
    "![7.21c_solution](./images/hw1_7p21c.png)"
   ]
  },
  {
   "cell_type": "markdown",
   "metadata": {},
   "source": [
    "<div class=\"alert alert-block alert-success\">\n",
    "<b>Solution:</b> $\\text{v} = 13.9 \\text{ ft}^3/\\text{lbm}_a$\n",
    "</div>"
   ]
  },
  {
   "cell_type": "markdown",
   "metadata": {},
   "source": [
    "<h3>7.21d</h3>"
   ]
  },
  {
   "cell_type": "markdown",
   "metadata": {},
   "source": [
    "After plotting the initial point, visually interpret the value using the straight lines running from the top left to the bottom right (they are more flat than the specific volume lines). "
   ]
  },
  {
   "cell_type": "markdown",
   "metadata": {},
   "source": [
    "![7.21d_solution](./images/hw1_7p21d.png)"
   ]
  },
  {
   "cell_type": "markdown",
   "metadata": {},
   "source": [
    "<div class=\"alert alert-block alert-success\">\n",
    "<b>Solution:</b> $\\text{h} = 36.85 \\text{ Btu}/\\text{lbm}_a$\n",
    "</div>"
   ]
  },
  {
   "cell_type": "markdown",
   "metadata": {},
   "source": [
    "<h2>7.3</h2>\n",
    "    \n",
    "The atmosphere within a room is at 70$^\\circ$F dry-bulb temperature, 50% degree of saturation, and 14.696 psia pressure. The inside surface temperature of the windows is 40$^\\circ$F. Will moisture condense out of the air upon the window glass? Show your work and explain your reasoning."
   ]
  },
  {
   "cell_type": "markdown",
   "metadata": {},
   "source": [
    "Using <u>Table A4E</u> with $ DBT = 70^\\circ \\text{F} $:\n",
    "- $ \\text{W}_\\text{s} = 0.015832 \\text{ lbm}_\\text{w}/\\text{lbm}_\\text{a} $"
   ]
  },
  {
   "cell_type": "markdown",
   "metadata": {},
   "source": [
    "Using Eq. 7.4, we can determine $W$ because we know that the degree of saturation, $\\mu$:\n",
    "\n",
    "$$\n",
    "\\mu = \\frac{W}{W_s}\n",
    "$$"
   ]
  },
  {
   "cell_type": "code",
   "execution_count": 4,
   "metadata": {},
   "outputs": [
    {
     "name": "stdout",
     "output_type": "stream",
     "text": [
      "Humidity Ratio: 0.007916\n"
     ]
    }
   ],
   "source": [
    "# defining givens\n",
    "dbt = 70\n",
    "mu = 0.5\n",
    "t_in = 40\n",
    "\n",
    "# from Table A4E\n",
    "Ws = 0.015832\n",
    "\n",
    "# calculating W (eq. 7.4)\n",
    "W = mu * Ws\n",
    "\n",
    "print(f'Humidity Ratio: {W}')"
   ]
  },
  {
   "cell_type": "markdown",
   "metadata": {},
   "source": [
    "Now we can use this value in <u>Table A4E</u> to determine what the dew-point temperature:\n",
    "- $\\text{t}_\\text{d} = 51^\\circ \\text{F} $"
   ]
  },
  {
   "cell_type": "code",
   "execution_count": 5,
   "metadata": {},
   "outputs": [
    {
     "name": "stdout",
     "output_type": "stream",
     "text": [
      "Indoor Temp = 40:\n",
      "\tCondensation will occur\n"
     ]
    }
   ],
   "source": [
    "t_d = 51\n",
    "print(f'Indoor Temp = {t_in}:')\n",
    "if t_in < t_d:\n",
    "    print('\\tCondensation will occur')\n",
    "else:\n",
    "    print('\\tCondensation will NOT occur')"
   ]
  },
  {
   "cell_type": "markdown",
   "metadata": {},
   "source": [
    "<div class=\"alert alert-block alert-success\">\n",
    "<b>Solution:</b> Temperature of the glass is less than the dew-point temperature: <b>condensation occurs</b>\n",
    "</div>"
   ]
  },
  {
   "cell_type": "markdown",
   "metadata": {},
   "source": [
    "<h2>7.4</h2>\n",
    "\n",
    "Assume that the dimensions of the room of Problem [7.3](#7.3) are 30 ft by 15 ft by 8 ft high. Calculate the number of pounds of water vapor in the room."
   ]
  },
  {
   "cell_type": "markdown",
   "metadata": {},
   "source": [
    "To solve this problem, we need to determine the partial pressure of water in the space. Once we have that, we can use the ideal gas law to solve for the mass of water."
   ]
  },
  {
   "cell_type": "markdown",
   "metadata": {},
   "source": [
    "Using Eq. 7.18, we can determine the partial pressure of water, $P_w$:\n",
    "\n",
    "$$\n",
    "P_w = \\frac{PW}{0.622 + W}\n",
    "$$"
   ]
  },
  {
   "cell_type": "code",
   "execution_count": 6,
   "metadata": {},
   "outputs": [
    {
     "name": "stdout",
     "output_type": "stream",
     "text": [
      "Partial Pressure of Water: 0.18468103048660453\n"
     ]
    }
   ],
   "source": [
    "# defining the givens (all but pressure were defined in problem 3)\n",
    "P = 14.696\n",
    "\n",
    "# calculating partial pressure of water\n",
    "Pw = (P * W) / (0.622 + W)\n",
    "\n",
    "print(f'Partial Pressure of Water: {Pw}')"
   ]
  },
  {
   "cell_type": "markdown",
   "metadata": {},
   "source": [
    "Now we can use the idea gas law to calculate the mass of water vapor:\n",
    "\n",
    "$$\n",
    "PV = mRT\n",
    "$$\n",
    "\n",
    "We need to be coonsistent with our units though, so we will first convert the partial pressure of water to pounds-per-square-foot (psf)."
   ]
  },
  {
   "cell_type": "code",
   "execution_count": 7,
   "metadata": {},
   "outputs": [
    {
     "name": "stdout",
     "output_type": "stream",
     "text": [
      "Mass of Water: 2.105839998861849\n"
     ]
    }
   ],
   "source": [
    "# converting units\n",
    "Pw_psf = Pw * 12 * 12\n",
    "\n",
    "# calculating the mass\n",
    "V = 30 * 15 * 8 # volume of the room\n",
    "m = (Pw_psf * V) / (85.78 * (70 + 460))\n",
    "\n",
    "print(f'Mass of Water: {m}')"
   ]
  },
  {
   "cell_type": "markdown",
   "metadata": {},
   "source": [
    "<h2>7.27</h2>\n",
    "\n",
    "In the psychrometric process, moist air at standard atmospheric pressure goes from state 1 at 15$^\\circ$C dry-bulb temperature and 10$^\\circ$C wet-bulb temperature to state 2 of 35$^\\circ$C dry-bulb temperature and 10$^\\circ$C dew-point temperature. By using the psychrometric chart, determine:\n",
    "\n",
    "   (a) the enthalpy-humidity ratio, q’, for the process, and <br>\n",
    "   (b) the sensible-heat ratio, SHR, for the process"
   ]
  },
  {
   "cell_type": "markdown",
   "metadata": {},
   "source": [
    "<h3>7.27a</h3>"
   ]
  },
  {
   "cell_type": "markdown",
   "metadata": {},
   "source": [
    "The psychrometric process is shown below:\n",
    "\n",
    "![7.27_solution](./images/hw1_7p27.png)"
   ]
  },
  {
   "cell_type": "markdown",
   "metadata": {},
   "source": [
    "Using the process line, we can draw a line parallel to this and use the protractor to determine $q'$. Or, we can use the following equation to approximate the value:\n",
    "\n",
    "$$\n",
    "q' = \\frac{\\Delta h}{\\Delta W}\n",
    "$$"
   ]
  },
  {
   "cell_type": "markdown",
   "metadata": {},
   "source": [
    "where the specific enthalpies and humidity ratios for the two states are:\n",
    "\n",
    "- $h_1 = 29$, $W_1 = 5.6$\n",
    "- $h_2 = 55$, $W_2 = 7.7$"
   ]
  },
  {
   "cell_type": "code",
   "execution_count": 8,
   "metadata": {},
   "outputs": [
    {
     "name": "stdout",
     "output_type": "stream",
     "text": [
      "Enthalpy-Humidity Ratio: 12.380952380952378\n"
     ]
    }
   ],
   "source": [
    "# defining enthalpies (in kJ per kg of dry air)\n",
    "h1 = 29\n",
    "h2 = 55\n",
    "\n",
    "# defining humidity ratios (g moist air per kg dry air)\n",
    "W1 = 5.6\n",
    "W2 = 7.7\n",
    "\n",
    "qprime = (h2 - h1) / (W2 - W1)\n",
    "\n",
    "print(f'Enthalpy-Humidity Ratio: {qprime}')"
   ]
  },
  {
   "cell_type": "markdown",
   "metadata": {},
   "source": [
    "<div class=\"alert alert-block alert-success\">\n",
    "<b>Solution:</b> 12 < $q'$ < 14\n",
    "</div>"
   ]
  },
  {
   "cell_type": "markdown",
   "metadata": {},
   "source": [
    "<h3>7.27b</h3>"
   ]
  },
  {
   "cell_type": "markdown",
   "metadata": {},
   "source": [
    "We can use the same parallel line in the protractor to estimate the SHR."
   ]
  },
  {
   "cell_type": "markdown",
   "metadata": {},
   "source": [
    "<div class=\"alert alert-block alert-success\">\n",
    "<b>Solution:</b> SHR = 0.8\n",
    "</div>"
   ]
  }
 ],
 "metadata": {
  "kernelspec": {
   "display_name": "Python 3",
   "language": "python",
   "name": "python3"
  },
  "language_info": {
   "codemirror_mode": {
    "name": "ipython",
    "version": 3
   },
   "file_extension": ".py",
   "mimetype": "text/x-python",
   "name": "python",
   "nbconvert_exporter": "python",
   "pygments_lexer": "ipython3",
   "version": "3.7.0"
  }
 },
 "nbformat": 4,
 "nbformat_minor": 4
}
