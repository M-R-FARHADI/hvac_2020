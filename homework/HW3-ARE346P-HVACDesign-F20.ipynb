{
 "cells": [
  {
   "cell_type": "markdown",
   "metadata": {},
   "source": [
    "<p><img alt=\"caee logo\" src=\"https://drive.google.com/uc?export=view&id=1bLjob5TsJBD3tWzNKzi6sbseyXsm6eb-\" align=\"left\" hspace=\"10px\" vspace=\"0px\"></p>\n",
    "<p><img alt=\"iel logo\" src=\"https://drive.google.com/uc?export=view&id=1uoCP8K9MyHTmU5nnpdlZoprhO8Bm5Yq5\" align=\"right\" hspace=\"10px\" vspace=\"0px\"></p>\n",
    "<h1 align='center'>Homework 3</h1>"
   ]
  },
  {
   "cell_type": "markdown",
   "metadata": {},
   "source": [
    "ARE 346P / CE 389H HVAC Design\n",
    "\n",
    "Professor Dr. Zoltan Nagy\n",
    "\n",
    "**Due: October 8th, 2020**"
   ]
  },
  {
   "cell_type": "markdown",
   "metadata": {},
   "source": [
    "<h2>Instructions</h2>\n",
    "\n",
    "Solve each of the following problems and show your work. Make sure to label each answer with the same label as the problem.\n",
    "\n",
    "You will be graded on both the correct method and solution. Partial credit is awarded for use of the correct equation or method, correct values chosen from tables and charts when required, and the correct answer with appropriate units. \n",
    "\n",
    "This assignment includes *three* problems based on Chapter 3 from your textbook.\n",
    "\n",
    "| PROBLEM | POINTS |\n",
    "| --- | --- |\n",
    "| 3.1 | 10 pts |\n",
    "| 3.5 | 10 pts |\n",
    "| 3.9 | 10 pts |\n",
    "| **TOTAL** | **30 pts** |"
   ]
  },
  {
   "cell_type": "markdown",
   "metadata": {},
   "source": [
    "## Resources\n",
    "\n",
    "For this Homework, the following resources might be useful for you:\n",
    "\n",
    "1. Table A4 from your textbook\n",
    "2. Psychrometric Chart\n",
    "    1. [Online Interactive Chart](http://www.flycarpet.net/en/psyonline)\n",
    "    2. [Downloadable Charts](http://www.handsdownsoftware.com)\n",
    "3. Table A3 from your textbook\n",
    "4. Table A2 from your textboook"
   ]
  },
  {
   "cell_type": "markdown",
   "metadata": {},
   "source": [
    "# Problems"
   ]
  },
  {
   "cell_type": "markdown",
   "metadata": {},
   "source": [
    "## 3.1\n",
    "\n",
    "Consider a Carnot refrigeration cycle that uses R-22 and operates between 10$^\\circ$C and 30$^\\circ$C. The refrigerant leaving the condenser is saturated liquid and the refrigerant leaving the evaporator is saturated vapor. Prepare a table listing the refrigerant temperature, pressure, specific enthalpy, specific volume, and specific entropy at the beginning of each of the four processes in the cycle. Compute the cycle coefficient of performance from the enthalpy values and compare this with the coefficient of performance determined by the operating temperatures.\n",
    "\n",
    "*Note I*: Please follow the nomenclature used for state points in Figure 3.2 when referencing the Carnot refrigeration cycle states in this problem. <br>\n",
    "*Note II*: Properties for state c have been provided in the table, however, you should still understand how to obtain those values from the Pressure-Enthalpy Diagram for R22. Use the appropriate number of significant figures for any other properties taken from reference tables."
   ]
  },
  {
   "cell_type": "markdown",
   "metadata": {},
   "source": [
    "![3p1_problem](https://drive.google.com/uc?export=view&id=1V-_sSLSHdXMyBUssoEh4Q4pUN2RfpgFy)"
   ]
  },
  {
   "cell_type": "markdown",
   "metadata": {},
   "source": [
    "| **State** | **Phase** | **t** ($^\\circ$C) | **P** (MPa) | **h** (kJ/kg) | **v** (m$^3$/kg) | **s** (kJ/kg$\\cdot$K) |\n",
    "| :---: | :---: | :---: | :---: | :---: | :---: | :---: |\n",
    "| 1 | | | | | | |\n",
    "| b | | | | | | |\n",
    "| 3 | | | | | | |\n",
    "| c | superheated vapor | 30 | 1.0 | 263 | 0.025 | 0.9129 | \n",
    "| d | | | | | | |"
   ]
  },
  {
   "cell_type": "code",
   "execution_count": null,
   "metadata": {},
   "outputs": [],
   "source": []
  },
  {
   "cell_type": "markdown",
   "metadata": {},
   "source": [
    "## 3.5\n",
    "\n",
    "A Refrigerant-22 system is arranged as shown in Figure 3.19. Assume:\n",
    "- compression is isentropic \n",
    "- frictionless flow\n",
    "\n",
    "The known data are:\n",
    "- t$_1$ = 100$^\\circ$F\n",
    "- t$_2$ = 80$^\\circ$F \n",
    "- t$_4$ = -10$^\\circ$F \n",
    "\n",
    "Find the COP of the refrigeration cycle."
   ]
  },
  {
   "cell_type": "markdown",
   "metadata": {},
   "source": [
    "![3p5_problem](https://drive.google.com/uc?export=view&id=1okS4uu_gW1j4kB9XETEGzMC8ddCI3bDA)"
   ]
  },
  {
   "cell_type": "markdown",
   "metadata": {},
   "source": [
    "| **State** | **Phase** | **t** ($^\\circ$C) | **P** (MPa) | **h** (kJ/kg) | **s** (kJ/kg$\\cdot$K) |\n",
    "| :---: | :---: | :---: | :---: | :---: | :---: |\n",
    "| 1 | | | | | - |\n",
    "| 2 | | | | | - |\n",
    "| 3 | | - | | - | - |\n",
    "| 4 | | | | | - |\n",
    "| 5 | - | | | | |\n",
    "| 6 | - | | | | |"
   ]
  },
  {
   "cell_type": "code",
   "execution_count": null,
   "metadata": {},
   "outputs": [],
   "source": []
  },
  {
   "cell_type": "markdown",
   "metadata": {},
   "source": [
    "## 3.9\n",
    "An ammonia vapor-compression system is arranged as shown in Figure 3.21. Assume:\n",
    "- isentropic compression\n",
    "- frictionless flow. \n",
    "\n",
    "Given data are:\n",
    "- t$_1$ = 30$^\\circ$C\n",
    "- t$_6$ = -20$^\\circ$C\n",
    "- t$_8$ = -30$^\\circ$C\n",
    "\n",
    "\n",
    "1. Compare the coefficient of performance for the cycle of Figure 3.21 with that obtained if the liquid cooler were omitted.\n",
    "2. What conclusion can be drawn from theoretical reasoning on the use of liquid intercoolers in single-stage systems?\n",
    "3. Using practical reasoning, discuss the conditions under which the arrangement of Figure 3.21 might be advantageous."
   ]
  },
  {
   "cell_type": "markdown",
   "metadata": {},
   "source": [
    "![3p9_problem](https://drive.google.com/uc?export=view&id=1KJlqUu6odMk4Koca4QQytjYxGcVzDa2t)"
   ]
  },
  {
   "cell_type": "markdown",
   "metadata": {},
   "source": [
    "| **State** | **t** ($^\\circ$C) | **P** (MPa) | **h** (kJ/kg) | **s** (kJ/kg$\\cdot$K) |\n",
    "| :---: | :---: | :---: | :---: | :---: |\n",
    "| 1 | | | | |\n",
    "| 2 | | | | |\n",
    "| 3 | | | | |\n",
    "| 4 | | | | |\n",
    "| 5 | | | | |\n",
    "| 6 | | | | |"
   ]
  },
  {
   "cell_type": "markdown",
   "metadata": {},
   "source": [
    "### 3.9.1"
   ]
  },
  {
   "cell_type": "code",
   "execution_count": null,
   "metadata": {},
   "outputs": [],
   "source": []
  },
  {
   "cell_type": "markdown",
   "metadata": {},
   "source": [
    "### 3.9.2"
   ]
  },
  {
   "cell_type": "code",
   "execution_count": null,
   "metadata": {},
   "outputs": [],
   "source": []
  },
  {
   "cell_type": "markdown",
   "metadata": {},
   "source": [
    "### 3.9.3"
   ]
  },
  {
   "cell_type": "code",
   "execution_count": null,
   "metadata": {},
   "outputs": [],
   "source": []
  }
 ],
 "metadata": {
  "kernelspec": {
   "display_name": "Python 3",
   "language": "python",
   "name": "python3"
  },
  "language_info": {
   "codemirror_mode": {
    "name": "ipython",
    "version": 3
   },
   "file_extension": ".py",
   "mimetype": "text/x-python",
   "name": "python",
   "nbconvert_exporter": "python",
   "pygments_lexer": "ipython3",
   "version": "3.7.0"
  }
 },
 "nbformat": 4,
 "nbformat_minor": 4
}
