{
 "cells": [
  {
   "cell_type": "markdown",
   "metadata": {},
   "source": [
    "<p><img alt=\"Jupyter logo\" src=\"images/jupyter_logo.png\" align=\"left\" hspace=\"10px\" vspace=\"0px\"></p>\n",
    "\n",
    "<h1>Getting Started with Jupyter Notebooks</h1>\n",
    "\n",
    "Jupyter Notebooks are web-based interactive documents that combine programming and rich text formatting into one - imagine a coding environment mixed with a simplified word document. \n",
    "\n",
    "There are two main ways that we will access and use Jupyter Notebooks in this class:\n",
    "\n",
    " 1. Use online tools like Google Colaboratory\n",
    " 2. Download software to your own machine\n",
    "\n",
    "These other options are discussed more in other documents. For now we will discuss the main features that are general to **all** Jupyter Notebooks."
   ]
  },
  {
   "cell_type": "markdown",
   "metadata": {},
   "source": [
    "<h1>Working in the Notebook</h1>\n",
    "\n",
    "A *quick* note: the images included in this document are from Anaconda's distribution of Jupyter Notebook. They will look slightly different than what you see on Google Colab, but the functionality is all the same."
   ]
  },
  {
   "cell_type": "markdown",
   "metadata": {},
   "source": [
    "Everything you do in Jupyter Notebooks will be done in what are known as \"cells\":\n",
    "\n",
    "<p><img alt=\"basic cell\" src=\"images/basic_cell.png\"></p>\n",
    "\n",
    "One of the main advantages of working with cells, is that you can run snippets of your code by only executing cells you want to. However, the variables you defined and ran previously in other cells are still available in your workspace. In other terms, once you run a cell, everything you defined in that cell will remain active even if you never run that cell again versus when you run a typical script and everything is executed from start to finish. \n",
    "\n",
    "To execute a cell, you can either press:\n",
    "\n",
    "- **Run** in Jupyter Notebook\n",
    "\n",
    "<img alt=\"basic cell\" style=\"width:50%\" src=\"images/jupyter_run.png\" align=\"left\">"
   ]
  },
  {
   "cell_type": "markdown",
   "metadata": {},
   "source": [
    " - hit the **arrow button** in Colab\n",
    " \n",
    " <img alt=\"basic cell\" style=\"width:70%\" src=\"images/colab_run.png\" align=\"left\">\n",
    " "
   ]
  },
  {
   "cell_type": "markdown",
   "metadata": {},
   "source": [
    " - even easier you simply press **Shift+Enter** (Mac or PC) in either software when you are done editting the cell. The cell will run (provided you have no errors) and then highlight the next cell."
   ]
  },
  {
   "cell_type": "markdown",
   "metadata": {},
   "source": [
    "Cells have two main flavors that must be specified to run them correctly:\n",
    "\n",
    "1. Code cell\n",
    "2. Markdown cell"
   ]
  },
  {
   "cell_type": "markdown",
   "metadata": {},
   "source": [
    "<h2>Coding Cell</h2>\n",
    "\n",
    "Coding cells are what they sound like - cells in which you enter Python syntax and run them like you would a normal script. We won't go over Python itself in this document, but you can see a few examples below. Most everything you do in a normal script, you can do here like defining variables, running standard structures like for-loops, importing libraries, and working with classes and functions."
   ]
  },
  {
   "cell_type": "code",
   "execution_count": 1,
   "metadata": {},
   "outputs": [
    {
     "name": "stdout",
     "output_type": "stream",
     "text": [
      "3\n"
     ]
    }
   ],
   "source": [
    "x = 1\n",
    "y = 2\n",
    "print(x+y)"
   ]
  },
  {
   "cell_type": "code",
   "execution_count": 2,
   "metadata": {},
   "outputs": [
    {
     "name": "stdout",
     "output_type": "stream",
     "text": [
      "0\n",
      "1\n",
      "4\n",
      "3\n",
      "16\n"
     ]
    }
   ],
   "source": [
    "for i in range(5):\n",
    "    if i%2 == 0:\n",
    "        print(i*i)\n",
    "    else:\n",
    "        print(i)"
   ]
  },
  {
   "cell_type": "code",
   "execution_count": 3,
   "metadata": {},
   "outputs": [
    {
     "name": "stdout",
     "output_type": "stream",
     "text": [
      "[0. 0. 0. 0. 0. 0.]\n"
     ]
    }
   ],
   "source": [
    "import numpy as np\n",
    "z = np.zeros(6)\n",
    "print(z)"
   ]
  },
  {
   "cell_type": "code",
   "execution_count": 4,
   "metadata": {},
   "outputs": [],
   "source": [
    "class classy:\n",
    "    \n",
    "    def __init__(self,name):\n",
    "        self.name = name\n",
    "        \n",
    "    def get_name(self):\n",
    "        return self.name\n",
    "    \n",
    "    def __str__(self):\n",
    "        return f'{self.name} is classy'"
   ]
  },
  {
   "cell_type": "code",
   "execution_count": 5,
   "metadata": {},
   "outputs": [
    {
     "name": "stdout",
     "output_type": "stream",
     "text": [
      "Zoltan is classy\n"
     ]
    }
   ],
   "source": [
    "prof = classy('Zoltan')\n",
    "print(prof)"
   ]
  },
  {
   "cell_type": "markdown",
   "metadata": {},
   "source": [
    "You can run multiple cells in succession by choosing the option to **Run all** or by pressing **Shift+Enter** multiple times for different cells. However, cells will run in the order you specify and will not proceed if you encounter an error along the way. "
   ]
  },
  {
   "cell_type": "markdown",
   "metadata": {},
   "source": [
    "Coding cells will contain a number in brackets that corresponds to when they were run where the highest number refers to the cell most recently run i.e. ```[1]``` refers to the first cell run."
   ]
  },
  {
   "cell_type": "markdown",
   "metadata": {},
   "source": [
    "<h2>Markdown Cell</h2>\n",
    "\n",
    "[Markdown](https://en.wikipedia.org/wiki/Markdown#:~:text=Markdown%20is%20a%20lightweight%20markup,using%20a%20plain%20text%20editor.) is a simple markup style language that can be used in cells instead of Python. There a few commands that can be used in a Markdown cell to produce headings, format text, and create lists to name a few. More tips on how to use Markdown in Jupyter Notebooks can be found [here](https://jupyter-notebook.readthedocs.io/en/stable/examples/Notebook/Working%20With%20Markdown%20Cells.html).\n",
    "\n",
    "Markdown cells also support limited use of [HTML](https://en.wikipedia.org/wiki/HTML#:~:text=Hypertext%20Markup%20Language%20(HTML)%20is,as%20JavaScript%2C%20ASP%20and%20PHP.). If you are comfortable with this markup language, you should be able to seemlessly integrate it into your notebooks for a more polished look."
   ]
  },
  {
   "cell_type": "markdown",
   "metadata": {},
   "source": [
    "# Further Reading\n",
    "\n",
    "This document only touches on the basics of Jupyter notebook, but also provides links to other resources to improve your ability to comfortably and efficiently use these types of documents. Below are a few resources to help you with multiple components of Jupyter Notebooks."
   ]
  },
  {
   "cell_type": "markdown",
   "metadata": {},
   "source": [
    " - [Basic Guide to Jupyter Notebooks](https://realpython.com/jupyter-notebook-introduction/)\n",
    " - [More Extensive Guide to Jupyter Notebooks](https://www.datacamp.com/community/tutorials/tutorial-jupyter-notebook)\n",
    " - [Markdown Language Tips](https://github.com/adam-p/markdown-here/wiki/Markdown-Cheatsheet)\n",
    " - [Python Help](https://www.w3schools.com/python/python_syntax.asp)"
   ]
  },
  {
   "cell_type": "code",
   "execution_count": null,
   "metadata": {},
   "outputs": [],
   "source": []
  }
 ],
 "metadata": {
  "kernelspec": {
   "display_name": "Python 3",
   "language": "python",
   "name": "python3"
  },
  "language_info": {
   "codemirror_mode": {
    "name": "ipython",
    "version": 3
   },
   "file_extension": ".py",
   "mimetype": "text/x-python",
   "name": "python",
   "nbconvert_exporter": "python",
   "pygments_lexer": "ipython3",
   "version": "3.7.0"
  }
 },
 "nbformat": 4,
 "nbformat_minor": 4
}
