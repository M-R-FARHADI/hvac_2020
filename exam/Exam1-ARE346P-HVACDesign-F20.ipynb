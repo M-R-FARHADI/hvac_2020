{
 "cells": [
  {
   "cell_type": "markdown",
   "metadata": {},
   "source": [
    "<p><img alt=\"caee logo\" src=\"https://drive.google.com/uc?export=view&id=1bLjob5TsJBD3tWzNKzi6sbseyXsm6eb-\" align=\"left\" hspace=\"10px\" vspace=\"0px\"></p>\n",
    "<p><img alt=\"iel logo\" src=\"https://drive.google.com/uc?export=view&id=1uoCP8K9MyHTmU5nnpdlZoprhO8Bm5Yq5\" align=\"right\" hspace=\"10px\" vspace=\"0px\"></p>\n",
    "<h1 align='center'>Exam 1</h1>"
   ]
  },
  {
   "cell_type": "markdown",
   "metadata": {},
   "source": [
    "Answer the questions provided using as many extra cells as you need in the notebook. Please refrain from editing the cells provided to you. All the tables and charts you will need are provided in this notebook.\n",
    "\n",
    "*NOTE*: From questions 2, 3, 4, and 5, the best three will count, i.e. I will correct all of these four questions and count the best three results toward your final grade."
   ]
  },
  {
   "cell_type": "markdown",
   "metadata": {},
   "source": [
    "Please provide your name in the cell below and your UT EID in the cell beneath that one."
   ]
  },
  {
   "cell_type": "markdown",
   "metadata": {},
   "source": []
  },
  {
   "cell_type": "markdown",
   "metadata": {},
   "source": []
  },
  {
   "cell_type": "markdown",
   "metadata": {},
   "source": [
    "# Question 1\n",
    "Multiple Choice Questions: **20 points**\n",
    "\n",
    "Please use the cells beneath the question parts to input the number corresponding to your answer choice - you may leave the cells as coding cells."
   ]
  },
  {
   "cell_type": "markdown",
   "metadata": {},
   "source": [
    "## (a)\n",
    "**2 points**\n",
    "\n",
    "At the condenser, the refrigerant changes\n",
    "\n",
    "1. from high pressure vapor to high pressure liquid\n",
    "2. from high pressure vapor to low pressure liquid\n",
    "3. from high pressure liquid to high pressure vapor\n",
    "4. from high pressure vapor to low pressure vapor"
   ]
  },
  {
   "cell_type": "code",
   "execution_count": null,
   "metadata": {},
   "outputs": [],
   "source": []
  },
  {
   "cell_type": "markdown",
   "metadata": {},
   "source": [
    "## (b)\n",
    "**4 points**\n",
    "\n",
    "A refrigerant has a coefficient of performance of 1.6. How much work must be supplied to this refrigerator for you to reject 1000 kJ of heat?\n",
    "\n",
    "1. 385 kJ\n",
    "2. 625 kJ\n",
    "3. 836 kJ\n",
    "4. 1000 kJ"
   ]
  },
  {
   "cell_type": "code",
   "execution_count": null,
   "metadata": {},
   "outputs": [],
   "source": []
  },
  {
   "cell_type": "markdown",
   "metadata": {},
   "source": [
    "## (c) \n",
    "**2 points**\n",
    "\n",
    "Humid air is cooled, dehumidified, and reheated during an isobaric process. Which one of the psychrometric charts below correctly depicts these processes?\n",
    "\n",
    "![Q1c](https://drive.google.com/uc?export=view&id=1zWp7f4L7BVSuCqDxoxsivAaiMHg7631v)"
   ]
  },
  {
   "cell_type": "code",
   "execution_count": null,
   "metadata": {},
   "outputs": [],
   "source": []
  },
  {
   "cell_type": "markdown",
   "metadata": {},
   "source": [
    "## (d) \n",
    "**2 points** \n",
    "\n",
    "The ratio of the mass of vapor to the total mass of the moist air mixture is called\n",
    "\n",
    "1. vapor ratio\n",
    "2. vapor content\n",
    "3. index\n",
    "4. quality"
   ]
  },
  {
   "cell_type": "code",
   "execution_count": null,
   "metadata": {},
   "outputs": [],
   "source": []
  },
  {
   "cell_type": "markdown",
   "metadata": {},
   "source": [
    "## (e) \n",
    "**2 points**\n",
    "\n",
    "The expansion process in a theoretical single stage refrigeration cyce is\n",
    "\n",
    "1. isentropic\n",
    "2. reversible\n",
    "3. adiabatic\n",
    "4. all of the mentioned"
   ]
  },
  {
   "cell_type": "code",
   "execution_count": null,
   "metadata": {},
   "outputs": [],
   "source": []
  },
  {
   "cell_type": "markdown",
   "metadata": {},
   "source": [
    "## (f) \n",
    "**4 points**\n",
    "\n",
    "Which of the following statements is true?\n",
    "1. dew point temperature is the temperature at which water vapor starts condensing\n",
    "2. dry bulb temperature is recorded by a thermometer when the bulb is dry\n",
    "3. wet bulb temperature is recorded by a thermometer when the bulb is covered with a cotton wich which is saturated inwater\n",
    "4. all of the mentioned"
   ]
  },
  {
   "cell_type": "code",
   "execution_count": null,
   "metadata": {},
   "outputs": [],
   "source": []
  },
  {
   "cell_type": "markdown",
   "metadata": {},
   "source": [
    "## (g)\n",
    "\n",
    "**4 points**\n",
    "\n"
   ]
  },
  {
   "cell_type": "code",
   "execution_count": null,
   "metadata": {},
   "outputs": [],
   "source": []
  },
  {
   "cell_type": "markdown",
   "metadata": {},
   "source": [
    "# Question 2\n",
    "\n",
    "Psychrometrics: **40 points**\n",
    "\n",
    "The following figure depicts a two-zone heating/humidifying system.\n",
    "\n",
    "![Q2](https://drive.google.com/uc?export=view&id=1P5TLk0hWStidzo9rkr6Jd_n1RXQ7nLgA)\n",
    "\n",
    "The following conditions exist:\n",
    "- *Zone A* is at 60$^\\circ$F dry-bulb temperature and 50% relative humidity\n",
    "- The mass flow rate of supply air into *zone A* is 6000 lbm$_\\text{a}$/hr\n",
    "- The sensible heat loss from *Zone A* is 32,000 BTU/hr\n",
    "- *Zone B* is at 72$^\\circ$F dry-bulb tmperature and 20% relative humidity\n",
    "- The mass flor rate of supply air into *Zone B* is 4000 lbm$_\\text{a}$/hr\n",
    "- The sensible and latent heat losses from zone B result in an SHR of 0.7\n",
    "- Outside air is at 35$^\\circ$F dry-bulb temperature and 20% relative humidity\n",
    "- The preheat coil is controlled so that the air leaves the coil at a dry-bulb temperature of 80$^\\circ$F\n",
    "- The air exits the waster at saturated conditions\n",
    "- The system operates at standard atmospheric pressure\n",
    "\n",
    "Sketch and label all the points and process lines on a psychrometric chart and determine:\n",
    "1. the dry-bulb tmperature and relative humidity of state 6\n",
    "2. the rate of heat input by the preheat coil\n",
    "3. the dry-blub and wet-bulb temperatures of state 8\n",
    "4. the rate of moisture added to the air by the air washer\n",
    "5. the dry-bulb temperature and relative humidity for *Zone A*\n",
    "6. the rate of heat input by the reheat coil for *Zone B*\n",
    "\n",
    "Use the following constants where necessary:\n",
    "- $\\text{c}_\\text{a} = 0.24\\ \\text{Btu}/\\text{lbm}_\\text{a}{}^\\circ \\text{F}$\n",
    "- $\\text{c}_\\text{p,w} = 0.244\\ \\text{Btu}/\\text{lbm}_\\text{w}{}^\\circ \\text{F}$\n",
    "- $\\bar{\\text{c}_\\text{a}} = 0.245\\ \\text{Btu}/\\text{lbm}_\\text{a}{}^\\circ \\text{F}$"
   ]
  },
  {
   "cell_type": "markdown",
   "metadata": {},
   "source": [
    "![psychrometric_si](https://drive.google.com/uc?export=view&id=1jJb4RjPcwfVA4BaX89LFIE8dFK04Xd1m)"
   ]
  },
  {
   "cell_type": "markdown",
   "metadata": {},
   "source": [
    "## 2.1 Solution\n",
    "Please enter your solution to Problem 2.1 below in as many cells as necessary."
   ]
  },
  {
   "cell_type": "code",
   "execution_count": null,
   "metadata": {},
   "outputs": [],
   "source": []
  },
  {
   "cell_type": "markdown",
   "metadata": {},
   "source": [
    "## 2.2 Solution\n",
    "Please enter your solution to Problem 2.2 below in as many cells as necessary."
   ]
  },
  {
   "cell_type": "code",
   "execution_count": null,
   "metadata": {},
   "outputs": [],
   "source": []
  },
  {
   "cell_type": "markdown",
   "metadata": {},
   "source": [
    "## 2.3 Solution\n",
    "Please enter your solution to Problem 2.3 below in as many cells as necessary."
   ]
  },
  {
   "cell_type": "code",
   "execution_count": null,
   "metadata": {},
   "outputs": [],
   "source": []
  },
  {
   "cell_type": "markdown",
   "metadata": {},
   "source": [
    "## 2.4 Solution\n",
    "Please enter your solution to Problem 2.4 below in as many cells as necessary."
   ]
  },
  {
   "cell_type": "code",
   "execution_count": null,
   "metadata": {},
   "outputs": [],
   "source": []
  },
  {
   "cell_type": "markdown",
   "metadata": {},
   "source": [
    "## 2.5 Solution\n",
    "Please enter your solution to Problem 2.5 below in as many cells as necessary."
   ]
  },
  {
   "cell_type": "code",
   "execution_count": null,
   "metadata": {},
   "outputs": [],
   "source": []
  },
  {
   "cell_type": "markdown",
   "metadata": {},
   "source": [
    "## 2.6 Solution\n",
    "Please enter your solution to Problem 2.6 below in as many cells as necessary."
   ]
  },
  {
   "cell_type": "code",
   "execution_count": null,
   "metadata": {},
   "outputs": [],
   "source": []
  },
  {
   "cell_type": "markdown",
   "metadata": {},
   "source": [
    "# Question 3\n",
    "Refrigeration Cycle: **40 points**\n",
    "\n",
    "A Refrigerant-22 system is arranged as shown in the following figure.\n",
    "\n",
    "![Q3](https://drive.google.com/uc?export=view&id=1aM36RFAveCqvv56PoGMaBEzl3jUTiXRb)\n",
    "\n",
    "Condensing pressure is 1.5 MPa, intermediate pressure is 0.5 MPa, and the evaporating pressure is 0.2 MPa. The following temperatures are known:\n",
    "- $t_1 = 35^\\circ\\text{C}$\n",
    "- $t_3 = 5^\\circ\\text{C}$\n",
    "- $t_5 = -20^\\circ\\text{C}$\n",
    "- $t_7 = 5^\\circ\\text{C}$\n",
    "\n",
    "Assume isentropic compression and frictionless flow. Calculate the coefficient of performance.\n",
    "\n",
    "*Hint: Saturation tables and P-h diagrams for R-22 are at the bottom of this document.*"
   ]
  },
  {
   "cell_type": "markdown",
   "metadata": {},
   "source": [
    "![psychrometric_si](https://drive.google.com/uc?export=view&id=1J_X2M8HGxIc345tJiPBpz7jLj0QxvLjH)"
   ]
  },
  {
   "cell_type": "markdown",
   "metadata": {},
   "source": [
    "## Solution 3\n",
    "Please enter your solution to Problem 3 below in as many cells as necessary."
   ]
  },
  {
   "cell_type": "code",
   "execution_count": null,
   "metadata": {},
   "outputs": [],
   "source": []
  },
  {
   "cell_type": "markdown",
   "metadata": {},
   "source": [
    "# Question 4\n",
    "Heat Exchangers: **40 points**\n",
    "\n",
    "Moist air entering the heat exchanger at 2 m$^3$/s, 21$^\\circ$C dry-bulb temperature, 13$^\\circ$C wet-bulb temperature, and a pressure of 101.325 kPa is heated to 40$^\\circ$C by condensing Refrigerant-22 at a pressure of 1.942 MPa. The refrigerant enters as a saturated vapor and leaves as a saturated liquid. The refrigerant is mixed while the air is unmixed. A simple schematic for the heat exchanger is shwon below with labeled points. \n",
    "\n",
    "![Q4]()\n",
    "\n",
    "Determine the:\n",
    "1. mass flow rate of refrigerant required in kg/s\n",
    "2. value of NTU\n",
    "3. overall conductance of the heat exchanger, UA\n",
    "4. correction factor, F\n",
    "5. the logarithmic mean temperature different, LMTD\n",
    "5. heating capacaity of the heat exchanger in kW\n",
    "\n",
    "Use the psychrometric chart on the next page to determine necessary quantities.\n",
    "Use the following constants where necessary.\n",
    "- $\\text{c}_\\text{a} = 1.0\\ \\text{kJ}/\\text{kg}_\\text{a}{}^\\circ \\text{C}$\n",
    "- $\\text{c}_\\text{p,w} = 1.86\\ \\text{kJ}/\\text{kg}_\\text{w}{}^\\circ \\text{C}$"
   ]
  },
  {
   "cell_type": "markdown",
   "metadata": {},
   "source": [
    "## 4.1 Solution\n",
    "Please enter your solution to Problem 4.1 below in as many cells as necessary."
   ]
  },
  {
   "cell_type": "code",
   "execution_count": null,
   "metadata": {},
   "outputs": [],
   "source": []
  },
  {
   "cell_type": "markdown",
   "metadata": {},
   "source": [
    "## 4.2 Solution\n",
    "Please enter your solution to Problem 4.2 below in as many cells as necessary."
   ]
  },
  {
   "cell_type": "code",
   "execution_count": null,
   "metadata": {},
   "outputs": [],
   "source": []
  },
  {
   "cell_type": "markdown",
   "metadata": {},
   "source": [
    "## 4.3 Solution\n",
    "Please enter your solution to Problem 4.3 below in as many cells as necessary."
   ]
  },
  {
   "cell_type": "code",
   "execution_count": null,
   "metadata": {},
   "outputs": [],
   "source": []
  },
  {
   "cell_type": "markdown",
   "metadata": {},
   "source": [
    "## 4.4 Solution\n",
    "Please enter your solution to Problem 4.4 below in as many cells as necessary."
   ]
  },
  {
   "cell_type": "code",
   "execution_count": null,
   "metadata": {},
   "outputs": [],
   "source": []
  },
  {
   "cell_type": "markdown",
   "metadata": {},
   "source": [
    "## 4.5 Solution\n",
    "Please enter your solution to Problem 4.5 below in as many cells as necessary."
   ]
  },
  {
   "cell_type": "code",
   "execution_count": null,
   "metadata": {},
   "outputs": [],
   "source": []
  },
  {
   "cell_type": "markdown",
   "metadata": {},
   "source": [
    "## 4.6 Solution\n",
    "Please enter your solution to Problem 4.6 below in as many cells as necessary."
   ]
  },
  {
   "cell_type": "code",
   "execution_count": null,
   "metadata": {},
   "outputs": [],
   "source": []
  }
 ],
 "metadata": {
  "kernelspec": {
   "display_name": "Python 3",
   "language": "python",
   "name": "python3"
  },
  "language_info": {
   "codemirror_mode": {
    "name": "ipython",
    "version": 3
   },
   "file_extension": ".py",
   "mimetype": "text/x-python",
   "name": "python",
   "nbconvert_exporter": "python",
   "pygments_lexer": "ipython3",
   "version": "3.7.0"
  }
 },
 "nbformat": 4,
 "nbformat_minor": 4
}
