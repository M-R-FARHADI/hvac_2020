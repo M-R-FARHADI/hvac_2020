{
 "cells": [
  {
   "cell_type": "markdown",
   "metadata": {
    "colab_type": "text",
    "id": "6ja6S3Po4C9I"
   },
   "source": [
    "<p><img alt=\"caee logo\" src=\"https://drive.google.com/uc?export=view&id=1bLjob5TsJBD3tWzNKzi6sbseyXsm6eb-\" align=\"left\" hspace=\"10px\" vspace=\"0px\"></p>\n",
    "<p><img alt=\"iel logo\" src=\"https://drive.google.com/uc?export=view&id=1uoCP8K9MyHTmU5nnpdlZoprhO8Bm5Yq5\" align=\"right\" hspace=\"10px\" vspace=\"0px\"></p>\n",
    "<h2 align='center'>Homework 0: Python Introduction</h2>"
   ]
  },
  {
   "cell_type": "markdown",
   "metadata": {
    "colab_type": "text",
    "id": "KIdwAKalZlcY"
   },
   "source": [
    "ARE 346N Building Environmental Systems\n",
    "\n",
    "Professor Dr. Zoltan Nagy\n"
   ]
  },
  {
   "cell_type": "markdown",
   "metadata": {
    "colab_type": "text",
    "id": "4rVMs5nJMWRF"
   },
   "source": [
    "# Instructions\n",
    "\n",
    "Solve each of the following problems and show your work. Make sure to label each answer with the same label as the problem.\n",
    "\n",
    "You will be graded on both the correct method and solution. Partial credit is awarded for use of the correct equation or method, and the correct answer with appropriate units. \n",
    "\n",
    "This assignment includes *seven* problems.\n",
    "\n",
    "| PROBLEM | POINTS |\n",
    "| --- | --- |\n",
    "| Problem 1 | 10 pts |\n",
    "| Problem 2 | 15 pts |\n",
    "| Problem 3 | 10 pts |\n",
    "| Problem 4 | 15 pts |\n",
    "| Problem 5 | 15 pts |\n",
    "| Problem 6 | 15 pts |\n",
    "| Problem 7 | 20 pts |\n",
    "| **TOTAL** | **100 pts** |"
   ]
  },
  {
   "cell_type": "markdown",
   "metadata": {
    "colab_type": "text",
    "id": "U8_unHPOafS8"
   },
   "source": [
    "# **Problems**"
   ]
  },
  {
   "cell_type": "markdown",
   "metadata": {
    "colab_type": "text",
    "id": "0vx3TnuXAogv"
   },
   "source": [
    "## Problem 1 - Creating a short program using `if` statements\n",
    "\n",
    "---\n",
    "\n",
    "Write a Python code  allows user to convert cooling/heating capacity from btu/hr to kW. Your input can be any variable related to energy such as cooling/heating capacities. \n",
    "$$\n",
    "P(kW) = \\left ( \\frac{P[Btu/hr]}{3412.142} \\right)\n",
    "$$\n"
   ]
  },
  {
   "cell_type": "code",
   "execution_count": null,
   "metadata": {
    "colab": {},
    "colab_type": "code",
    "id": "ba7om8bOcSap"
   },
   "outputs": [],
   "source": [
    "# YOUR CODE HERE"
   ]
  },
  {
   "cell_type": "markdown",
   "metadata": {
    "colab_type": "text",
    "id": "MeE39azs4oct"
   },
   "source": [
    "## Problem 2 - Creating a short program using `if` statements\n",
    "\n",
    "---\n",
    "\n",
    "Consider the following assessment criteria which assess the thermal comfort.\n",
    "\n",
    "| Thermal comfort   | Fanger Seven Point Scale   ($-3<$ and $< 3$)      |\n",
    "| ---------------- | ---------------------- |\n",
    "| Cold        | $= -3$            |\n",
    "| Cool        | $= -2$  |\n",
    "| Slightly Cool            | $= -1$   |\n",
    "| Neutral | $= 0$    |\n",
    "| Slightly Warm     | $= +1$  |\n",
    "| Warm     | $= +2$  |\n",
    "| Hot    | $= +3$              |\n",
    "\n",
    "Write a program that using `if`, `elif`, and `else` that asks for user input and prints the appropriate thermal comfort. Print an error message if the input is greater than +3 or less than -3.\n"
   ]
  },
  {
   "cell_type": "code",
   "execution_count": null,
   "metadata": {
    "colab": {},
    "colab_type": "code",
    "id": "C6bGD7LT43dc"
   },
   "outputs": [],
   "source": [
    "# input from from user (2)\n",
    "\n",
    "# YOUR CODE HERE"
   ]
  },
  {
   "cell_type": "markdown",
   "metadata": {
    "colab_type": "text",
    "id": "8Q-zAbOIUE-1"
   },
   "source": [
    "## Problem 3 - Complex Order of Operations\n",
    "\n",
    "For the polynomial \n",
    "\\begin{align}\n",
    "f(x, y, z) &= (x + y+ z )^{4} \n",
    "\\\\\n",
    "&=  x^4 + y^4 +z^4 + 4x^{3}y + 4xy^{3}+ 4y^{3}x + 4yz^{3} +4z^{3}x+4x^{3}z+6x^{2}y^{2}+6y^{2}z^{2}+6z^{2}x^{2}+12x^{2}yz+12xy^{2}z+12xyz^{2}\n",
    "\\end{align}\n",
    "\n",
    "compute $f$ using: (i) the compact form $(x + y+ z)^{4}$; and (ii) the expanded form for:\n",
    "\n",
    "\n",
    "\n",
    "$x = 3$ and $y = 4.1$ and $z = 5.6$\n",
    "\n",
    "and compare the number of significant digits for which the answers are the same.\n",
    "\n",
    "Store the answer for the compact version using the variable `f0`, and using the variable `f1` for the expanded version.\n",
    "\n",
    "For case (b), compare the computed and analytical solutions and consider the relative error.\n",
    "Which approach would you recommend for computing this expression?"
   ]
  },
  {
   "cell_type": "code",
   "execution_count": null,
   "metadata": {
    "colab": {},
    "colab_type": "code",
    "id": "i3D1ElSYXKMf"
   },
   "outputs": [],
   "source": [
    "x = 3\n",
    "y = 4.1\n",
    "z = 5.6\n",
    "\n",
    "# YOUR CODE HERE"
   ]
  },
  {
   "cell_type": "code",
   "execution_count": null,
   "metadata": {
    "colab": {},
    "colab_type": "code",
    "id": "Z6iycVlF6RmN"
   },
   "outputs": [],
   "source": [
    "### WRITE down the number that you calculated for the variables `f0` and `f1` HERE\n"
   ]
  },
  {
   "cell_type": "markdown",
   "metadata": {
    "colab_type": "text",
    "id": "QbQpUDs4NIpw"
   },
   "source": [
    "## Problem 4 - Basic Function\n",
    "\n",
    "Write a Python **function** to find the sum of the numbers listed in different columns.\n",
    "\n",
    "|Variables | X | Y |\n",
    "| ---   | --- | --- |\n",
    "| X1, Y1| 10 | 4 |\n",
    "|X2, Y2| 15 | 16 |\n",
    "| X3, Y3| 18 | 33|\n",
    "|X4, Y4| 55 | 47 |\n",
    "| X5, Y5| 22 | 88 |\n",
    "| **TOTAL** | ???|??? |\n",
    "\n"
   ]
  },
  {
   "cell_type": "code",
   "execution_count": null,
   "metadata": {
    "colab": {},
    "colab_type": "code",
    "id": "pqheF_7ie_Sc"
   },
   "outputs": [],
   "source": [
    "# Your Function here"
   ]
  },
  {
   "cell_type": "code",
   "execution_count": null,
   "metadata": {
    "colab": {},
    "colab_type": "code",
    "id": "ImgUZ9h4fB_y"
   },
   "outputs": [],
   "source": [
    "# Find the sum of X and Y variables."
   ]
  },
  {
   "cell_type": "markdown",
   "metadata": {
    "colab_type": "text",
    "id": "-hs_lELAXJTR"
   },
   "source": [
    "## Problem 5 - Writing Function with `if statement`\n",
    "\n",
    "Write a Python function to check whether indoor temperature is in a given range below. If it is below 65 oF, turn on the heater. If the temperature is above 75 oF, turn on the cooler.\n",
    "\n",
    "$$\n",
    "65F <Tindoor < 75F\n",
    "$$\n",
    "\n",
    "---\n",
    "\n",
    "Test 2 different temperatures above and below given temperature values to discuss your function.\n"
   ]
  },
  {
   "cell_type": "code",
   "execution_count": null,
   "metadata": {
    "colab": {},
    "colab_type": "code",
    "id": "W-ix_a5SWXju"
   },
   "outputs": [],
   "source": [
    "# Your Function here"
   ]
  },
  {
   "cell_type": "code",
   "execution_count": null,
   "metadata": {
    "colab": {},
    "colab_type": "code",
    "id": "AE_Q-2uyXJqQ"
   },
   "outputs": [],
   "source": [
    "# Testing 2 different temperatures given by user"
   ]
  },
  {
   "cell_type": "markdown",
   "metadata": {
    "colab_type": "text",
    "id": "b1qHuXaJSHBU"
   },
   "source": [
    "## Problem 6 - Function for different conditions\n",
    "\n",
    "Write a function to calculate the condition of mixed air for given Tindoor, Toutdoor and indoor and outdoor air mixing ratio.\n",
    "$$\n",
    "T_(mixed) = \\left( {Tindoor * returnair + Toutdoor * OutdoorAir} \\right)\n",
    "$$\n",
    "Write a function named mixed air temperatur that computes for given the variables (4 different variables).\n",
    "\n",
    "\n",
    "\n"
   ]
  },
  {
   "cell_type": "code",
   "execution_count": null,
   "metadata": {
    "colab": {},
    "colab_type": "code",
    "id": "mlM5WZ_kXb9H"
   },
   "outputs": [],
   "source": [
    "# YOUR FUNCTION HERE\n"
   ]
  },
  {
   "cell_type": "code",
   "execution_count": null,
   "metadata": {
    "colab": {},
    "colab_type": "code",
    "id": "yy6iL2UTk4Hy"
   },
   "outputs": [],
   "source": [
    "#Results for the given conditions below\n",
    "\n",
    "T_indoor1, Return_Air1, T_outdoor1, Outdoor_Air1 = 75, 0.30, 85, 0.70   \n",
    "T_indoor2, Return_Air2, T_outdoor2, Outdoor_Air2 = 63, 0.20, 40, 0.80\n",
    "T_indoor3, Return_Air3, T_outdoor3, Outdoor_Air3 = 80, 0.50, 100, 0.50\n",
    "T_indoor4, Return_Air4, T_outdoor4, Outdoor_Air4 = 70, 0.90, 110, 0.10\n"
   ]
  },
  {
   "cell_type": "markdown",
   "metadata": {
    "colab_type": "text",
    "id": "QWuC4G0rkwb7"
   },
   "source": [
    "Please discuss your results here!"
   ]
  },
  {
   "cell_type": "markdown",
   "metadata": {
    "colab_type": "text",
    "id": "DXNI126_gbpP"
   },
   "source": [
    "## Problem 7 - Creating a Dataframe\n"
   ]
  },
  {
   "cell_type": "markdown",
   "metadata": {
    "colab_type": "text",
    "id": "I0nSvRkCQAXr"
   },
   "source": [
    "\n",
    "\n",
    "### Problem 7 -Part a\n",
    "\n",
    "Please `create a dataset` as shown in the figure below:\n",
    "\n",
    "|Student Name | Year Accepted | Year of Graduation | Final Grade |\n",
    "| ---   | --- | --- | --- |\n",
    "| Tina| 2012 | 2016 | A |\n",
    "|Sangeetha| 2017 | 2021 | A-|\n",
    "| Joseph| 2016 | 2020| B- |\n",
    "|Jake| 2012 | 2016 | B+ |\n",
    "|Rachel| 2016 | 2020 | A- |\n",
    "|Sep| 2018 | 2020 | A |\n",
    "|June| 2016 | 2020 | A |\n",
    "|Jose| 2018 | 2021 | A |\n"
   ]
  },
  {
   "cell_type": "code",
   "execution_count": null,
   "metadata": {
    "colab": {},
    "colab_type": "code",
    "id": "HF4hBROhVVa8"
   },
   "outputs": [],
   "source": [
    "#YOUR CODE HERE\n",
    "# Import modules\n",
    "\n",
    "import pandas as pd     #if needed\n",
    "import numpy as np    #if needed"
   ]
  },
  {
   "cell_type": "markdown",
   "metadata": {
    "colab_type": "text",
    "id": "ieBhP7AEWHe-"
   },
   "source": [
    "### Problem 7 - Part b\n",
    "\n",
    "Please add a column to the dataframe created previously. If the grade of the student less than \"A-\", student will fail."
   ]
  },
  {
   "cell_type": "code",
   "execution_count": null,
   "metadata": {
    "colab": {},
    "colab_type": "code",
    "id": "crRUA55dcg44"
   },
   "outputs": [],
   "source": [
    "#YOUR CODE HERE\n",
    "# Import modules\n",
    "\n",
    "import pandas as pd     #if needed\n",
    "import numpy as np    #if needed"
   ]
  }
 ],
 "metadata": {
  "colab": {
   "collapsed_sections": [],
   "name": "HW0-BES&HVAC Design-F20",
   "provenance": []
  },
  "kernelspec": {
   "display_name": "Python 3",
   "language": "python",
   "name": "python3"
  },
  "language_info": {
   "codemirror_mode": {
    "name": "ipython",
    "version": 3
   },
   "file_extension": ".py",
   "mimetype": "text/x-python",
   "name": "python",
   "nbconvert_exporter": "python",
   "pygments_lexer": "ipython3",
   "version": "3.7.0"
  }
 },
 "nbformat": 4,
 "nbformat_minor": 1
}
