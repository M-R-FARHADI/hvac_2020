{
 "cells": [
  {
   "cell_type": "markdown",
   "metadata": {
    "colab_type": "text",
    "id": "eT-0npLm1oIH"
   },
   "source": [
    "<p><img alt=\"caee logo\" src=\"https://drive.google.com/uc?export=view&id=1bLjob5TsJBD3tWzNKzi6sbseyXsm6eb-\" align=\"left\" hspace=\"10px\" vspace=\"0px\"></p>\n",
    "<p><img alt=\"iel logo\" src=\"https://drive.google.com/uc?export=view&id=1uoCP8K9MyHTmU5nnpdlZoprhO8Bm5Yq5\" align=\"right\" hspace=\"10px\" vspace=\"0px\"></p>\n",
    "<h1 align='center'>Homework 1</h1>"
   ]
  },
  {
   "cell_type": "markdown",
   "metadata": {
    "colab_type": "text",
    "id": "Z20TXf2C1oIK"
   },
   "source": [
    "ARE 346P / CE 389H HVAC Design\n",
    "\n",
    "Professor Dr. Zoltan Nagy\n",
    "\n",
    "**Due: September 17, 2020**"
   ]
  },
  {
   "cell_type": "markdown",
   "metadata": {
    "colab_type": "text",
    "id": "VNXDKO381oIL"
   },
   "source": [
    "# Instructions\n",
    "\n",
    "Solve each of the following problems and show your work. Make sure to label each answer with the same label as the problem.\n",
    "\n",
    "You will be graded on both the correct method and solution. Partial credit is awarded for use of the correct equation or method, correct values chosen from tables and charts when required, and the correct answer with appropriate units. \n",
    "\n",
    "This assignment includes *five* problems based on Chapter 7 from your textbook.\n",
    "\n",
    "| PROBLEM | POINTS |\n",
    "| --- | --- |\n",
    "| 7.1 | 8 pts |\n",
    "| 7.21 | 4 pts |\n",
    "| 7.3 | 4 pts |\n",
    "| 7.4 | 4 pts |\n",
    "| 7.27 | 5 pts |\n",
    "| **TOTAL** | **25 pts** |"
   ]
  },
  {
   "cell_type": "markdown",
   "metadata": {},
   "source": [
    "## Resources\n",
    "\n",
    "For this Homework, the following resources might be useful for you:\n",
    "\n",
    "1. Table A4 from your textbook\n",
    "2. Psychrometric Chart\n",
    "    1. [Online Interactive Chart](http://www.flycarpet.net/en/psyonline)\n",
    "    2. [Downloadable Charts](http://www.handsdownsoftware.com)"
   ]
  },
  {
   "cell_type": "markdown",
   "metadata": {
    "colab_type": "text",
    "id": "shixPtGM1yjm"
   },
   "source": [
    "# Problems"
   ]
  },
  {
   "cell_type": "markdown",
   "metadata": {
    "colab_type": "text",
    "id": "Ss1gdxE91oIM"
   },
   "source": [
    "## 7.1\n",
    "\n",
    "Moist air exists at 80$^\\circ$F dry-bulb temperature, 0.0150 lbm$_{w}$/lbm$_a$ humidity ratio, and 14.696 psia pressure. Through the use of <u>Table A.4 and fundamental relations</u>, determine:\n",
    "\n",
    "   (a) the dew-point temperature, <br>\n",
    "   (b) relative humidity, <br>\n",
    "   (c) volume in ft$^3$/lbm$_a$, and <br>\n",
    "   (d) the enthalpy in Btu/lbm$_a$ <br>\n",
    "\n",
    "**Note**: Do not use the psychrometric chart for this problem"
   ]
  },
  {
   "cell_type": "markdown",
   "metadata": {
    "colab_type": "text",
    "id": "6hAcTD9e1oIN"
   },
   "source": [
    "### 7.1a"
   ]
  },
  {
   "cell_type": "code",
   "execution_count": null,
   "metadata": {
    "colab": {},
    "colab_type": "code",
    "id": "EALLt5Iy1oIO"
   },
   "outputs": [],
   "source": []
  },
  {
   "cell_type": "markdown",
   "metadata": {
    "colab_type": "text",
    "id": "_-N-qe2J1oIT"
   },
   "source": [
    "### 7.1b"
   ]
  },
  {
   "cell_type": "code",
   "execution_count": null,
   "metadata": {
    "colab": {},
    "colab_type": "code",
    "id": "U493ebsH1oIU"
   },
   "outputs": [],
   "source": []
  },
  {
   "cell_type": "markdown",
   "metadata": {
    "colab_type": "text",
    "id": "qhwiBWKV1oIZ"
   },
   "source": [
    "### 7.1c"
   ]
  },
  {
   "cell_type": "code",
   "execution_count": null,
   "metadata": {
    "colab": {},
    "colab_type": "code",
    "id": "EhyBxzee1oIa"
   },
   "outputs": [],
   "source": []
  },
  {
   "cell_type": "markdown",
   "metadata": {
    "colab_type": "text",
    "id": "YlTqJJ971oIf"
   },
   "source": [
    "### 7.1d"
   ]
  },
  {
   "cell_type": "code",
   "execution_count": null,
   "metadata": {
    "colab": {},
    "colab_type": "code",
    "id": "mkvFSOtT1oIf"
   },
   "outputs": [],
   "source": []
  },
  {
   "cell_type": "markdown",
   "metadata": {
    "colab_type": "text",
    "id": "6QsuhP6_1oIj"
   },
   "source": [
    "## 7.21\n",
    "\n",
    "Re-work Problem [7.1](#7.1) again but using the psychrometric chart. Compare your answers to those you found in 7.1. Write out the answers and a brief explanation for each part.\n",
    "\n",
    "   (a) the dew-point temperature, <br>\n",
    "   (b) relative humidity, <br>\n",
    "   (c) volume in ft$^3$/lbm$_a$, and <br>\n",
    "   (d) the enthalpy in Btu/lbm$_a$ <br>\n"
   ]
  },
  {
   "cell_type": "markdown",
   "metadata": {
    "colab_type": "text",
    "id": "3Ky3uE451oIk"
   },
   "source": [
    "### 7.1a"
   ]
  },
  {
   "cell_type": "code",
   "execution_count": null,
   "metadata": {
    "colab": {},
    "colab_type": "code",
    "id": "UP5LIb9W1oIl"
   },
   "outputs": [],
   "source": []
  },
  {
   "cell_type": "markdown",
   "metadata": {
    "colab_type": "text",
    "id": "0owI6Lyu1oIq"
   },
   "source": [
    "### 7.1b"
   ]
  },
  {
   "cell_type": "code",
   "execution_count": null,
   "metadata": {
    "colab": {},
    "colab_type": "code",
    "id": "7ThLfjKO1oIr"
   },
   "outputs": [],
   "source": []
  },
  {
   "cell_type": "markdown",
   "metadata": {
    "colab_type": "text",
    "id": "aMnS0-ug1oIu"
   },
   "source": [
    "### 7.1c"
   ]
  },
  {
   "cell_type": "code",
   "execution_count": null,
   "metadata": {
    "colab": {},
    "colab_type": "code",
    "id": "pCnCT9wr1oIv"
   },
   "outputs": [],
   "source": []
  },
  {
   "cell_type": "markdown",
   "metadata": {
    "colab_type": "text",
    "id": "sfnf6Rom1oI0"
   },
   "source": [
    "### 7.1d"
   ]
  },
  {
   "cell_type": "code",
   "execution_count": null,
   "metadata": {
    "colab": {},
    "colab_type": "code",
    "id": "rXCltVhr1oI1"
   },
   "outputs": [],
   "source": []
  },
  {
   "cell_type": "markdown",
   "metadata": {
    "colab_type": "text",
    "id": "8YRIRgvq1oI5"
   },
   "source": [
    "## 7.3\n",
    "    \n",
    "The atmosphere within a room is at 70$^\\circ$F dry-bulb temperature, 50% degree of saturation, and 14.696 psia pressure. The inside surface temperature of the windows is 40$^\\circ$F. Will moisture condense out of the air upon the window glass? Show your work and explain your reasoning."
   ]
  },
  {
   "cell_type": "code",
   "execution_count": null,
   "metadata": {
    "colab": {},
    "colab_type": "code",
    "id": "rcdu9CBi1oI5"
   },
   "outputs": [],
   "source": []
  },
  {
   "cell_type": "markdown",
   "metadata": {
    "colab_type": "text",
    "id": "poLZzzW81oI-"
   },
   "source": [
    "## 7.4\n",
    "\n",
    "Assume that the dimensions of the room of Problem [7.3](#7.3) are 30 ft by 15 ft by 8 ft high. Calculate the number of pounds of water vapor in the room."
   ]
  },
  {
   "cell_type": "code",
   "execution_count": null,
   "metadata": {
    "colab": {},
    "colab_type": "code",
    "id": "0LZkx5Ez1oI_"
   },
   "outputs": [],
   "source": []
  },
  {
   "cell_type": "markdown",
   "metadata": {
    "colab_type": "text",
    "id": "UsMvuaJ91oJD"
   },
   "source": [
    "## 7.27\n",
    "\n",
    "In the psychrometric process, moist air at standard atmospheric pressure goes from state 1 at 15$^\\circ$C dry-bulb temperature and 10$^\\circ$C wet-bulb temperature to state 2 of 35$^\\circ$C dry-bulb temperature and 10$^\\circ$C dew-point temperature. By using the psychrometric chart, determine:\n",
    "\n",
    "   (a) the enthalpy-humidity ratio, q’, for the process, and <br>\n",
    "   (b) the sensible-heat ratio, SHR, for the process"
   ]
  },
  {
   "cell_type": "markdown",
   "metadata": {
    "colab_type": "text",
    "id": "bautNcMd1oJD"
   },
   "source": [
    "### 7.27a"
   ]
  },
  {
   "cell_type": "code",
   "execution_count": null,
   "metadata": {
    "colab": {},
    "colab_type": "code",
    "id": "BjQRZbFL1oJF"
   },
   "outputs": [],
   "source": []
  },
  {
   "cell_type": "markdown",
   "metadata": {
    "colab_type": "text",
    "id": "3U2S3h_G1oJI"
   },
   "source": [
    "### 7.27b"
   ]
  },
  {
   "cell_type": "code",
   "execution_count": null,
   "metadata": {
    "colab": {},
    "colab_type": "code",
    "id": "CkTzZ3ym1oJJ"
   },
   "outputs": [],
   "source": []
  }
 ],
 "metadata": {
  "colab": {
   "name": "HW1-ARE346P-HVACDesign-F20.ipynb",
   "provenance": []
  },
  "kernelspec": {
   "display_name": "Python 3",
   "language": "python",
   "name": "python3"
  },
  "language_info": {
   "codemirror_mode": {
    "name": "ipython",
    "version": 3
   },
   "file_extension": ".py",
   "mimetype": "text/x-python",
   "name": "python",
   "nbconvert_exporter": "python",
   "pygments_lexer": "ipython3",
   "version": "3.7.0"
  }
 },
 "nbformat": 4,
 "nbformat_minor": 1
}
