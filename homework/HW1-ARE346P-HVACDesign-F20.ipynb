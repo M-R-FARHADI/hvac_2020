{
 "cells": [
  {
   "cell_type": "markdown",
   "metadata": {},
   "source": [
    "<p><img alt=\"caee logo\" src=\"images/caee_logo.png\" align=\"left\" hspace=\"10px\" vspace=\"0px\"></p>\n",
    "<p><img alt=\"iel logo\" src=\"images/iel_logo.png\" align=\"right\" hspace=\"10px\" vspace=\"0px\"></p>\n",
    "<h1 align='center'>Homework 1</h1>"
   ]
  },
  {
   "cell_type": "markdown",
   "metadata": {},
   "source": [
    "ARE 346P / CE 389H HVAC Design\n",
    "\n",
    "Professor Dr. Zoltan Nagy\n",
    "\n",
    "**Due: September 19, 2020**"
   ]
  },
  {
   "cell_type": "markdown",
   "metadata": {},
   "source": [
    "<h2>Instructions</h2>\n",
    "\n",
    "Solve each of the following problems and show your work. Make sure to label each answer with the same label as the problem.\n",
    "\n",
    "You will be graded on both the correct method and solution. Partial credit is awarded for use of the correct equation or method, correct values chosen from tables and charts when required, and the correct answer with appropriate units. \n",
    "\n",
    "This assignment includes *six* problems based on Chapters 8 and 3 from your textbook.\n",
    "\n",
    "| PROBLEM | POINTS |\n",
    "| --- | --- |\n",
    "| 8.5 | 10 pts |\n",
    "| 8.17 | 10 pts |\n",
    "| 8.20 | 10 pts |\n",
    "| 3.1 | 10 pts |\n",
    "| 3.5 | 10 pts |\n",
    "| 3.9 | 10 pts |\n",
    "| **TOTAL** | **60 pts** |"
   ]
  },
  {
   "cell_type": "markdown",
   "metadata": {},
   "source": [
    "# Problems"
   ]
  },
  {
   "attachments": {},
   "cell_type": "markdown",
   "metadata": {},
   "source": [
    "## 8.5\n",
    "\n",
    "Moist air enters a cooling coil at 28$^\\circ$C dry-bulb temperature and 50% relative humidity and exits the coil at 13$^\\circ$C dry-bulb temperature and 90% relative humidity. The flow rate through the coil is 1.50 kg$_\\text{a}$/s and the process occurs at a pressure of 101.325 kPa. Determine:\n",
    "\n",
    "1. the sensible-heat ratio for the process, and <br>\n",
    "2. the cooling-coil capacity (heat-transfer rate)"
   ]
  },
  {
   "cell_type": "markdown",
   "metadata": {},
   "source": [
    "### 8.5.1"
   ]
  },
  {
   "cell_type": "code",
   "execution_count": null,
   "metadata": {},
   "outputs": [],
   "source": []
  },
  {
   "cell_type": "markdown",
   "metadata": {},
   "source": [
    "### 8.5.2"
   ]
  },
  {
   "cell_type": "code",
   "execution_count": null,
   "metadata": {},
   "outputs": [],
   "source": []
  },
  {
   "attachments": {},
   "cell_type": "markdown",
   "metadata": {},
   "source": [
    "## 8.17\n",
    "\n",
    "An evaporative cooler (air washer) is used to cool a bus located in Phoenix. The system, similar to that shown in Figure 8.18, takes outside air, first passes it through an evaporative cooler, then passes it through the bus, and finally exhausts it back to the outside. The system operates with a mass flow rate of 11,400 lbm$_\\text{a}$/hr. On a very hot day the air exits the evaporative cooler saturated at 65$^\\circ$F. Atmospheric pressure is 14.7 psia.\n",
    "\n",
    "1. If the outdoor dry-bulb temperature is 95$^\\circ$F, what is the outdoor relative humidity?\n",
    "2. If the sensible and latent heat gains of the bus are 55,200 Btu/hr and 16,800 Btu/hr, respectively, what are the dry-bulb and dew-point temperatures in the bus?"
   ]
  },
  {
   "cell_type": "markdown",
   "metadata": {},
   "source": [
    "### 8.17.1"
   ]
  },
  {
   "cell_type": "code",
   "execution_count": null,
   "metadata": {},
   "outputs": [],
   "source": []
  },
  {
   "cell_type": "markdown",
   "metadata": {},
   "source": [
    "### 8.17.2"
   ]
  },
  {
   "cell_type": "code",
   "execution_count": null,
   "metadata": {},
   "outputs": [],
   "source": []
  },
  {
   "cell_type": "markdown",
   "metadata": {},
   "source": [
    "<h2>7.3</h2>\n",
    "    \n",
    "The atmosphere within a room is at 70$^\\circ$F dry-bulb temperature, 50% degree of saturation, and 14.696 psia pressure. The inside surface temperature of the windows is 40$^\\circ$F. Will moisture condense out of the air upon the window glass? Show your work and explain your reasoning."
   ]
  },
  {
   "cell_type": "code",
   "execution_count": null,
   "metadata": {},
   "outputs": [],
   "source": []
  },
  {
   "cell_type": "markdown",
   "metadata": {},
   "source": [
    "<h2>7.4</h2>\n",
    "\n",
    "Assume that the dimensions of the room of Problem [7.3](#7.3) are 30 ft by 15 ft by 8 ft high. Calculate the number of pounds of water vapor in the room."
   ]
  },
  {
   "cell_type": "code",
   "execution_count": null,
   "metadata": {},
   "outputs": [],
   "source": []
  },
  {
   "cell_type": "markdown",
   "metadata": {},
   "source": [
    "<h2>7.27</h2>\n",
    "\n",
    "In the psychrometric process, moist air at standard atmospheric pressure goes from state 1 at 15$^\\circ$C dry-bulb temperature and 10$^\\circ$C wet-bulb temperature to state 2 of 35$^\\circ$C dry-bulb temperature and 10$^\\circ$C dew-point temperature. By using the psychrometric chart, determine:\n",
    "\n",
    "   (a) the enthalpy-humidity ratio, q’, for the process, and <br>\n",
    "   (b) the sensible-heat ratio, SHR, for the process"
   ]
  },
  {
   "cell_type": "markdown",
   "metadata": {},
   "source": [
    "<h3>7.27a</h3>"
   ]
  },
  {
   "cell_type": "code",
   "execution_count": null,
   "metadata": {},
   "outputs": [],
   "source": []
  },
  {
   "cell_type": "markdown",
   "metadata": {},
   "source": [
    "<h3>7.27b</h3>"
   ]
  },
  {
   "cell_type": "code",
   "execution_count": null,
   "metadata": {},
   "outputs": [],
   "source": []
  }
 ],
 "metadata": {
  "kernelspec": {
   "display_name": "Python 3",
   "language": "python",
   "name": "python3"
  },
  "language_info": {
   "codemirror_mode": {
    "name": "ipython",
    "version": 3
   },
   "file_extension": ".py",
   "mimetype": "text/x-python",
   "name": "python",
   "nbconvert_exporter": "python",
   "pygments_lexer": "ipython3",
   "version": "3.7.0"
  }
 },
 "nbformat": 4,
 "nbformat_minor": 4
}
