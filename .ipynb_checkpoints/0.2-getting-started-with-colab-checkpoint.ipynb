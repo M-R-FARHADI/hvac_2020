{
 "cells": [
  {
   "cell_type": "markdown",
   "metadata": {},
   "source": [
    "<h1>Getting Starting with Google's Colaboratory</h1>\n",
    "\n",
    "<p><img alt=\"Jupyter logo\" src=\"https://miro.medium.com/max/1400/1*7oukapIBInsovpHkQB3QZg.jpeg\" align=\"left\" hspace=\"10px\" vspace=\"0px\"></p>\n",
    "\n",
    "Colab is a *free* way that you can collaborate with your peers on a document that allows you to combine Python code with rich text. The main benefits of Colab include:\n",
    "\n",
    "- **No** configuration necessary i.e. you don't need to download/install anything to your machine\n",
    "- Works seemlessly with Google Drive"
   ]
  },
  {
   "cell_type": "markdown",
   "metadata": {},
   "source": [
    "<div class=\"alert alert-block alert-info\">\n",
    "<b>Resource:</b> <A HREF=\"https://www.youtube.com/watch?v=inN8seMm7UI\">Here</A> is a short video that gives a nice introduction to Colab's basic features.\n",
    "</div>"
   ]
  },
  {
   "cell_type": "markdown",
   "metadata": {},
   "source": [
    "All the tips and tricks on how to use Jupyter notebooks we outlined in our other document *getting-started-with-jupyter-notebooks* translates to Google Colab. However as most of you will be using Colab for your assignments, we will go over this software in more detail in addition to covering a few specific features to Colab."
   ]
  },
  {
   "cell_type": "markdown",
   "metadata": {},
   "source": [
    "<h1>Working in the Colab Environment</h1> \n",
    "\n",
    "When you open up a new notebook in colab, you will find yourself here:\n",
    "\n",
    "<p><img alt=\"colab start\" src=\"images/colab_start.png\" align=\"left\" hspace=\"10px\" vspace=\"0px\"></p>"
   ]
  },
  {
   "cell_type": "markdown",
   "metadata": {},
   "source": [
    "## Some Notes on the Dropdown Options\n",
    "In this section we will go over four of the dropdown menus and what options will be most common/useful for you. Many of these are similar to what you would find on software like Word/Excel/Powerpoint."
   ]
  },
  {
   "cell_type": "markdown",
   "metadata": {},
   "source": [
    "### File\n",
    "\n",
    "<p><img alt=\"colab file\" src=\"images/colab_file.png\" align=\"left\" hspace=\"10px\" vspace=\"0px\"></p>"
   ]
  },
  {
   "cell_type": "markdown",
   "metadata": {},
   "source": [
    "The ```File``` dropdown menu will allow you to do basic functions such as:\n",
    "\n",
    "- Create, open, rename, or delete a notebook\n",
    "- Save the notebook \n",
    "- View the revision history (can be very handy if you make one change that creates all sorts of errors)\n",
    "- Download as a separate file in either notebook format (.ipynb) or as a Python script (.py)"
   ]
  },
  {
   "cell_type": "markdown",
   "metadata": {},
   "source": [
    "<div class=\"alert alert-block alert-warning\">\n",
    "<b>Note:</b> You can rename the notebook by clicking on the title - in our case <i>Untitled0.ipynb</i>.\n",
    "</div>"
   ]
  },
  {
   "cell_type": "markdown",
   "metadata": {},
   "source": [
    "### Edit\n",
    "\n",
    "<p><img alt=\"colab edit\" src=\"images/colab_edit.png\" align=\"left\" hspace=\"10px\" vspace=\"0px\"></p>"
   ]
  },
  {
   "cell_type": "markdown",
   "metadata": {},
   "source": [
    "The ```Edit``` dropdown contains three of the more common editting tools. You might want to familiarize yourself with the keyboard shortcuts for these (especially for ```Undo``` and ```Delete selected cells```).\n",
    "    \n",
    "- Undo will reset the last change you just made i.e. go backward in revision history\n",
    "- Redo is the opposite of undo i.e. go forward in your revision history (if possible)\n",
    "- Delete will remove the currently selected cell "
   ]
  },
  {
   "cell_type": "markdown",
   "metadata": {},
   "source": [
    "### Insert\n",
    "\n",
    "<p><img alt=\"colab insert\" src=\"images/colab_insert.png\" align=\"left\" hspace=\"10px\" vspace=\"0px\"></p>"
   ]
  },
  {
   "cell_type": "markdown",
   "metadata": {},
   "source": [
    "The ```Insert``` dropdown menu is one you most likely will **not** need since the two main functions can be accessed elsewhere.\n",
    "\n",
    "- Choosing ```Code cell``` will insert a new **code** cell beneath the cell you currently have selected\n",
    "- Choosing ```Text cell``` will insert a new **text** cell beneath the cell you currently have selected"
   ]
  },
  {
   "cell_type": "markdown",
   "metadata": {},
   "source": [
    "<div class=\"alert alert-block alert-warning\">\n",
    "    <b>Note:</b> You can easily insert code and text cells by choosing the options directly under the dropdown menus.\n",
    "</div>\n",
    "\n",
    "<img alt=\"colab easy insert\" src=\"images/colab_easy_insert2.png\" align=\"left\" hspace=\"10px\" vspace=\"0px\">"
   ]
  },
  {
   "cell_type": "markdown",
   "metadata": {},
   "source": [
    "### Runtime\n",
    "\n",
    "<p><img alt=\"colab runtime\" src=\"images/colab_runtime.png\" align=\"left\" hspace=\"10px\" vspace=\"0px\"></p>"
   ]
  },
  {
   "cell_type": "markdown",
   "metadata": {},
   "source": [
    "The ```Runtime``` menu has a few useful options that will primarily save you time.\n",
    "\n",
    "- You can run all cells, all cells above the currently selected cell, and all the cells after the currently selected cell\n",
    "- If you ever get stuck in a lengthy execution or infinite loop, you can interrupt the execution\n",
    "- Sometimes you might want to restart the notebook which clears all the previously saved variables"
   ]
  },
  {
   "cell_type": "markdown",
   "metadata": {},
   "source": [
    "## Using Cells\n",
    "Blank text and code cells are noticeably different. Text cells will appear filled, prompting you to double click them to edit while code cells will be blank but contain two square brackets at the far left end of the cell:"
   ]
  },
  {
   "cell_type": "markdown",
   "metadata": {},
   "source": [
    "<p><img alt=\"colab blank cells\" src=\"images/colab_blanks.png\" align=\"left\" hspace=\"10px\" vspace=\"0px\"></p>"
   ]
  },
  {
   "cell_type": "markdown",
   "metadata": {},
   "source": [
    "To **edit** either type of cell, you simply need to double click the cell. \n",
    "\n",
    "To **execute** the cell, the simplest way is to press ```shift```+```enter``` on your keyboard"
   ]
  },
  {
   "cell_type": "markdown",
   "metadata": {},
   "source": [
    "### Text Cells\n",
    "Text cells support the Markdown markup language in addition to some basic HTML commands. "
   ]
  },
  {
   "cell_type": "code",
   "execution_count": null,
   "metadata": {},
   "outputs": [],
   "source": []
  },
  {
   "cell_type": "markdown",
   "metadata": {},
   "source": [
    "### Coding Cells\n",
    "Coding cells"
   ]
  },
  {
   "cell_type": "markdown",
   "metadata": {},
   "source": []
  }
 ],
 "metadata": {
  "kernelspec": {
   "display_name": "Python 3",
   "language": "python",
   "name": "python3"
  },
  "language_info": {
   "codemirror_mode": {
    "name": "ipython",
    "version": 3
   },
   "file_extension": ".py",
   "mimetype": "text/x-python",
   "name": "python",
   "nbconvert_exporter": "python",
   "pygments_lexer": "ipython3",
   "version": "3.7.0"
  }
 },
 "nbformat": 4,
 "nbformat_minor": 4
}
