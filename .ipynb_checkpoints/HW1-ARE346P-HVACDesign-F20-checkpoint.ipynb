{
 "cells": [
  {
   "cell_type": "markdown",
   "metadata": {},
   "source": [
    "<p><img alt=\"caee logo\" src=\"images/caee_logo.png\" align=\"left\" hspace=\"10px\" vspace=\"0px\"></p>\n",
    "<p><img alt=\"iel logo\" src=\"images/iel_logo.png\" align=\"right\" hspace=\"10px\" vspace=\"0px\"></p>\n",
    "<h1 align='center'>Homework 1</h1>"
   ]
  },
  {
   "cell_type": "markdown",
   "metadata": {},
   "source": [
    "ARE 346P / CE 389H HVAC Design\n",
    "\n",
    "Professor Dr. Zoltan Nagy\n",
    "\n",
    "**Due: September 19, 2020**"
   ]
  },
  {
   "attachments": {},
   "cell_type": "markdown",
   "metadata": {},
   "source": [
    "<h2>Instructions</h2>\n",
    "\n",
    "Solve each of the following problems and show your work. Make sure to label each answer with the same label as the problem.\n",
    "\n",
    "You will be graded on both the correct method and solution. Partial credit is awarded for use of the correct equation or method, correct values chosen from tables and charts when required, and the correct answer with appropriate units. \n",
    "\n",
    "This assignment includes *five* problems based on Chapter 7 from your textbook.\n",
    "\n",
    "| PROBLEM | POINTS |\n",
    "| --- | --- |\n",
    "| 7.1 | 8 pts |\n",
    "| 7.21 | 4 pts |\n",
    "| 7.3 | 4 pts |\n",
    "| 7.4 | 4 pts |\n",
    "| 7.27 | 5 pts |\n",
    "| **TOTAL** | **25 pts** |"
   ]
  },
  {
   "cell_type": "markdown",
   "metadata": {},
   "source": [
    "<h2>Navigation</h2>\n",
    "\n",
    "Click on the hyperlink below to go to the problem you are interested in:\n",
    "\n",
    "- [7.1](#7.1)\n",
    "- [7.21](#7.21)\n",
    "- [7.3](#7.3)\n",
    "- [7.4](#7.4)\n",
    "- [7.27](#7.27)"
   ]
  },
  {
   "attachments": {},
   "cell_type": "markdown",
   "metadata": {},
   "source": [
    "<h2>7.1</h2>\n",
    "\n",
    "Moist air exists at 80$^\\circ$F dry-bulb temperature, 0.0150 lbm$_{w}$/lbm$_a$ humidity ratio, and 14.696 psia pressure. Through the use of <u>Table A.4 and fundamental relations</u>, determine:\n",
    "\n",
    "   (a) the dew-point temperature, <br>\n",
    "   (b) relative humidity, <br>\n",
    "   (c) volume in ft$^3$/lbm$_a$, and <br>\n",
    "   (d) the enthalpy in Btu/lbm$_a$ <br>\n",
    "\n",
    "**Note**: Do not use the psychrometric chart for this problem"
   ]
  },
  {
   "cell_type": "markdown",
   "metadata": {},
   "source": [
    "<h3>7.1a</h3>"
   ]
  },
  {
   "cell_type": "code",
   "execution_count": null,
   "metadata": {},
   "outputs": [],
   "source": []
  },
  {
   "cell_type": "markdown",
   "metadata": {},
   "source": [
    "<h3>7.1b</h3>"
   ]
  },
  {
   "cell_type": "code",
   "execution_count": null,
   "metadata": {},
   "outputs": [],
   "source": []
  },
  {
   "cell_type": "markdown",
   "metadata": {},
   "source": [
    "<h3>7.1c</h3>"
   ]
  },
  {
   "cell_type": "code",
   "execution_count": null,
   "metadata": {},
   "outputs": [],
   "source": []
  },
  {
   "cell_type": "markdown",
   "metadata": {},
   "source": [
    "<h3>7.1d</h3>"
   ]
  },
  {
   "cell_type": "code",
   "execution_count": null,
   "metadata": {},
   "outputs": [],
   "source": []
  },
  {
   "cell_type": "markdown",
   "metadata": {},
   "source": [
    "<h2>7.21</h2>\n",
    "\n",
    "Re-work Problem [7.1](#7.1) again but using the psychrometric chart. Compare your answers to those you found in 7.1. Write out the answers and a brief explanation for each part.\n",
    "\n",
    "   (a) the dew-point temperature, <br>\n",
    "   (b) relative humidity, <br>\n",
    "   (c) volume in ft$^3$/lbm$_a$, and <br>\n",
    "   (d) the enthalpy in Btu/lbm$_a$ <br>\n"
   ]
  },
  {
   "cell_type": "markdown",
   "metadata": {},
   "source": [
    "<h3>7.1a</h3>"
   ]
  },
  {
   "cell_type": "code",
   "execution_count": null,
   "metadata": {},
   "outputs": [],
   "source": []
  },
  {
   "cell_type": "markdown",
   "metadata": {},
   "source": [
    "<h3>7.1b</h3>"
   ]
  },
  {
   "cell_type": "code",
   "execution_count": null,
   "metadata": {},
   "outputs": [],
   "source": []
  },
  {
   "cell_type": "markdown",
   "metadata": {},
   "source": [
    "<h3>7.1c</h3>"
   ]
  },
  {
   "cell_type": "code",
   "execution_count": null,
   "metadata": {},
   "outputs": [],
   "source": []
  },
  {
   "cell_type": "markdown",
   "metadata": {},
   "source": [
    "<h3>7.1d</h3>"
   ]
  },
  {
   "cell_type": "code",
   "execution_count": null,
   "metadata": {},
   "outputs": [],
   "source": []
  },
  {
   "attachments": {},
   "cell_type": "markdown",
   "metadata": {},
   "source": [
    "<h2>7.3</h2>\n",
    "    \n",
    "The atmosphere within a room is at 70$^\\circ$F dry-bulb temperature, 50% degree of saturation, and 14.696 psia pressure. The inside surface temperature of the windows is 40$^\\circ$F. Will moisture condense out of the air upon the window glass? Show your work and explain your reasoning."
   ]
  },
  {
   "cell_type": "code",
   "execution_count": null,
   "metadata": {},
   "outputs": [],
   "source": []
  },
  {
   "attachments": {},
   "cell_type": "markdown",
   "metadata": {},
   "source": [
    "<h2>7.4</h2>\n",
    "\n",
    "Assume that the dimensions of the room of Problem [7.3](#7.3) are 30 ft by 15 ft by 8 ft high. Calculate the number of pounds of water vapor in the room."
   ]
  },
  {
   "cell_type": "code",
   "execution_count": null,
   "metadata": {},
   "outputs": [],
   "source": []
  },
  {
   "attachments": {},
   "cell_type": "markdown",
   "metadata": {},
   "source": [
    "<h2>7.27</h2>\n",
    "\n",
    "In the psychrometric process, moist air at standard atmospheric pressure goes from state 1 at 15$^\\circ$C dry-bulb temperature and 10$^\\circ$C wet-bulb temperature to state 2 of 35$^\\circ$C dry-bulb temperature and 10$^\\circ$C dew-point temperature. By using the psychrometric chart, determine:\n",
    "\n",
    "   (a) the enthalpy-humidity ratio, q’, for the process, and <br>\n",
    "   (b) the sensible-heat ratio, SHR, for the process"
   ]
  },
  {
   "cell_type": "markdown",
   "metadata": {},
   "source": [
    "<h3>7.27a</h3>"
   ]
  },
  {
   "cell_type": "code",
   "execution_count": null,
   "metadata": {},
   "outputs": [],
   "source": []
  },
  {
   "cell_type": "markdown",
   "metadata": {},
   "source": [
    "<h3>7.27b</h3>"
   ]
  },
  {
   "cell_type": "code",
   "execution_count": null,
   "metadata": {},
   "outputs": [],
   "source": []
  }
 ],
 "metadata": {
  "kernelspec": {
   "display_name": "Python 3",
   "language": "python",
   "name": "python3"
  },
  "language_info": {
   "codemirror_mode": {
    "name": "ipython",
    "version": 3
   },
   "file_extension": ".py",
   "mimetype": "text/x-python",
   "name": "python",
   "nbconvert_exporter": "python",
   "pygments_lexer": "ipython3",
   "version": "3.7.0"
  }
 },
 "nbformat": 4,
 "nbformat_minor": 4
}
